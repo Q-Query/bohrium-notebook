{
 "cells": [
  {
   "cell_type": "markdown",
   "id": "244685c4-43a2-4ebb-8955-b5f017f03980",
   "metadata": {},
   "source": [
    "# 快速开始 DeePMD-kit｜训练甲烷深度势能分子动力学模型\n",
    "\n",
    "> 作者: YuZhi Zhang [zhangyz@dp.tech](mailto:zhangyz@dp.tech)\n",
    ">\n",
    "> 创建日期: 2023-03-26 19:13\n",
    ">\n",
    "> 最后一次修改: Haohui Que [quehaohui@dp.tech](mailto:quehaohui@dp.tech), \n",
    ">\n",
    "> 最后一次修改时间: 2023-03-27 17:06\n",
    ">\n",
    "> 描述: 本教程可在 Bohrium Notebook 上直接运行。你可以点击界面上方蓝色按钮 `开始连接`，选择 `bohrium-notebook` 镜像及 `c8_m16_cpu` 节点配置，稍等片刻即可运行。\n",
    "> 如您遇到任何问题，请联系 [bohrium@dp.tech](mailto:bohrium@dp.tech) 。\n",
    ">\n",
    "> 共享协议: 本作品采用[知识共享署名-非商业性使用-相同方式共享 4.0 国际许可协议](https://creativecommons.org/licenses/by-nc-sa/4.0/)进行许可。"
   ]
  },
  {
   "cell_type": "markdown",
   "id": "86cde33f-a3f4-46ec-a3e6-bb4fff8adb91",
   "metadata": {},
   "source": [
    "## 目标\n",
    "\n",
    "> **掌握使用 DeePMD-kit 建立深度势能分子动力学模型的范式周期，并跟随完整案例学习如何应用于分子动力学任务。**\n",
    "\n",
    "在学习本教程后，你将能够：\n",
    "\n",
    "* 了解 DeePMD-kit 训练所需的数据格式及运行脚本\n",
    "* 训练、冻结、测试 DeePMD-kit 模型\n",
    "* 在分子动力学软件 Lammps 中调用 DeePMD-kit 进行计算。\n",
    "\n",
    "**阅读该教程【最多】约需 20 分钟，让我们开始吧！**"
   ]
  },
  {
   "cell_type": "markdown",
   "id": "88d173e4-b1a2-4d41-b20b-b4d646fb2160",
   "metadata": {},
   "source": [
    "## 目录\n",
    "\n",
    "* [背景](#background)\n",
    "* [实践](#practice)\n",
    "    * [1. 数据准备](#dataprepare)\n",
    "    * [2. 准备输入脚本](#inputscript)\n",
    "    * [3. 训练模型](#train)\n",
    "    * [4. 冻结模型](#freeze)\n",
    "    * [5. 测试模型](#test)\n",
    "    * [6. 使用 Lammps 进行 MD 计算](#lammpsmd)\n",
    "* * [参考](#references)"
   ]
  },
  {
   "cell_type": "markdown",
   "id": "1c22fe91-84f8-4288-8aba-87ed3282b474",
   "metadata": {},
   "source": [
    "## 背景 <a id ='background'></a>\n",
    "\n",
    "本教程将以气态甲烷分子为例，介绍DeePMD-kit的基本用法。建议使用[DeePMD-kit的文档](https://docs.deepmodeling.org/projects/deepmd/en/master/index.html)作为完整的参考。\n",
    "\n",
    "Deep Potential (DP) 模型是使用 DeePMD-kit 包（v2.1.5）生成的。\n",
    "\n",
    "训练数据使用名为dpdata（v0.2.14）的工具转换成DeePMD-kit格式。\n",
    "\n",
    "有关dpdata和DeePMD-kit安装和执行的详细信息，请参阅[DeepModeling GitHub](https://github.com/deepmodeling)。"
   ]
  },
  {
   "cell_type": "markdown",
   "id": "d7897ee7-0a18-4281-836f-5f48eb6220b7",
   "metadata": {},
   "source": [
    "## 实践 <a id ='practice'></a>"
   ]
  },
  {
   "cell_type": "markdown",
   "id": "6b9aaba6-e7b4-4e8a-8fa5-1ab2166d3ebd",
   "metadata": {},
   "source": [
    "### 1 数据准备 <a id ='dataprepare'></a>\n",
    "\n",
    "我们已经为您准备了 $CH_4$ 的初始数据，并将其放置在文件夹`colombo-academy-tutorials/DeePMD-kit/00.data`中。\n",
    "\n",
    "让我们通过 git 获取本教程所需的数据。获取的数据将放置于 `colombo-academy-tutorials` 目录下。"
   ]
  },
  {
   "cell_type": "code",
   "execution_count": 1,
   "id": "b922a1e7-906b-4153-93a7-a44c5140b097",
   "metadata": {},
   "outputs": [
    {
     "name": "stdout",
     "output_type": "stream",
     "text": [
      "Cloning into 'colombo-academy-tutorials'...\n",
      "remote: Enumerating objects: 7164, done.\u001b[K\n",
      "remote: Counting objects: 100% (174/174), done.\u001b[K\n",
      "remote: Compressing objects: 100% (138/138), done.\u001b[K\n",
      "remote: Total 7164 (delta 78), reused 71 (delta 32), pack-reused 6990\u001b[K\n",
      "Receiving objects: 100% (7164/7164), 45.31 MiB | 3.87 MiB/s, done.\n",
      "Resolving deltas: 100% (3378/3378), done.\n",
      "Updating files: 100% (185/185), done.\n"
     ]
    }
   ],
   "source": [
    "! if ! [ -e colombo-academy-tutorials ];then git clone https://gitee.com/deepmodeling/colombo-academy-tutorials.git;fi;"
   ]
  },
  {
   "cell_type": "markdown",
   "id": "f8335d45-49ae-49a8-948d-2d0243ec52d6",
   "metadata": {},
   "source": [
    "文件夹 `abacus_md` 是通过使用 ABACUS 进行从头算分子动力学（AIMD）获得的。有关 ABACUS 的详细说明可以在其[文档](https://abacus.deepmodeling.com/en/latest/)中找到。"
   ]
  },
  {
   "cell_type": "code",
   "execution_count": 2,
   "id": "72d08056-f25d-4e3f-ad5d-8141c90b97a4",
   "metadata": {},
   "outputs": [
    {
     "data": {
      "text/plain": [
       "['C_ONCV_PBE-1.2.upf',\n",
       " 'C_gga_6au_100Ry_2s2p1d.orb',\n",
       " 'H_ONCV_PBE-1.2.upf',\n",
       " 'H_gga_6au_100Ry_2s1p.orb',\n",
       " 'INPUT',\n",
       " 'KPT',\n",
       " 'OUT.ABACUS',\n",
       " 'STRU']"
      ]
     },
     "execution_count": 2,
     "metadata": {},
     "output_type": "execute_result"
    }
   ],
   "source": [
    "# 查看 abacus_md 文件夹下的文件\n",
    "import os\n",
    "\n",
    "# 获取当前位置的根路径\n",
    "prefix_path = os.getcwd()\n",
    "# os.chdir()用于改变当前工作目录到指定的路径。\n",
    "# os.path.join() 指定路径为 ‘当前路径/colombo-academy-tutorials/DeePMD-kit/00.data’。\n",
    "os.chdir(os.path.join(prefix_path, \"colombo-academy-tutorials\", \"DeePMD-kit\", \"00.data\"))\n",
    "# os.listdir() 列出 abacus 文件下的目录\n",
    "os.listdir(\"abacus_md\")"
   ]
  },
  {
   "cell_type": "markdown",
   "id": "837b5850-1e0b-43ad-9fcd-1930eff0ce1c",
   "metadata": {},
   "source": [
    "DeePMD-kit的训练数据包含原子类型、模拟晶格、原子坐标、原子力、系统能量和维里量。具有此信息的分子系统的快照称为帧。数据系统包括许多共享相同原子数和原子类型的帧。例如，分子动力学轨迹可以转换为数据系统，其中每个时间步长对应于系统中的一帧。\n",
    "\n",
    "我们提供了一个方便的工具dpdata，可以将由CP2K、Gaussian、Quantum-Espresso、ABACUS和LAMMPS产生的数据转换为DeePMD-kit的压缩格式。"
   ]
  },
  {
   "cell_type": "markdown",
   "id": "7310829a-2f1d-4661-bdbb-cc3b114d15ed",
   "metadata": {},
   "source": [
    "接下来，*ab initio* Molecular Dynamics(AIMD) 的数据将被随机分成训练和验证数据。"
   ]
  },
  {
   "cell_type": "code",
   "execution_count": 3,
   "id": "b2729a1a-6f1e-4de1-aeae-1088833b033b",
   "metadata": {},
   "outputs": [
    {
     "name": "stdout",
     "output_type": "stream",
     "text": [
      "# 数据包含201帧\n",
      "# 训练数据包含161帧\n",
      "# 验证数据包含40帧\n"
     ]
    }
   ],
   "source": [
    "import dpdata \n",
    "import numpy as np\n",
    "\n",
    "# 消除警告\n",
    "import warnings\n",
    "warnings.filterwarnings('ignore')\n",
    "\n",
    "# 读入 ABACUS/MD 格式的数据\n",
    "data = dpdata.LabeledSystem('abacus_md', fmt = 'abacus/md') \n",
    "print('# 数据包含%d帧' % len(data))\n",
    "\n",
    "# 随机选择40个索引作为验证集数据\n",
    "index_validation = np.random.choice(201,size=40,replace=False)\n",
    "# 其他索引作为训练集数据\n",
    "index_training = list(set(range(201))-set(index_validation))\n",
    "data_training = data.sub_system(index_training)\n",
    "data_validation = data.sub_system(index_validation)\n",
    "# 将所有训练数据放入文件夹\"training_data\"中\n",
    "data_training.to_deepmd_npy('training_data')\n",
    "# 将所有验证数据放入文件夹\"validation_data\"中\n",
    "data_validation.to_deepmd_npy('validation_data')\n",
    "\n",
    "print('# 训练数据包含%d帧' % len(data_training)) \n",
    "print('# 验证数据包含%d帧' % len(data_validation))"
   ]
  },
  {
   "cell_type": "markdown",
   "id": "b0dca44c-baca-4936-afe1-1a484d04dc01",
   "metadata": {},
   "source": [
    "可以看到，161个帧被选为训练数据，其他40个帧是验证数据。"
   ]
  },
  {
   "cell_type": "markdown",
   "id": "3fc3ccf3-5143-45e2-9a53-b1766d6c9bf2",
   "metadata": {},
   "source": [
    "DeePMD-kit 采用压缩数据格式。所有训练数据应首先转换为此格式，然后可以在DeePMD-kit中使用。该数据格式在DeePMD-kit 手册中有详细解释，可以在[DeePMD-kit Github](http://www.github.com/deepmodeling/deepmd-kit)中找到。\n",
    "\n",
    "让我们来查看一下训练集。"
   ]
  },
  {
   "cell_type": "code",
   "execution_count": 4,
   "id": "06bf0701-347e-4eaf-9532-752a5d602d78",
   "metadata": {},
   "outputs": [
    {
     "name": "stdout",
     "output_type": "stream",
     "text": [
      "\u001b[01;34mtraining_data\u001b[00m\n",
      "├── \u001b[01;34mset.000\u001b[00m\n",
      "│   ├── box.npy\n",
      "│   ├── coord.npy\n",
      "│   ├── energy.npy\n",
      "│   ├── force.npy\n",
      "│   └── virial.npy\n",
      "├── type.raw\n",
      "└── type_map.raw\n",
      "\n",
      "1 directory, 7 files\n"
     ]
    }
   ],
   "source": [
    "! tree training_data"
   ]
  },
  {
   "cell_type": "code",
   "execution_count": 5,
   "id": "9069137f-8e2a-415c-bd88-867ac4604294",
   "metadata": {},
   "outputs": [
    {
     "name": "stdout",
     "output_type": "stream",
     "text": [
      "0\n",
      "0\n",
      "0\n",
      "0\n",
      "1\n"
     ]
    }
   ],
   "source": [
    "! cat training_data/type.raw "
   ]
  },
  {
   "cell_type": "markdown",
   "id": "679346e2-5631-492f-adde-fa96029afc30",
   "metadata": {},
   "source": [
    "这告诉我们这个例子中有5个原子，其中4个原子由类型\"0\"表示，1个原子由类型\"1\"表示。有时需要将整数类型映射到原子名称。映射可以通过文件`type_map.raw`给出。"
   ]
  },
  {
   "cell_type": "code",
   "execution_count": 6,
   "id": "f899d79c-17e4-4b50-a010-d40603fb15a0",
   "metadata": {},
   "outputs": [
    {
     "name": "stdout",
     "output_type": "stream",
     "text": [
      "H\n",
      "C\n"
     ]
    }
   ],
   "source": [
    "! cat training_data/type_map.raw "
   ]
  },
  {
   "cell_type": "markdown",
   "id": "d0db252d-020b-46de-a2ca-a9d7511926f6",
   "metadata": {},
   "source": [
    "这告诉我们类型“0”被命名为“H”，类型“1”被命名为“C”。\n",
    "\n",
    "有关数据转换的更详细文档可以在[这里](https://docs.deepmodeling.org/projects/deepmd/en/master/data/data-conv.html)找到。"
   ]
  },
  {
   "cell_type": "markdown",
   "id": "be7bd91e-9323-4b4e-a810-7498a47410c2",
   "metadata": {},
   "source": [
    "### 2 准备输入脚本 <a id ='inputscript'></a>\n",
    "\n",
    "一旦数据准备完成，我们就可以进行训练。现在进入训练目录。"
   ]
  },
  {
   "cell_type": "code",
   "execution_count": 7,
   "id": "8a1fc410-bf17-46a3-b192-809f4c8da387",
   "metadata": {},
   "outputs": [],
   "source": [
    "os.chdir(os.path.join(prefix_path, \"colombo-academy-tutorials\", \"DeePMD-kit\", \"01.train\"))"
   ]
  },
  {
   "cell_type": "markdown",
   "id": "f045c1f5-fd32-4e68-8905-abd8e5d7c85c",
   "metadata": {},
   "source": [
    "DeePMD-kit需要一个`json`格式的文件来指定训练参数。\n",
    "\n",
    "在模型部分，指定了嵌入和拟合网络的参数。\n",
    "\n",
    "```json\n",
    "\"model\":{\n",
    "    \"type_map\":    [\"H\", \"C\"],                 \n",
    "    \"descriptor\":{\n",
    "        \"type\":            \"se_e2_a\",          \n",
    "        \"rcut\":            6.00,               \n",
    "        \"rcut_smth\":       0.50,               \n",
    "        \"sel\":             \"auto\",             \n",
    "        \"neuron\":          [25, 50, 100],       \n",
    "        \"resnet_dt\":       false,\n",
    "        \"axis_neuron\":     16,                  \n",
    "        \"seed\":            1,\n",
    "        \"_comment\":        \"that's all\"\n",
    "        },\n",
    "    \"fitting_net\":{\n",
    "        \"neuron\":          [240, 240, 240],    \n",
    "        \"resnet_dt\":       true,\n",
    "        \"seed\":            1,\n",
    "        \"_comment\":        \"that's all\"\n",
    "    },\n",
    "    \"_comment\":    \"that's all\"'\n",
    "},\n",
    "```\n",
    "\n",
    "部分参数的解释如下：\n",
    "\n",
    "| 参数                | 解释                                                    |\n",
    "| ------------------------ | ------------------------------------------------------------ |\n",
    "| type_map                 | 每种原子的名称             |\n",
    "| descriptor > type        | 描述类型                               |\n",
    "| descriptor > rcut        | 截断半径                                          |\n",
    "| descriptor > rcut_smth   | 平滑开始的位置                           |\n",
    "| descriptor > sel         | 切割半径内第i种原子的最大数目 |\n",
    "| descriptor > neuron      | 嵌入神经网络的大小             |\n",
    "| descriptor > axis_neuron | G矩阵的子矩阵大小(嵌入矩阵) |\n",
    "| fitting_net > neuron     | 拟合神经网络的大小               |\n",
    "\n",
    "使用`se_e2_a`描述符来训练DP模型。`neurons`的参数将描述符和拟合网络的大小分别设置为[25, 50, 100]和[240, 240, 240]。本地环境中的组成部分会在从0.5到6 Å的范围内平滑地趋于零。\n",
    "\n",
    "以下是指定学习率和损失函数的参数。\n",
    "\n",
    "```json\n",
    "    \"learning_rate\" :{\n",
    "        \"type\":                \"exp\",\n",
    "        \"decay_steps\":         50,\n",
    "        \"start_lr\":            0.001,    \n",
    "        \"stop_lr\":             3.51e-8,\n",
    "        \"_comment\":            \"that's all\"\n",
    "    },\n",
    "    \"loss\" :{\n",
    "        \"type\":                \"ener\",\n",
    "        \"start_pref_e\":        0.02,\n",
    "        \"limit_pref_e\":        1,\n",
    "        \"start_pref_f\":        1000,\n",
    "        \"limit_pref_f\":        1,\n",
    "        \"start_pref_v\":        0,\n",
    "        \"limit_pref_v\":        0,\n",
    "        \"_comment\":            \"that's all\"\n",
    "    },\n",
    "```\n",
    "\n",
    "在损失函数中，`pref_e`从0.02逐渐增加到1，`pref_f`从1000逐渐减小到1，这意味着力项在开始时占主导地位，而能量和压力项在最后变得重要。这种策略非常有效，并减少了总的训练时间。`pref_v`设置为0，表示训练过程中不包括压力数据。起始学习率、终止学习率和衰减步数分别设置为0.001、3.51e-8和50。模型训练10000步。\n",
    "\n",
    "训练参数如下所示：\n",
    "\n",
    "```json\n",
    "    \"training\" : {\n",
    "        \"training_data\": {\n",
    "            \"systems\":            [\"../00.data/training_data\"],     \n",
    "            \"batch_size\":         \"auto\",                       \n",
    "            \"_comment\":           \"that's all\"\n",
    "        },\n",
    "        \"validation_data\":{\n",
    "            \"systems\":            [\"../00.data/validation_data/\"],\n",
    "            \"batch_size\":         \"auto\",               \n",
    "            \"numb_btch\":          1,\n",
    "            \"_comment\":           \"that's all\"\n",
    "        },\n",
    "        \"numb_steps\":             10000,                           \n",
    "        \"seed\":                   10,\n",
    "        \"disp_file\":              \"lcurve.out\",\n",
    "        \"disp_freq\":              200,\n",
    "        \"save_freq\":              10000,\n",
    "        },\n",
    "```"
   ]
  },
  {
   "cell_type": "markdown",
   "id": "163385a7-720b-4df2-95f7-a75a7406a516",
   "metadata": {},
   "source": [
    "有关数据转换的更详细文档可以在[这里](https://docs.deepmodeling.org/projects/deepmd/en/master/data/data-conv.html)找到。"
   ]
  },
  {
   "cell_type": "markdown",
   "id": "43be708e-e28a-41b5-bf79-e387d6106a59",
   "metadata": {},
   "source": [
    "### 3 训练模型 <a id ='train'></a>\n",
    "\n",
    "准备好训练脚本后，我们可以通过简单地运行DeePMD-kit来开始训练。"
   ]
  },
  {
   "cell_type": "code",
   "execution_count": 8,
   "id": "4d571a2c-2c61-43e2-9441-ad9f1f27921d",
   "metadata": {
    "scrolled": true,
    "tags": []
   },
   "outputs": [
    {
     "name": "stdout",
     "output_type": "stream",
     "text": [
      "2023-04-14 13:13:10.806065: I tensorflow/core/platform/cpu_feature_guard.cc:193] This TensorFlow binary is optimized with oneAPI Deep Neural Network Library (oneDNN) to use the following CPU instructions in performance-critical operations:  AVX2 AVX512F FMA\n",
      "To enable them in other operations, rebuild TensorFlow with the appropriate compiler flags.\n",
      "2023-04-14 13:13:13.862244: W tensorflow/compiler/xla/stream_executor/platform/default/dso_loader.cc:64] Could not load dynamic library 'libnvinfer.so.7'; dlerror: libnvinfer.so.7: cannot open shared object file: No such file or directory; LD_LIBRARY_PATH: /usr/mpi/gcc/openmpi-4.1.0rc5/lib:/usr/local/nccl-rdma-sharp-plugins/lib:/usr/local/nvidia/lib64:/usr/local/cuda/lib64:/usr/local/nvidia/lib:/usr/local/nvidia/lib64\n",
      "2023-04-14 13:13:13.863464: W tensorflow/compiler/xla/stream_executor/platform/default/dso_loader.cc:64] Could not load dynamic library 'libnvinfer_plugin.so.7'; dlerror: libnvinfer_plugin.so.7: cannot open shared object file: No such file or directory; LD_LIBRARY_PATH: /usr/mpi/gcc/openmpi-4.1.0rc5/lib:/usr/local/nccl-rdma-sharp-plugins/lib:/usr/local/nvidia/lib64:/usr/local/cuda/lib64:/usr/local/nvidia/lib:/usr/local/nvidia/lib64\n",
      "2023-04-14 13:13:13.863487: W tensorflow/compiler/tf2tensorrt/utils/py_utils.cc:38] TF-TRT Warning: Cannot dlopen some TensorRT libraries. If you would like to use Nvidia GPU with TensorRT, please make sure the missing libraries mentioned above are installed properly.\n",
      "WARNING:tensorflow:From /opt/conda/lib/python3.8/site-packages/tensorflow/python/compat/v2_compat.py:107: disable_resource_variables (from tensorflow.python.ops.variable_scope) is deprecated and will be removed in a future version.\n",
      "Instructions for updating:\n",
      "non-resource variables are not supported in the long term\n",
      "WARNING:root:To get the best performance, it is recommended to adjust the number of threads by setting the environment variables OMP_NUM_THREADS, TF_INTRA_OP_PARALLELISM_THREADS, and TF_INTER_OP_PARALLELISM_THREADS.\n",
      "WARNING:deepmd.train.run_options:Switch to serial execution due to lack of horovod module.\n",
      "DEEPMD INFO    Calculate neighbor statistics... (add --skip-neighbor-stat to skip this step)\n",
      "2023-04-14 13:13:21.322510: W tensorflow/compiler/xla/stream_executor/platform/default/dso_loader.cc:64] Could not load dynamic library 'libcuda.so.1'; dlerror: /usr/lib/x86_64-linux-gnu/libcuda.so.1: file too short; LD_LIBRARY_PATH: /usr/mpi/gcc/openmpi-4.1.0rc5/lib:/usr/local/nccl-rdma-sharp-plugins/lib:/usr/local/nvidia/lib64:/usr/local/cuda/lib64:/usr/local/nvidia/lib:/usr/local/nvidia/lib64\n",
      "2023-04-14 13:13:21.322554: W tensorflow/compiler/xla/stream_executor/cuda/cuda_driver.cc:265] failed call to cuInit: UNKNOWN ERROR (303)\n",
      "DEEPMD INFO    training data with min nbor dist: 1.045920568611028\n",
      "DEEPMD INFO    training data with max nbor size: [4 1]\n",
      "DEEPMD INFO     _____               _____   __  __  _____           _     _  _   \n",
      "DEEPMD INFO    |  __ \\             |  __ \\ |  \\/  ||  __ \\         | |   (_)| |  \n",
      "DEEPMD INFO    | |  | |  ___   ___ | |__) || \\  / || |  | | ______ | | __ _ | |_ \n",
      "DEEPMD INFO    | |  | | / _ \\ / _ \\|  ___/ | |\\/| || |  | ||______|| |/ /| || __|\n",
      "DEEPMD INFO    | |__| ||  __/|  __/| |     | |  | || |__| |        |   < | || |_ \n",
      "DEEPMD INFO    |_____/  \\___| \\___||_|     |_|  |_||_____/         |_|\\_\\|_| \\__|\n",
      "DEEPMD INFO    Please read and cite:\n",
      "DEEPMD INFO    Wang, Zhang, Han and E, Comput.Phys.Comm. 228, 178-184 (2018)\n",
      "DEEPMD INFO    installed to:         /deepmd-kit/_skbuild/linux-x86_64-3.8/cmake-install\n",
      "DEEPMD INFO    source :              v2.2.0.b0-77-gc1299196\n",
      "DEEPMD INFO    source brach:         devel\n",
      "DEEPMD INFO    source commit:        c1299196\n",
      "DEEPMD INFO    source commit at:     2023-02-28 09:06:04 +0800\n",
      "DEEPMD INFO    build float prec:     double\n",
      "DEEPMD INFO    build variant:        cpu\n",
      "DEEPMD INFO    build with tf inc:    /opt/conda/lib/python3.8/site-packages/tensorflow/include;/opt/conda/lib/python3.8/site-packages/tensorflow/include\n",
      "DEEPMD INFO    build with tf lib:    \n",
      "DEEPMD INFO    ---Summary of the training---------------------------------------\n",
      "DEEPMD INFO    running on:           bohrium-14076-1012660\n",
      "DEEPMD INFO    computing device:     cpu:0\n",
      "DEEPMD INFO    CUDA_VISIBLE_DEVICES: unset\n",
      "DEEPMD INFO    Count of visible GPU: 0\n",
      "DEEPMD INFO    num_intra_threads:    0\n",
      "DEEPMD INFO    num_inter_threads:    0\n",
      "DEEPMD INFO    -----------------------------------------------------------------\n",
      "DEEPMD INFO    ---Summary of DataSystem: training     -----------------------------------------------\n",
      "DEEPMD INFO    found 1 system(s):\n",
      "DEEPMD INFO                                        system  natoms  bch_sz   n_bch   prob  pbc\n",
      "DEEPMD INFO                      ../00.data/training_data       5       7      23  1.000    T\n",
      "DEEPMD INFO    --------------------------------------------------------------------------------------\n",
      "DEEPMD INFO    ---Summary of DataSystem: validation   -----------------------------------------------\n",
      "DEEPMD INFO    found 1 system(s):\n",
      "DEEPMD INFO                                        system  natoms  bch_sz   n_bch   prob  pbc\n",
      "DEEPMD INFO                    ../00.data/validation_data       5       7       5  1.000    T\n",
      "DEEPMD INFO    --------------------------------------------------------------------------------------\n",
      "DEEPMD INFO    training without frame parameter\n",
      "DEEPMD INFO    data stating... (this step may take long time)\n",
      "DEEPMD INFO    built lr\n",
      "WARNING:tensorflow:From /opt/conda/lib/python3.8/site-packages/tensorflow/python/util/dispatch.py:1176: accumulate_n (from tensorflow.python.ops.math_ops) is deprecated and will be removed in a future version.\n",
      "Instructions for updating:\n",
      "Use `tf.math.add_n` Instead\n",
      "WARNING:tensorflow:From /opt/conda/lib/python3.8/site-packages/tensorflow/python/util/dispatch.py:1176: accumulate_n (from tensorflow.python.ops.math_ops) is deprecated and will be removed in a future version.\n",
      "Instructions for updating:\n",
      "Use `tf.math.add_n` Instead\n",
      "DEEPMD INFO    built network\n",
      "DEEPMD INFO    built training\n",
      "WARNING:root:To get the best performance, it is recommended to adjust the number of threads by setting the environment variables OMP_NUM_THREADS, TF_INTRA_OP_PARALLELISM_THREADS, and TF_INTER_OP_PARALLELISM_THREADS.\n",
      "DEEPMD INFO    initialize model from scratch\n",
      "DEEPMD INFO    start training at lr 1.00e-03 (== 1.00e-03), decay_step 50, decay_rate 0.950006, final lr will be 3.51e-08\n",
      "DEEPMD INFO    batch     200 training time 4.99 s, testing time 0.02 s\n",
      "DEEPMD INFO    batch     400 training time 3.14 s, testing time 0.01 s\n",
      "DEEPMD INFO    batch     600 training time 3.12 s, testing time 0.01 s\n",
      "DEEPMD INFO    batch     800 training time 3.06 s, testing time 0.01 s\n",
      "DEEPMD INFO    batch    1000 training time 3.13 s, testing time 0.02 s\n",
      "DEEPMD INFO    saved checkpoint model.ckpt\n",
      "DEEPMD INFO    batch    1200 training time 2.96 s, testing time 0.01 s\n",
      "DEEPMD INFO    batch    1400 training time 2.92 s, testing time 0.01 s\n",
      "DEEPMD INFO    batch    1600 training time 2.88 s, testing time 0.01 s\n",
      "DEEPMD INFO    batch    1800 training time 2.85 s, testing time 0.01 s\n",
      "DEEPMD INFO    batch    2000 training time 2.89 s, testing time 0.01 s\n",
      "DEEPMD INFO    saved checkpoint model.ckpt\n",
      "DEEPMD INFO    batch    2200 training time 2.99 s, testing time 0.01 s\n",
      "DEEPMD INFO    batch    2400 training time 2.95 s, testing time 0.01 s\n",
      "DEEPMD INFO    batch    2600 training time 2.89 s, testing time 0.01 s\n",
      "DEEPMD INFO    batch    2800 training time 2.85 s, testing time 0.01 s\n",
      "DEEPMD INFO    batch    3000 training time 2.89 s, testing time 0.01 s\n",
      "DEEPMD INFO    saved checkpoint model.ckpt\n",
      "DEEPMD INFO    batch    3200 training time 2.97 s, testing time 0.01 s\n",
      "DEEPMD INFO    batch    3400 training time 2.94 s, testing time 0.01 s\n",
      "DEEPMD INFO    batch    3600 training time 2.89 s, testing time 0.01 s\n",
      "DEEPMD INFO    batch    3800 training time 2.84 s, testing time 0.02 s\n",
      "DEEPMD INFO    batch    4000 training time 2.90 s, testing time 0.01 s\n",
      "DEEPMD INFO    saved checkpoint model.ckpt\n",
      "DEEPMD INFO    batch    4200 training time 2.96 s, testing time 0.01 s\n",
      "DEEPMD INFO    batch    4400 training time 2.94 s, testing time 0.01 s\n",
      "DEEPMD INFO    batch    4600 training time 2.87 s, testing time 0.01 s\n",
      "DEEPMD INFO    batch    4800 training time 2.84 s, testing time 0.01 s\n",
      "DEEPMD INFO    batch    5000 training time 2.91 s, testing time 0.01 s\n",
      "DEEPMD INFO    saved checkpoint model.ckpt\n",
      "DEEPMD INFO    batch    5200 training time 2.97 s, testing time 0.01 s\n",
      "DEEPMD INFO    batch    5400 training time 2.94 s, testing time 0.01 s\n",
      "DEEPMD INFO    batch    5600 training time 2.86 s, testing time 0.01 s\n",
      "DEEPMD INFO    batch    5800 training time 2.84 s, testing time 0.01 s\n",
      "DEEPMD INFO    batch    6000 training time 2.95 s, testing time 0.01 s\n",
      "WARNING:tensorflow:From /opt/conda/lib/python3.8/site-packages/tensorflow/python/training/saver.py:1064: remove_checkpoint (from tensorflow.python.checkpoint.checkpoint_management) is deprecated and will be removed in a future version.\n",
      "Instructions for updating:\n",
      "Use standard file APIs to delete files with this prefix.\n",
      "WARNING:tensorflow:From /opt/conda/lib/python3.8/site-packages/tensorflow/python/training/saver.py:1064: remove_checkpoint (from tensorflow.python.checkpoint.checkpoint_management) is deprecated and will be removed in a future version.\n",
      "Instructions for updating:\n",
      "Use standard file APIs to delete files with this prefix.\n",
      "DEEPMD INFO    saved checkpoint model.ckpt\n",
      "DEEPMD INFO    batch    6200 training time 2.95 s, testing time 0.01 s\n",
      "DEEPMD INFO    batch    6400 training time 2.93 s, testing time 0.01 s\n",
      "DEEPMD INFO    batch    6600 training time 2.81 s, testing time 0.01 s\n",
      "DEEPMD INFO    batch    6800 training time 2.88 s, testing time 0.01 s\n",
      "DEEPMD INFO    batch    7000 training time 2.96 s, testing time 0.01 s\n",
      "DEEPMD INFO    saved checkpoint model.ckpt\n",
      "DEEPMD INFO    batch    7200 training time 2.92 s, testing time 0.01 s\n",
      "DEEPMD INFO    batch    7400 training time 2.94 s, testing time 0.01 s\n",
      "DEEPMD INFO    batch    7600 training time 2.76 s, testing time 0.01 s\n",
      "DEEPMD INFO    batch    7800 training time 2.98 s, testing time 0.01 s\n",
      "DEEPMD INFO    batch    8000 training time 2.99 s, testing time 0.02 s\n",
      "DEEPMD INFO    saved checkpoint model.ckpt\n",
      "DEEPMD INFO    batch    8200 training time 2.92 s, testing time 0.01 s\n",
      "DEEPMD INFO    batch    8400 training time 2.93 s, testing time 0.01 s\n",
      "DEEPMD INFO    batch    8600 training time 2.92 s, testing time 0.01 s\n",
      "DEEPMD INFO    batch    8800 training time 2.93 s, testing time 0.01 s\n",
      "DEEPMD INFO    batch    9000 training time 2.93 s, testing time 0.01 s\n",
      "DEEPMD INFO    saved checkpoint model.ckpt\n",
      "DEEPMD INFO    batch    9200 training time 2.94 s, testing time 0.01 s\n",
      "DEEPMD INFO    batch    9400 training time 3.10 s, testing time 0.01 s\n",
      "DEEPMD INFO    batch    9600 training time 3.07 s, testing time 0.01 s\n",
      "DEEPMD INFO    batch    9800 training time 2.93 s, testing time 0.01 s\n",
      "DEEPMD INFO    batch   10000 training time 3.01 s, testing time 0.01 s\n",
      "DEEPMD INFO    saved checkpoint model.ckpt\n",
      "DEEPMD INFO    average training time: 0.0147 s/batch (exclude first 200 batches)\n",
      "DEEPMD INFO    finished training\n",
      "DEEPMD INFO    wall time: 162.709 s\n"
     ]
    }
   ],
   "source": [
    "# ########## Time Warning: 5min ##########\n",
    "! dp train input.json"
   ]
  },
  {
   "cell_type": "markdown",
   "id": "3f47d65c-aaa4-4d26-a70e-d3adbe96487e",
   "metadata": {},
   "source": [
    "屏幕上会显示数据系统的信息，例如：\n",
    "\n",
    "```\n",
    "DEEPMD INFO    -----------------------------------------------------------------\n",
    "DEEPMD INFO    ---Summary of DataSystem: training     ----------------------------------\n",
    "DEEPMD INFO    found 1 system(s):\n",
    "DEEPMD INFO                                 system  natoms  bch_sz   n_bch   prob  pbc\n",
    "DEEPMD INFO               ../00.data/training_data       5       7      23  1.000    T\n",
    "DEEPMD INFO    -------------------------------------------------------------------------\n",
    "DEEPMD INFO    ---Summary of DataSystem: validation   ----------------------------------\n",
    "DEEPMD INFO    found 1 system(s):\n",
    "DEEPMD INFO                                 system  natoms  bch_sz   n_bch   prob  pbc\n",
    "DEEPMD INFO             ../00.data/validation_data       5       7       5  1.000    T\n",
    "DEEPMD INFO    -------------------------------------------------------------------------\n",
    "```\n",
    "\n",
    "以及该训练的起始和最终学习率：\n",
    "\n",
    "```\n",
    "DEEPMD INFO    start training at lr 1.00e-03 (== 1.00e-03), decay_step 50, decay_rate 0.950006, final lr will be 3.51e-08\n",
    "```\n",
    "\n",
    "如果一切正常，您将看到每1000步打印的信息，例如：\n",
    "\n",
    "```\n",
    "DEEPMD INFO    batch     200 training time 6.04 s, testing time 0.02 s\n",
    "DEEPMD INFO    batch     400 training time 4.80 s, testing time 0.02 s\n",
    "DEEPMD INFO    batch     600 training time 4.80 s, testing time 0.02 s\n",
    "DEEPMD INFO    batch     800 training time 4.78 s, testing time 0.02 s\n",
    "DEEPMD INFO    batch    1000 training time 4.77 s, testing time 0.02 s\n",
    "DEEPMD INFO    saved checkpoint model.ckpt\n",
    "DEEPMD INFO    batch    1200 training time 4.47 s, testing time 0.02 s\n",
    "DEEPMD INFO    batch    1400 training time 4.49 s, testing time 0.02 s\n",
    "DEEPMD INFO    batch    1600 training time 4.45 s, testing time 0.02 s\n",
    "DEEPMD INFO    batch    1800 training time 4.44 s, testing time 0.02 s\n",
    "DEEPMD INFO    batch    2000 training time 4.46 s, testing time 0.02 s\n",
    "DEEPMD INFO    saved checkpoint model.ckpt\n",
    "```\n",
    "\n",
    "它们显示了训练和测试时间计数。在第1000批结束时，模型将保存在Tensorflow的checkpoint文件`model.ckpt`中。同时，训练和测试误差将在文件`lcurve.out`中呈现。\n",
    "\n",
    "该文件包含8列，从左到右依次是训练步数、验证损失、训练损失、能量的均方根（RMS）验证误差、能量的RMS训练误差、力的RMS验证误差、力的RMS训练误差和学习率。能量的RMS误差（RMSE）通过系统中原子的数量进行归一化。\n",
    "\n",
    "```\n",
    "head -n 2 lcurve.out\n",
    "#  step      rmse_val    rmse_trn    rmse_e_val  rmse_e_trn    rmse_f_val  rmse_f_trn         lr\n",
    "      0      2.02e+01    1.51e+01      1.37e-01    1.41e-01      6.40e-01    4.79e-01    1.0e-03\n",
    "```\n",
    "\n",
    "和\n",
    "\n",
    "```\n",
    "$ tail -n 2 lcurve.out\n",
    "   9800      2.45e-02    4.02e-02      3.20e-04    3.88e-04      2.40e-02    3.94e-02    4.3e-08\n",
    "  10000      4.60e-02    3.76e-02      8.65e-04    5.35e-04      4.52e-02    3.69e-02    3.5e-08\n",
    "```\n",
    "\n",
    "第4、5和6、7卷分别呈现能量和力的训练和测试误差。"
   ]
  },
  {
   "cell_type": "code",
   "execution_count": 9,
   "id": "7518163c-5663-41bb-9347-29f88b9e8a9c",
   "metadata": {},
   "outputs": [
    {
     "name": "stdout",
     "output_type": "stream",
     "text": [
      "#  step      rmse_val    rmse_trn    rmse_e_val  rmse_e_trn    rmse_f_val  rmse_f_trn         lr\n",
      "      0      1.89e+01    1.50e+01      1.38e-01    1.41e-01      5.98e-01    4.75e-01    1.0e-03\n",
      "   9800      5.22e-02    2.70e-02      1.03e-03    7.02e-04      5.10e-02    2.64e-02    4.3e-08\n",
      "  10000      4.50e-02    5.54e-02      5.23e-04    1.11e-03      4.42e-02    5.44e-02    3.5e-08\n"
     ]
    }
   ],
   "source": [
    "! head -n 2 lcurve.out && tail -n 2 lcurve.out"
   ]
  },
  {
   "cell_type": "markdown",
   "id": "35c6ddb6-7233-4068-9873-d5ab7f09afa9",
   "metadata": {},
   "source": [
    "可以可视化损失函数来监控训练过程。"
   ]
  },
  {
   "cell_type": "code",
   "execution_count": 10,
   "id": "2dc17522-d42f-46d4-98e5-512a130e9455",
   "metadata": {},
   "outputs": [
    {
     "data": {
      "image/png": "[encoded data removed]",
      "text/plain": [
       "<Figure size 640x480 with 1 Axes>"
      ]
     },
     "metadata": {},
     "output_type": "display_data"
    }
   ],
   "source": [
    "import numpy as np\n",
    "import matplotlib.pyplot as plt\n",
    "import pandas as pd\n",
    "\n",
    "with open(\"lcurve.out\") as f:\n",
    "    headers = f.readline().split()[1:]\n",
    "lcurve = pd.DataFrame(np.loadtxt(\"lcurve.out\"), columns =  headers    )\n",
    "legends = [\"rmse_e_val\", \"rmse_e_trn\", \"rmse_f_val\" , \"rmse_f_trn\" ]\n",
    "\n",
    "for legend in legends:\n",
    "    plt.loglog(lcurve[\"step\"], lcurve[legend], label = legend )\n",
    "plt.legend()\n",
    "plt.xlabel(\"Training steps\")\n",
    "plt.ylabel(\"Loss\")\n",
    "plt.show()"
   ]
  },
  {
   "cell_type": "markdown",
   "id": "b12ae103-e498-45ac-9eeb-470a4e200eb0",
   "metadata": {},
   "source": [
    "### 4 冻结模型 <a id ='freeze'></a>\n",
    "\n",
    "在训练结束时，应该将保存在TensorFlow的checkpoint文件中的模型参数冻结为一个模型文件，通常以扩展名.pb结束。只需执行以下命令："
   ]
  },
  {
   "cell_type": "code",
   "execution_count": 11,
   "id": "424e6c8a-47c9-4ecd-9c5e-d2e6775651f1",
   "metadata": {
    "scrolled": true,
    "tags": []
   },
   "outputs": [
    {
     "name": "stdout",
     "output_type": "stream",
     "text": [
      "2023-04-14 13:16:11.308706: I tensorflow/core/platform/cpu_feature_guard.cc:193] This TensorFlow binary is optimized with oneAPI Deep Neural Network Library (oneDNN) to use the following CPU instructions in performance-critical operations:  AVX2 AVX512F FMA\n",
      "To enable them in other operations, rebuild TensorFlow with the appropriate compiler flags.\n",
      "2023-04-14 13:16:12.505293: W tensorflow/compiler/xla/stream_executor/platform/default/dso_loader.cc:64] Could not load dynamic library 'libnvinfer.so.7'; dlerror: libnvinfer.so.7: cannot open shared object file: No such file or directory; LD_LIBRARY_PATH: /usr/mpi/gcc/openmpi-4.1.0rc5/lib:/usr/local/nccl-rdma-sharp-plugins/lib:/usr/local/nvidia/lib64:/usr/local/cuda/lib64:/usr/local/nvidia/lib:/usr/local/nvidia/lib64\n",
      "2023-04-14 13:16:12.505386: W tensorflow/compiler/xla/stream_executor/platform/default/dso_loader.cc:64] Could not load dynamic library 'libnvinfer_plugin.so.7'; dlerror: libnvinfer_plugin.so.7: cannot open shared object file: No such file or directory; LD_LIBRARY_PATH: /usr/mpi/gcc/openmpi-4.1.0rc5/lib:/usr/local/nccl-rdma-sharp-plugins/lib:/usr/local/nvidia/lib64:/usr/local/cuda/lib64:/usr/local/nvidia/lib:/usr/local/nvidia/lib64\n",
      "2023-04-14 13:16:12.505402: W tensorflow/compiler/tf2tensorrt/utils/py_utils.cc:38] TF-TRT Warning: Cannot dlopen some TensorRT libraries. If you would like to use Nvidia GPU with TensorRT, please make sure the missing libraries mentioned above are installed properly.\n",
      "WARNING:tensorflow:From /opt/conda/lib/python3.8/site-packages/tensorflow/python/compat/v2_compat.py:107: disable_resource_variables (from tensorflow.python.ops.variable_scope) is deprecated and will be removed in a future version.\n",
      "Instructions for updating:\n",
      "non-resource variables are not supported in the long term\n",
      "WARNING:root:To get the best performance, it is recommended to adjust the number of threads by setting the environment variables OMP_NUM_THREADS, TF_INTRA_OP_PARALLELISM_THREADS, and TF_INTER_OP_PARALLELISM_THREADS.\n",
      "2023-04-14 13:16:15.274601: W tensorflow/compiler/xla/stream_executor/platform/default/dso_loader.cc:64] Could not load dynamic library 'libcuda.so.1'; dlerror: /usr/lib/x86_64-linux-gnu/libcuda.so.1: file too short; LD_LIBRARY_PATH: /usr/mpi/gcc/openmpi-4.1.0rc5/lib:/usr/local/nccl-rdma-sharp-plugins/lib:/usr/local/nvidia/lib64:/usr/local/cuda/lib64:/usr/local/nvidia/lib:/usr/local/nvidia/lib64\n",
      "2023-04-14 13:16:15.274646: W tensorflow/compiler/xla/stream_executor/cuda/cuda_driver.cc:265] failed call to cuInit: UNKNOWN ERROR (303)\n",
      "DEEPMD INFO    The following nodes will be frozen: ['model_type', 'descrpt_attr/rcut', 'descrpt_attr/ntypes', 'model_attr/tmap', 'model_attr/model_type', 'model_attr/model_version', 'train_attr/min_nbor_dist', 'train_attr/training_script', 'o_energy', 'o_force', 'o_virial', 'o_atom_energy', 'o_atom_virial', 'fitting_attr/dfparam', 'fitting_attr/daparam']\n",
      "WARNING:tensorflow:From /opt/conda/lib/python3.8/site-packages/deepmd/entrypoints/freeze.py:354: convert_variables_to_constants (from tensorflow.python.framework.graph_util_impl) is deprecated and will be removed in a future version.\n",
      "Instructions for updating:\n",
      "This API was designed for TensorFlow v1. See https://www.tensorflow.org/guide/migrate for instructions on how to migrate your code to TensorFlow v2.\n",
      "WARNING:tensorflow:From /opt/conda/lib/python3.8/site-packages/deepmd/entrypoints/freeze.py:354: convert_variables_to_constants (from tensorflow.python.framework.graph_util_impl) is deprecated and will be removed in a future version.\n",
      "Instructions for updating:\n",
      "This API was designed for TensorFlow v1. See https://www.tensorflow.org/guide/migrate for instructions on how to migrate your code to TensorFlow v2.\n",
      "WARNING:tensorflow:From /opt/conda/lib/python3.8/site-packages/tensorflow/python/framework/convert_to_constants.py:943: extract_sub_graph (from tensorflow.python.framework.graph_util_impl) is deprecated and will be removed in a future version.\n",
      "Instructions for updating:\n",
      "This API was designed for TensorFlow v1. See https://www.tensorflow.org/guide/migrate for instructions on how to migrate your code to TensorFlow v2.\n",
      "WARNING:tensorflow:From /opt/conda/lib/python3.8/site-packages/tensorflow/python/framework/convert_to_constants.py:943: extract_sub_graph (from tensorflow.python.framework.graph_util_impl) is deprecated and will be removed in a future version.\n",
      "Instructions for updating:\n",
      "This API was designed for TensorFlow v1. See https://www.tensorflow.org/guide/migrate for instructions on how to migrate your code to TensorFlow v2.\n",
      "DEEPMD INFO    1197 ops in the final graph.\n"
     ]
    }
   ],
   "source": [
    "! dp freeze -o graph.pb"
   ]
  },
  {
   "cell_type": "markdown",
   "id": "5b0a201d-12a4-433c-82b1-6305c7c57a32",
   "metadata": {},
   "source": [
    "它将在当前目录中输出一个名为`graph.pb`的模型文件。"
   ]
  },
  {
   "cell_type": "markdown",
   "id": "805eb14d-e23f-40d1-b72e-1b992ec160e8",
   "metadata": {},
   "source": [
    "### 5 测试模型 <a id ='test'></a>\n",
    "\n",
    "我们可以通过运行以下命令来检查训练模型的效果："
   ]
  },
  {
   "cell_type": "code",
   "execution_count": 12,
   "id": "5b25e4f9-1a28-4437-85fe-5da25915f92d",
   "metadata": {
    "scrolled": true,
    "tags": []
   },
   "outputs": [
    {
     "name": "stdout",
     "output_type": "stream",
     "text": [
      "2023-04-14 13:16:18.143839: I tensorflow/core/platform/cpu_feature_guard.cc:193] This TensorFlow binary is optimized with oneAPI Deep Neural Network Library (oneDNN) to use the following CPU instructions in performance-critical operations:  AVX2 AVX512F FMA\n",
      "To enable them in other operations, rebuild TensorFlow with the appropriate compiler flags.\n",
      "2023-04-14 13:16:19.357550: W tensorflow/compiler/xla/stream_executor/platform/default/dso_loader.cc:64] Could not load dynamic library 'libnvinfer.so.7'; dlerror: libnvinfer.so.7: cannot open shared object file: No such file or directory; LD_LIBRARY_PATH: /usr/mpi/gcc/openmpi-4.1.0rc5/lib:/usr/local/nccl-rdma-sharp-plugins/lib:/usr/local/nvidia/lib64:/usr/local/cuda/lib64:/usr/local/nvidia/lib:/usr/local/nvidia/lib64\n",
      "2023-04-14 13:16:19.357663: W tensorflow/compiler/xla/stream_executor/platform/default/dso_loader.cc:64] Could not load dynamic library 'libnvinfer_plugin.so.7'; dlerror: libnvinfer_plugin.so.7: cannot open shared object file: No such file or directory; LD_LIBRARY_PATH: /usr/mpi/gcc/openmpi-4.1.0rc5/lib:/usr/local/nccl-rdma-sharp-plugins/lib:/usr/local/nvidia/lib64:/usr/local/cuda/lib64:/usr/local/nvidia/lib:/usr/local/nvidia/lib64\n",
      "2023-04-14 13:16:19.357686: W tensorflow/compiler/tf2tensorrt/utils/py_utils.cc:38] TF-TRT Warning: Cannot dlopen some TensorRT libraries. If you would like to use Nvidia GPU with TensorRT, please make sure the missing libraries mentioned above are installed properly.\n",
      "WARNING:tensorflow:From /opt/conda/lib/python3.8/site-packages/tensorflow/python/compat/v2_compat.py:107: disable_resource_variables (from tensorflow.python.ops.variable_scope) is deprecated and will be removed in a future version.\n",
      "Instructions for updating:\n",
      "non-resource variables are not supported in the long term\n",
      "WARNING:root:To get the best performance, it is recommended to adjust the number of threads by setting the environment variables OMP_NUM_THREADS, TF_INTRA_OP_PARALLELISM_THREADS, and TF_INTER_OP_PARALLELISM_THREADS.\n",
      "2023-04-14 13:16:21.440003: W tensorflow/compiler/xla/stream_executor/platform/default/dso_loader.cc:64] Could not load dynamic library 'libcuda.so.1'; dlerror: /usr/lib/x86_64-linux-gnu/libcuda.so.1: file too short; LD_LIBRARY_PATH: /usr/mpi/gcc/openmpi-4.1.0rc5/lib:/usr/local/nccl-rdma-sharp-plugins/lib:/usr/local/nvidia/lib64:/usr/local/cuda/lib64:/usr/local/nvidia/lib:/usr/local/nvidia/lib64\n",
      "2023-04-14 13:16:21.440044: W tensorflow/compiler/xla/stream_executor/cuda/cuda_driver.cc:265] failed call to cuInit: UNKNOWN ERROR (303)\n",
      "WARNING:tensorflow:From /opt/conda/lib/python3.8/site-packages/deepmd/utils/batch_size.py:61: is_gpu_available (from tensorflow.python.framework.test_util) is deprecated and will be removed in a future version.\n",
      "Instructions for updating:\n",
      "Use `tf.config.list_physical_devices('GPU')` instead.\n",
      "WARNING:tensorflow:From /opt/conda/lib/python3.8/site-packages/deepmd/utils/batch_size.py:61: is_gpu_available (from tensorflow.python.framework.test_util) is deprecated and will be removed in a future version.\n",
      "Instructions for updating:\n",
      "Use `tf.config.list_physical_devices('GPU')` instead.\n",
      "DEEPMD WARNING You can use the environment variable DP_INFER_BATCH_SIZE tocontrol the inference batch size (nframes * natoms). The default value is 1024.\n",
      "DEEPMD INFO    # ---------------output of dp test--------------- \n",
      "DEEPMD INFO    # testing system : ../00.data/validation_data\n",
      "DEEPMD INFO    # number of test data : 40 \n",
      "DEEPMD INFO    Energy MAE         : 3.926278e-03 eV\n",
      "DEEPMD INFO    Energy RMSE        : 4.843023e-03 eV\n",
      "DEEPMD INFO    Energy MAE/Natoms  : 7.852556e-04 eV\n",
      "DEEPMD INFO    Energy RMSE/Natoms : 9.686046e-04 eV\n",
      "DEEPMD INFO    Force  MAE         : 3.960126e-02 eV/A\n",
      "DEEPMD INFO    Force  RMSE        : 5.069812e-02 eV/A\n",
      "DEEPMD INFO    Virial MAE         : 5.662150e-02 eV\n",
      "DEEPMD INFO    Virial RMSE        : 7.469184e-02 eV\n",
      "DEEPMD INFO    Virial MAE/Natoms  : 1.132430e-02 eV\n",
      "DEEPMD INFO    Virial RMSE/Natoms : 1.493837e-02 eV\n",
      "DEEPMD INFO    # ----------------------------------------------- \n"
     ]
    }
   ],
   "source": [
    "! dp test -m graph.pb -s ../00.data/validation_data"
   ]
  },
  {
   "cell_type": "markdown",
   "id": "9501d156-b8be-4919-a6a9-9befafa7dc4a",
   "metadata": {},
   "source": [
    "也可以计算预测数据和原始数据之间的相关性。"
   ]
  },
  {
   "cell_type": "code",
   "execution_count": 13,
   "id": "d7412ca6-9dfe-4ee6-9e66-455872fa3d0a",
   "metadata": {
    "tags": []
   },
   "outputs": [],
   "source": [
    "import dpdata\n",
    "training_systems = dpdata.LabeledSystem(\"../00.data/training_data\", fmt = \"deepmd/npy\")"
   ]
  },
  {
   "cell_type": "code",
   "execution_count": 14,
   "id": "214b63d1-d0f7-4e7d-8237-75affb0c342b",
   "metadata": {
    "collapsed": true,
    "jupyter": {
     "outputs_hidden": true
    },
    "tags": []
   },
   "outputs": [
    {
     "name": "stderr",
     "output_type": "stream",
     "text": [
      "2023-04-14 13:16:24.030142: I tensorflow/core/platform/cpu_feature_guard.cc:193] This TensorFlow binary is optimized with oneAPI Deep Neural Network Library (oneDNN) to use the following CPU instructions in performance-critical operations:  AVX2 AVX512F FMA\n",
      "To enable them in other operations, rebuild TensorFlow with the appropriate compiler flags.\n",
      "2023-04-14 13:16:25.275522: W tensorflow/compiler/xla/stream_executor/platform/default/dso_loader.cc:64] Could not load dynamic library 'libnvinfer.so.7'; dlerror: libnvinfer.so.7: cannot open shared object file: No such file or directory; LD_LIBRARY_PATH: /usr/mpi/gcc/openmpi-4.1.0rc5/lib:/usr/local/nccl-rdma-sharp-plugins/lib:/usr/local/nvidia/lib64:/usr/local/cuda/lib64:/usr/local/nvidia/lib:/usr/local/nvidia/lib64\n",
      "2023-04-14 13:16:25.275663: W tensorflow/compiler/xla/stream_executor/platform/default/dso_loader.cc:64] Could not load dynamic library 'libnvinfer_plugin.so.7'; dlerror: libnvinfer_plugin.so.7: cannot open shared object file: No such file or directory; LD_LIBRARY_PATH: /usr/mpi/gcc/openmpi-4.1.0rc5/lib:/usr/local/nccl-rdma-sharp-plugins/lib:/usr/local/nvidia/lib64:/usr/local/cuda/lib64:/usr/local/nvidia/lib:/usr/local/nvidia/lib64\n",
      "2023-04-14 13:16:25.275676: W tensorflow/compiler/tf2tensorrt/utils/py_utils.cc:38] TF-TRT Warning: Cannot dlopen some TensorRT libraries. If you would like to use Nvidia GPU with TensorRT, please make sure the missing libraries mentioned above are installed properly.\n"
     ]
    },
    {
     "name": "stdout",
     "output_type": "stream",
     "text": [
      "WARNING:tensorflow:From /opt/conda/lib/python3.8/site-packages/tensorflow/python/compat/v2_compat.py:107: disable_resource_variables (from tensorflow.python.ops.variable_scope) is deprecated and will be removed in a future version.\n",
      "Instructions for updating:\n",
      "non-resource variables are not supported in the long term\n"
     ]
    },
    {
     "name": "stderr",
     "output_type": "stream",
     "text": [
      "WARNING:root:To get the best performance, it is recommended to adjust the number of threads by setting the environment variables OMP_NUM_THREADS, TF_INTRA_OP_PARALLELISM_THREADS, and TF_INTER_OP_PARALLELISM_THREADS.\n"
     ]
    },
    {
     "name": "stdout",
     "output_type": "stream",
     "text": [
      "WARNING:tensorflow:From /opt/conda/lib/python3.8/site-packages/deepmd/utils/batch_size.py:61: is_gpu_available (from tensorflow.python.framework.test_util) is deprecated and will be removed in a future version.\n",
      "Instructions for updating:\n",
      "Use `tf.config.list_physical_devices('GPU')` instead.\n"
     ]
    },
    {
     "name": "stderr",
     "output_type": "stream",
     "text": [
      "2023-04-14 13:16:27.054583: W tensorflow/compiler/xla/stream_executor/platform/default/dso_loader.cc:64] Could not load dynamic library 'libcuda.so.1'; dlerror: /usr/lib/x86_64-linux-gnu/libcuda.so.1: file too short; LD_LIBRARY_PATH: /usr/mpi/gcc/openmpi-4.1.0rc5/lib:/usr/local/nccl-rdma-sharp-plugins/lib:/usr/local/nvidia/lib64:/usr/local/cuda/lib64:/usr/local/nvidia/lib:/usr/local/nvidia/lib64\n",
      "2023-04-14 13:16:27.054630: W tensorflow/compiler/xla/stream_executor/cuda/cuda_driver.cc:265] failed call to cuInit: UNKNOWN ERROR (303)\n",
      "WARNING:tensorflow:From /opt/conda/lib/python3.8/site-packages/deepmd/utils/batch_size.py:61: is_gpu_available (from tensorflow.python.framework.test_util) is deprecated and will be removed in a future version.\n",
      "Instructions for updating:\n",
      "Use `tf.config.list_physical_devices('GPU')` instead.\n",
      "WARNING:deepmd.utils.batch_size:You can use the environment variable DP_INFER_BATCH_SIZE tocontrol the inference batch size (nframes * natoms). The default value is 1024.\n"
     ]
    }
   ],
   "source": [
    "predict = training_systems.predict(\"graph.pb\")"
   ]
  },
  {
   "cell_type": "code",
   "execution_count": 15,
   "id": "147fe6a3-7e1a-4c91-b923-58aab3eb453a",
   "metadata": {},
   "outputs": [
    {
     "data": {
      "text/plain": [
       "[]"
      ]
     },
     "execution_count": 15,
     "metadata": {},
     "output_type": "execute_result"
    },
    {
     "data": {
      "image/png": "[encoded data removed]",
      "text/plain": [
       "<Figure size 640x480 with 1 Axes>"
      ]
     },
     "metadata": {},
     "output_type": "display_data"
    }
   ],
   "source": [
    "import matplotlib.pyplot as plt\n",
    "import numpy as np\n",
    "\n",
    "plt.scatter(training_systems[\"energies\"], predict[\"energies\"])\n",
    "\n",
    "x_range = np.linspace(plt.xlim()[0], plt.xlim()[1])\n",
    "\n",
    "plt.plot(x_range, x_range, \"r--\", linewidth = 0.25)\n",
    "plt.xlabel(\"Energy of DFT\")\n",
    "plt.ylabel(\"Energy predicted by deep potential\")\n",
    "plt.plot()"
   ]
  },
  {
   "cell_type": "markdown",
   "id": "50c56a53-8cf0-4153-beac-8f93ffec02bc",
   "metadata": {},
   "source": [
    "### 6 使用 Lammps 进行 MD 计算 <a id ='lammpsmd'></a>\n",
    "\n",
    "该模型可以驱动LAMMPS中的分子动力学模拟。"
   ]
  },
  {
   "cell_type": "code",
   "execution_count": 16,
   "id": "f379030c-5a80-4852-9abf-60d6eaf0e13c",
   "metadata": {},
   "outputs": [
    {
     "name": "stdout",
     "output_type": "stream",
     "text": [
      "conf.lmp  graph.pb  in.lammps\n"
     ]
    }
   ],
   "source": [
    "! cd ../02.lmp && cp ../01.train/graph.pb ./ && ls"
   ]
  },
  {
   "cell_type": "markdown",
   "id": "63a1b03d-1835-408e-a1e8-92522139d257",
   "metadata": {},
   "source": [
    "! cd ../02.lmp && cp ../01.train/graph.pb ./ && lmp -i in.lammps这里的`conf.lmp`给出了气相甲烷分子动力学模拟的初始构型，文件`in.lammps`是LAMMPS的输入脚本。你可以检查`in.lammps`，可以发现它是一个相当标准的LAMMPS分子动力学模拟输入文件，只有两行例外：\n",
    "\n",
    "```\n",
    "pair_style  deepmd graph.pb\n",
    "pair_coeff  * *\n",
    "```\n",
    "\n",
    "其中调用了 deepmd 的 pair_style，提供了模型文件 `graph.pb`，这意味着原子间相互作用将由存储在文件`graph.pb`中的 DP 模型进行计算。\n",
    "\n",
    "在具有兼容版本的 LAMMPS 的环境中，可以通过以下命令执行深度势分子动力学模拟：\n",
    "\n",
    "```bash\n",
    "lmp -i input.lammps\n",
    "```"
   ]
  },
  {
   "cell_type": "code",
   "execution_count": null,
   "id": "76268760-f872-4ad1-afc4-0a42908ab789",
   "metadata": {},
   "outputs": [],
   "source": [
    "! cd ../02.lmp && cp ../01.train/graph.pb ./ && lmp -i in.lammps"
   ]
  },
  {
   "cell_type": "markdown",
   "id": "fe053fef-1e43-410c-a206-0ec986268f1d",
   "metadata": {},
   "source": [
    "## 参考 <a id ='references'></a>\n",
    "\n",
    "1. https://docs.deepmodeling.com/projects/deepmd/en/master/index.html\n",
    "2. https://github.com/deepmodeling/deepmd-kit "
   ]
  },
  {
   "cell_type": "markdown",
   "id": "94cffca6",
   "metadata": {},
   "source": [
    "<a href=\"https://bohrium.dp.tech/notebook/5e20dd12c8524fa38c1dafec5e2050c5\" target=\"_blank\"><img src=\"https://cdn.dp.tech/bohrium/web/static/images/open-in-bohrium.svg\" alt=\"Open In Bohrium\"/></a>"
   ]
  }
 ],
 "metadata": {
  "kernelspec": {
   "display_name": "Python 3 (ipykernel)",
   "language": "python",
   "name": "python3"
  },
  "language_info": {
   "codemirror_mode": {
    "name": "ipython",
    "version": 3
   },
   "file_extension": ".py",
   "mimetype": "text/x-python",
   "name": "python",
   "nbconvert_exporter": "python",
   "pygments_lexer": "ipython3",
   "version": "3.8.16"
  }
 },
 "nbformat": 4,
 "nbformat_minor": 5
}
