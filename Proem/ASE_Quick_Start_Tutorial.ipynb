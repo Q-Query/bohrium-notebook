{
 "cells": [
  {
   "attachments": {},
   "cell_type": "markdown",
   "metadata": {},
   "source": [
    "# 快速开始 ASE｜氮气分子在铜表面的吸附\n",
    "\n",
    "> 作者: Haohui Que [quehaohui@dp.tech](mailto:quehaohui@dp.tech)\n",
    ">\n",
    "> 创建日期: 2023-03-20 19:13\n",
    ">\n",
    "> 最后一次修改: Haohui Que [quehaohui@dp.tech](mailto:quehaohui@dp.tech), \n",
    ">\n",
    "> 最后一次修改时间: 2023-03-22 22:30\n",
    ">\n",
    "> 描述: 本教程主要参考 [1]，可在 Bohrium Notebook 上直接运行。你可以点击界面上方蓝色按钮 `开始连接`，选择 `bohrium-notebook:2023-03-22` 镜像及任何一款节点配置，稍等片刻即可运行。\n",
    "> 如您遇到任何问题，请联系 [bohrium@dp.tech](mailto:bohrium@dp.tech) 。\n",
    ">\n",
    "> 共享协议: 本作品采用[知识共享署名-非商业性使用-相同方式共享 4.0 国际许可协议](https://creativecommons.org/licenses/by-nc-sa/4.0/)进行许可。"
   ]
  },
  {
   "attachments": {},
   "cell_type": "markdown",
   "metadata": {},
   "source": [
    "# 目标\n",
    "\n",
    "> **使用 ASE 计算氮分子在铜表面上的吸附能并进行可视化**\n",
    "\n",
    "在学习本教程后，你将能够：\n",
    "\n",
    "- 使用 ASE 定义分子或晶体。\n",
    "- 计算体系能量并进行结构弛豫。\n",
    "- 使用 ASE 读取或写入原子文件\n",
    "- 可视化原子文件\n",
    "- 使用 ASE 进行分子动力学计算\n",
    "\n",
    "**阅读该教程【最多】约需 10 分钟，让我们开始吧！**\n"
   ]
  },
  {
   "attachments": {},
   "cell_type": "markdown",
   "metadata": {},
   "source": [
    "# 目录\n",
    "\n",
    "<div align=\"left\" style=\"margin:1.5rem\"><img src=\"https://gitlab.com/uploads/-/system/project/avatar/470007/ase256.png?width=64\" alt=\"pandas\" style=\"zoom: 200%;\"></div>\n",
    "\n",
    "* [背景](#background)\n",
    "* [实践](#practice)\n",
    "  * [1 案例：氮气分子在铜表面的吸附](#case)\n",
    "    * [1.1 原子](#1-1)\n",
    "    * [1.2 添加计算](#1-2)\n",
    "    * [1.3 结构弛豫](#1-3)\n",
    "    * [1.4 总结](#1-4)\n",
    "  * [2 输入与输出](#io)\n",
    "  * [3 可视化](#visualize)\n",
    "  * [4 运行分子动力学](#molecular-dynamics)\n",
    "* [总结](#summary)\n",
    "* [参考资料](#references)"
   ]
  },
  {
   "attachments": {},
   "cell_type": "markdown",
   "metadata": {},
   "source": [
    "# 实践 <a id='practice'></a>"
   ]
  },
  {
   "attachments": {},
   "cell_type": "markdown",
   "metadata": {},
   "source": [
    "## 案例：氮气分子在铜表面的吸附 <a id='case'></a>\n",
    "\n",
    "The Atomic Simulation Environment（ASE）是以 Python 模块呈现的一组工具，用于设置、操作、运行、可视化和分析原子模拟。\n",
    "\n",
    "在本节中，我们将计算氮分子在铜表面上的吸附能。这是通过计算孤立的晶面和孤立分子的总能量来完成的。然后将吸附物添加到晶面上并进行松弛，计算此复合系统的总能量。吸附能量是通过将孤立能量之和减去复合系统的能量得到。\n",
    "\n",
    "这是弛豫后的系统的图片：\n",
    "\n",
    "![N2Cu](https://wiki.fysik.dtu.dk/ase/_images/surface.png)\n",
    "\n",
    "让我们从构建原子开始吧！"
   ]
  },
  {
   "attachments": {},
   "cell_type": "markdown",
   "metadata": {},
   "source": [
    "### 原子 <a id='1-1'></a>\n",
    "\n",
    "[Atoms](https://wiki.fysik.dtu.dk/ase/ase/atoms.html#ase.Atoms) 对象是原子的集合。以下是如何通过直接指定两个氮原子的位置来定义 $N_2$ 分子的方法："
   ]
  },
  {
   "cell_type": "code",
   "execution_count": 1,
   "metadata": {},
   "outputs": [],
   "source": [
    "from ase import Atoms\n",
    "\n",
    "d = 1.10\n",
    "molecule = Atoms('2N', positions=[(0., 0., 0.), (0., 0., d)])"
   ]
  },
  {
   "attachments": {},
   "cell_type": "markdown",
   "metadata": {},
   "source": [
    "您也可以使用lattice模块构建晶体，该模块返回对应于常见晶体结构的 Atoms 对象。让我们制作一个Cu（111）表面："
   ]
  },
  {
   "cell_type": "code",
   "execution_count": 2,
   "metadata": {},
   "outputs": [],
   "source": [
    "from ase.build import fcc111\n",
    "\n",
    "slab = fcc111('Cu', size=(4,4,2), vacuum=10.0)"
   ]
  },
  {
   "attachments": {},
   "cell_type": "markdown",
   "metadata": {},
   "source": [
    "### 添加计算 <a id='1-2'></a>\n",
    "\n",
    "在这个概述中，我们使用有效介质理论（EMT）计算器，因为它非常快速，因此非常适用于本案例。我们可以将计算器附加到先前创建的 Atoms 对象上："
   ]
  },
  {
   "cell_type": "code",
   "execution_count": 3,
   "metadata": {},
   "outputs": [],
   "source": [
    "from ase.calculators.emt import EMT\n",
    "slab.calc = EMT()\n",
    "molecule.calc = EMT()"
   ]
  },
  {
   "attachments": {},
   "cell_type": "markdown",
   "metadata": {},
   "source": [
    "并使用Atoms类的get_potential_energy()方法来使用它计算系统的总能量："
   ]
  },
  {
   "cell_type": "code",
   "execution_count": 4,
   "metadata": {},
   "outputs": [
    {
     "name": "stdout",
     "output_type": "stream",
     "text": [
      "N2 的能量是：0.44034357303561467\n",
      "Cu 的能量是：11.509056283570336\n"
     ]
    }
   ],
   "source": [
    "e_slab = slab.get_potential_energy()\n",
    "e_N2 = molecule.get_potential_energy()\n",
    "print(f'N2 的能量是：{e_N2}')\n",
    "print(f'Cu 的能量是：{e_slab}')"
   ]
  },
  {
   "attachments": {},
   "cell_type": "markdown",
   "metadata": {},
   "source": [
    "### 结构弛豫（使结构优化到能量最低状态）<a id='1-3'></a>\n",
    "\n",
    "让我们使用拟牛顿优化器优化 $N_2$ 分子在铜表面上吸附的结构。首先将吸附剂添加到铜片上，例如放置在上方位置："
   ]
  },
  {
   "cell_type": "code",
   "execution_count": 5,
   "metadata": {},
   "outputs": [],
   "source": [
    "from ase.build import add_adsorbate\n",
    "\n",
    "h = 1.85\n",
    "add_adsorbate(slab, molecule, h, 'ontop')"
   ]
  },
  {
   "attachments": {},
   "cell_type": "markdown",
   "metadata": {},
   "source": [
    "为了加快弛豫速度，让我们使用来自约束模块的 FixAtoms 将 Cu 原子固定在板中。然后只允许 $N_2$ 分子松弛到平衡结构："
   ]
  },
  {
   "cell_type": "code",
   "execution_count": 6,
   "metadata": {},
   "outputs": [],
   "source": [
    "from ase.constraints import FixAtoms\n",
    "\n",
    "constraint = FixAtoms(mask=[a.symbol != 'N' for a in slab])\n",
    "slab.set_constraint(constraint)"
   ]
  },
  {
   "attachments": {},
   "cell_type": "markdown",
   "metadata": {},
   "source": [
    "现在将拟牛顿最小化器连接到系统并保存轨迹文件。使用收敛准则运行最小化器，即所有原子的力应小于某个 fmax："
   ]
  },
  {
   "cell_type": "code",
   "execution_count": 7,
   "metadata": {},
   "outputs": [
    {
     "name": "stdout",
     "output_type": "stream",
     "text": [
      "                Step[ FC]     Time          Energy          fmax\n",
      "*Force-consistent energies used in optimization.\n",
      "BFGSLineSearch:    0[  0] 19:25:29       11.689927*       1.0797\n",
      "BFGSLineSearch:    1[  2] 19:25:29       11.670814*       0.4090\n",
      "BFGSLineSearch:    2[  4] 19:25:29       11.625880*       0.0409\n"
     ]
    },
    {
     "data": {
      "text/plain": [
       "True"
      ]
     },
     "execution_count": 7,
     "metadata": {},
     "output_type": "execute_result"
    }
   ],
   "source": [
    "from ase.optimize import QuasiNewton\n",
    "\n",
    "dyn = QuasiNewton(slab, trajectory='N2Cu.traj')\n",
    "dyn.run(fmax=0.05)"
   ]
  },
  {
   "attachments": {},
   "cell_type": "markdown",
   "metadata": {},
   "source": [
    "到这里我们就得到了弛豫后体系的总能量是 11.803869 eV。\n",
    "\n",
    "让我们计算一下吸附能。"
   ]
  },
  {
   "cell_type": "code",
   "execution_count": 8,
   "metadata": {},
   "outputs": [
    {
     "name": "stdout",
     "output_type": "stream",
     "text": [
      "吸附能: 0.3235194223179523\n"
     ]
    }
   ],
   "source": [
    "print('吸附能:', e_slab + e_N2 - slab.get_potential_energy())"
   ]
  },
  {
   "attachments": {},
   "cell_type": "markdown",
   "metadata": {},
   "source": [
    "### 总结 <a id='1-4'></a>\n",
    "\n",
    "让我们将以上各部分组成一个连续的代码："
   ]
  },
  {
   "cell_type": "code",
   "execution_count": 9,
   "metadata": {},
   "outputs": [
    {
     "name": "stdout",
     "output_type": "stream",
     "text": [
      "                Step[ FC]     Time          Energy          fmax\n",
      "*Force-consistent energies used in optimization.\n",
      "BFGSLineSearch:    0[  0] 19:25:29       11.689927*       1.0797\n",
      "BFGSLineSearch:    1[  2] 19:25:29       11.670814*       0.4090\n",
      "BFGSLineSearch:    2[  4] 19:25:29       11.625880*       0.0409\n",
      "吸附能: 0.3235194223179523\n"
     ]
    }
   ],
   "source": [
    "from ase import Atoms\n",
    "from ase.calculators.emt import EMT\n",
    "from ase.constraints import FixAtoms\n",
    "from ase.optimize import QuasiNewton\n",
    "from ase.build import fcc111, add_adsorbate\n",
    "\n",
    "h = 1.85\n",
    "d = 1.10\n",
    "\n",
    "slab = fcc111('Cu', size=(4, 4, 2), vacuum=10.0)\n",
    "\n",
    "slab.calc = EMT()\n",
    "e_slab = slab.get_potential_energy()\n",
    "\n",
    "molecule = Atoms('2N', positions=[(0., 0., 0.), (0., 0., d)])\n",
    "molecule.calc = EMT()\n",
    "e_N2 = molecule.get_potential_energy()\n",
    "\n",
    "add_adsorbate(slab, molecule, h, 'ontop')\n",
    "constraint = FixAtoms(mask=[a.symbol != 'N' for a in slab])\n",
    "slab.set_constraint(constraint)\n",
    "dyn = QuasiNewton(slab, trajectory='N2Cu.traj')\n",
    "dyn.run(fmax=0.05)\n",
    "\n",
    "print('吸附能:', e_slab + e_N2 - slab.get_potential_energy())"
   ]
  },
  {
   "attachments": {},
   "cell_type": "markdown",
   "metadata": {},
   "source": [
    "## 输入与输出 <a id='io'></a>\n",
    "\n",
    "使用 write() 函数将原子位置写入文件："
   ]
  },
  {
   "cell_type": "code",
   "execution_count": 10,
   "metadata": {},
   "outputs": [],
   "source": [
    "from ase.io import write\n",
    "\n",
    "write('slab.xyz', slab)"
   ]
  },
  {
   "attachments": {},
   "cell_type": "markdown",
   "metadata": {},
   "source": [
    "这将以xyz格式编写文件。可能的格式有：\n",
    "\n",
    "| 格式   | 描述                       |\n",
    "| ------ | -------------------------- |\n",
    "| `xyz`  | 简单的xyz格式              |\n",
    "| `cube` | 高斯立方体文件             |\n",
    "| `pdb`  | 蛋白质数据储存文件         |\n",
    "| `traj` | ASE自己的轨迹格式          |\n",
    "| `py`   | Python脚本                 |"
   ]
  },
  {
   "attachments": {},
   "cell_type": "markdown",
   "metadata": {},
   "source": [
    "从文件中读取的方法如下："
   ]
  },
  {
   "cell_type": "code",
   "execution_count": 11,
   "metadata": {},
   "outputs": [],
   "source": [
    "from ase.io import read\n",
    "\n",
    "slab_from_file = read('slab.xyz')"
   ]
  },
  {
   "attachments": {},
   "cell_type": "markdown",
   "metadata": {},
   "source": [
    "## 可视化 <a id='visualize'></a>\n",
    "\n",
    "可视化原子的最简单的方法是使用view()函数："
   ]
  },
  {
   "cell_type": "code",
   "execution_count": 12,
   "metadata": {},
   "outputs": [],
   "source": [
    "from ase.visualize import view\n",
    "\n",
    "# view(slab)"
   ]
  },
  {
   "attachments": {},
   "cell_type": "markdown",
   "metadata": {},
   "source": [
    "view(slab) 将弹出一个 ase.gui 窗口。\n",
    "\n",
    "但请注意，默认的 viewer 使用的是 ase.gui 窗口，无法在 notebook 中展示。\n",
    "\n",
    "可以通过指定可选的关键字 viewer=... 来使用备用查看器。\n",
    "\n",
    "（请注意，这些备用查看器不是ASE的一部分，用户需要单独安装。） \n",
    "\n",
    "在 bohrium notebook 中，最佳的 viewer 参数是 `ngl` 或 `x3d` "
   ]
  },
  {
   "attachments": {},
   "cell_type": "markdown",
   "metadata": {},
   "source": [
    "`ngl` 需要 nglview 的支持。一般来说，你的镜像已经安装了nglview，如果没有安装，请执行以下命令"
   ]
  },
  {
   "cell_type": "code",
   "execution_count": 13,
   "metadata": {},
   "outputs": [
    {
     "data": {
      "application/vnd.jupyter.widget-view+json": {
       "model_id": "a3f0bb0874214ba6b83993212aebe323",
       "version_major": 2,
       "version_minor": 0
      },
      "text/plain": []
     },
     "metadata": {},
     "output_type": "display_data"
    },
    {
     "data": {
      "application/vnd.jupyter.widget-view+json": {
       "model_id": "a16c29d7549e46caa23b02fdb97f2f87",
       "version_major": 2,
       "version_minor": 0
      },
      "text/plain": [
       "HBox(children=(NGLWidget(), VBox(children=(Dropdown(description='Show', options=('All', 'N', 'Cu'), value='All…"
      ]
     },
     "metadata": {},
     "output_type": "display_data"
    }
   ],
   "source": [
    "# view(slab, viewer='x3d')\n",
    "view(slab, viewer='ngl')"
   ]
  },
  {
   "attachments": {},
   "cell_type": "markdown",
   "metadata": {},
   "source": [
    "## 运行分子动力学（Molecular dynamics）计算 <a id='molecular-dynamics'></a>\n",
    "\n",
    "让我们以氮分子为例，用 VelocityVerlet 算法来看分子动力学。\n",
    "\n",
    "我们首先创建 VelocityVerlet 对象，将其赋予分子和用于牛顿定律积分的时间步长。\n",
    "\n",
    "然后，我们通过调用其 run() 方法并告诉它要执行多少步骤来执行动力学："
   ]
  },
  {
   "cell_type": "code",
   "execution_count": 14,
   "metadata": {},
   "outputs": [
    {
     "name": "stdout",
     "output_type": "stream",
     "text": [
      " 0: 0.44034 eV, 0.44034 eV, 0.00000 eV\n",
      " 1: 0.43816 eV, 0.26289 eV, 0.17527 eV\n",
      " 2: 0.44058 eV, 0.43142 eV, 0.00916 eV\n",
      " 3: 0.43874 eV, 0.29292 eV, 0.14582 eV\n",
      " 4: 0.44015 eV, 0.41839 eV, 0.02176 eV\n",
      " 5: 0.43831 eV, 0.28902 eV, 0.14929 eV\n",
      " 6: 0.43947 eV, 0.36902 eV, 0.07045 eV\n",
      " 7: 0.43951 eV, 0.35507 eV, 0.08444 eV\n",
      " 8: 0.43959 eV, 0.36221 eV, 0.07738 eV\n",
      " 9: 0.43933 eV, 0.36044 eV, 0.07889 eV\n"
     ]
    }
   ],
   "source": [
    "from ase.md.verlet import VelocityVerlet\n",
    "from ase import units\n",
    "\n",
    "dyn = VelocityVerlet(molecule, dt=1.0 * units.fs)\n",
    "\n",
    "for i in range(10):\n",
    "    pot = molecule.get_potential_energy()\n",
    "    kin = molecule.get_kinetic_energy()\n",
    "    print('%2d: %.5f eV, %.5f eV, %.5f eV' % (i, pot + kin, pot, kin))\n",
    "    dyn.run(steps=20)"
   ]
  },
  {
   "attachments": {},
   "cell_type": "markdown",
   "metadata": {},
   "source": [
    "# 总结 <a id='summary'></a>"
   ]
  },
  {
   "cell_type": "code",
   "execution_count": 15,
   "metadata": {},
   "outputs": [],
   "source": [
    "# 运行完毕后删除生成的临时文件\n",
    "import os\n",
    "\n",
    "tmp_files = ['N2Cu.traj', 'slab.xyz']\n",
    "for i in tmp_files:\n",
    "    os.remove(i)"
   ]
  },
  {
   "cell_type": "markdown",
   "metadata": {},
   "source": [
    "在本教程中，您学习了在 ASE 中的一些基础方法。 \n",
    "\n",
    "具体而言，您了解到： \n",
    "- 使用 ASE 定义分子或晶体。\n",
    "- 计算体系能量并进行结构弛豫。\n",
    "- 使用 ASE 读取或写入原子文件\n",
    "- 可视化原子文件\n",
    "- 使用 ASE 进行分子动力学计算\n",
    " \n",
    "你有什么问题吗？ 欢迎与我们联系 [bohrium@dp.tech](mailto:bohrium@dp.tech) 。"
   ]
  },
  {
   "attachments": {},
   "cell_type": "markdown",
   "metadata": {},
   "source": [
    "# 参考\n",
    "\n",
    "1. https://wiki.fysik.dtu.dk/ase/gettingstarted/surface.html#\n",
    "2. https://gitlab.com/ase/ase/-/tree/master"
   ]
  }
 ],
 "metadata": {
  "kernelspec": {
   "display_name": "ML_env",
   "language": "python",
   "name": "python3"
  },
  "language_info": {
   "codemirror_mode": {
    "name": "ipython",
    "version": 3
   },
   "file_extension": ".py",
   "mimetype": "text/x-python",
   "name": "python",
   "nbconvert_exporter": "python",
   "pygments_lexer": "ipython3",
   "version": "3.9.12"
  },
  "orig_nbformat": 4
 },
 "nbformat": 4,
 "nbformat_minor": 2
}
