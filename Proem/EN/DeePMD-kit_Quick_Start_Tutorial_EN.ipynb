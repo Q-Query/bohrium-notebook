{
 "cells": [
  {
   "cell_type": "markdown",
   "id": "b22f597d-ec17-4ab9-8933-28e92af2438d",
   "metadata": {},
   "source": [
    "# DeePMD-kit Quick Start Tutorial\n",
    "\n",
    "<a href=\"https://bohrium.dp.tech/notebook/a1d17996148f44d09a6447dd4dd19aa6\" target=\"_blank\"><img src=\"https://cdn.dp.tech/bohrium/web/static/images/open-in-bohrium.svg\" alt=\"Open In Bohrium\"/></a>"
   ]
  },
  {
   "cell_type": "markdown",
   "id": "85b62e3d-dfae-402f-96a5-5672367d2d17",
   "metadata": {},
   "source": [
    "\n",
    "DeePMD-kit is a deep learning package for many-body potential energy representation and molecular dynamics. \n",
    "\n",
    "This tutorial can direct run on **Bohrium Notebook** . You can click the above blue button `connect`, choose `bohrium-notebook` as image and `c4_m8_cpu` as computing resources. \n",
    "\n",
    "Wait a minute and you can get started.\n",
    "\n",
    "If you have any questions, you can contact *bohrium@dp.tech* for help. \n"
   ]
  },
  {
   "cell_type": "markdown",
   "id": "f4416190-479c-4b2f-9e08-33690bc4941d",
   "metadata": {},
   "source": [
    "## Task\n",
    "\n",
    "> **Mastering the paradigm cycle of using DeePMD-kit to establish deep potential molecular dynamics models, and following a complete case to learn how to apply it to molecular dynamics tasks.**\n",
    "\n",
    "By the end of this tutorial, you will be able to:\n",
    "\n",
    "* Prepare the formataive dataset and running scripts for training with DeePMD-kit;\n",
    "* Train, freeze, and test DeePMD-kit models;\n",
    "* Use DeePMD-kit in Lammps for calculations;\n",
    "\n",
    "Work through this tutorial. It will take you 20 minutes, max!"
   ]
  },
  {
   "cell_type": "markdown",
   "id": "8e6587cb-ba6e-42ba-a139-0595fc7f79d7",
   "metadata": {},
   "source": [
    "## Table of contents\n",
    "\n",
    "* Get tutorial data via git\n",
    "* General Introduction\n",
    "* Data preparation\n",
    "* Prepare input script\n",
    "* Train a model\n",
    "* Freeze a model\n",
    "* Test a model\n",
    "* Run MD with LAMMPS"
   ]
  },
  {
   "cell_type": "markdown",
   "id": "adc6bbb1-a51b-421d-88f6-eb8eef79f432",
   "metadata": {},
   "source": [
    "## Get tutorial data via git"
   ]
  },
  {
   "cell_type": "code",
   "execution_count": 1,
   "id": "f493fdb7-7844-4152-8b8e-a4d9d1da58ff",
   "metadata": {
    "tags": []
   },
   "outputs": [],
   "source": [
    "! if ! [ -e colombo-academy-tutorials ];then git clone https://gitee.com/deepmodeling/colombo-academy-tutorials.git;fi;"
   ]
  },
  {
   "cell_type": "markdown",
   "id": "f98ce5f8-fb36-4e00-962f-028011801a53",
   "metadata": {},
   "source": [
    "## General Introduction\n",
    "This tutorial will introduce you to the basic usage of the DeePMD-kit, taking a gas phase methane molecule as an example. [DeePMD-kit's document](https://docs.deepmodeling.org/projects/deepmd/en/master/index.html \n",
    ") is recommended as the complete reference.\n",
    "\n",
    "The DP model is generated using the DeePMD-kit package (v2.1.5). The training data is converted into the format of DeePMD-kit using a tool named dpdata (v0.2.14). \n",
    "\n",
    "Details of dpdata and DeePMD-kit installation and execution of can be found in [the DeepModeling official GitHub site](https://github.com/deepmodeling). \n",
    "\n",
    "We've prepared initial data for CH4 for you, and put them in the folder `colombo-academy-tutorials/DeePMD-kit/00.data`"
   ]
  },
  {
   "cell_type": "code",
   "execution_count": 2,
   "id": "cfbbb9cc-2d7a-40f6-b384-46c698b77162",
   "metadata": {},
   "outputs": [],
   "source": [
    "import os\n",
    "prefix_path = os.getcwd()"
   ]
  },
  {
   "cell_type": "markdown",
   "id": "209c5dd7-983a-468e-9406-652ade04be91",
   "metadata": {},
   "source": [
    "Folder `abacus_md` is obtained by performing ab-initio molecular dynamics with ABACUS. Detailed instructions on ABACUS can be found in its [document](https://abacus.deepmodeling.com/en/latest/). "
   ]
  },
  {
   "cell_type": "code",
   "execution_count": 3,
   "id": "533a4436-803b-45dd-91a3-2813d118df18",
   "metadata": {},
   "outputs": [
    {
     "data": {
      "text/plain": [
       "['C_ONCV_PBE-1.2.upf',\n",
       " 'C_gga_6au_100Ry_2s2p1d.orb',\n",
       " 'H_ONCV_PBE-1.2.upf',\n",
       " 'H_gga_6au_100Ry_2s1p.orb',\n",
       " 'INPUT',\n",
       " 'KPT',\n",
       " 'OUT.ABACUS',\n",
       " 'STRU']"
      ]
     },
     "execution_count": 3,
     "metadata": {},
     "output_type": "execute_result"
    }
   ],
   "source": [
    "os.chdir(os.path.join(prefix_path, \"colombo-academy-tutorials\", \"DeePMD-kit\", \"00.data\"))\n",
    "os.listdir(\"abacus_md\")"
   ]
  },
  {
   "cell_type": "markdown",
   "id": "f630966f-379f-4140-8ce9-4df19f7c1cc6",
   "metadata": {},
   "source": [
    "## Data preparation\n",
    "\n",
    "The training data utilized by DeePMD-kit comprises essential information such as atom type, simulation box, atom coordinate, atom force, system energy, and virial. A snapshot of a molecular system that includes this data is called a `frame`. Multiple frames with the same number of atoms and atom types make up a `system` of data. For instance, a molecular dynamics trajectory can be converted into a system of data, with each time step corresponding to a frame in the system.\n",
    "\n",
    "To simplify the process of converting data generated by popular simulation software like CP2K, Gaussian, Quantum-Espresso, ABACUS, and LAMMPS into the compressed format of DeePMD-kit, we offer a convenient tool called `dpdata`.\n"
   ]
  },
  {
   "cell_type": "markdown",
   "id": "f971d1d5-a90d-499f-92f2-b3c31f3e70ab",
   "metadata": {},
   "source": [
    "Next, the data from AIMD is splited randomly as training and validation data."
   ]
  },
  {
   "cell_type": "code",
   "execution_count": 4,
   "id": "647bf5c0-4df1-4510-8444-51774295adc7",
   "metadata": {},
   "outputs": [
    {
     "name": "stdout",
     "output_type": "stream",
     "text": [
      "# the data contains 201 frames\n",
      "# the training data contains 161 frames\n",
      "# the validation data contains 40 frames\n"
     ]
    }
   ],
   "source": [
    "import dpdata \n",
    "import numpy as np\n",
    "\n",
    "# load data of abacus/md format\n",
    "data = dpdata.LabeledSystem('abacus_md', fmt = 'abacus/md') \n",
    "print('# the data contains %d frames' % len(data))\n",
    "\n",
    "# random choose 40 index for validation_data\n",
    "index_validation = np.random.choice(201,size=40,replace=False)\n",
    "\n",
    "# other indexes are training_data\n",
    "index_training = list(set(range(201))-set(index_validation))\n",
    "data_training = data.sub_system(index_training)\n",
    "data_validation = data.sub_system(index_validation)\n",
    "\n",
    "# all training data put into directory:\"training_data\"\n",
    "data_training.to_deepmd_npy('training_data')\n",
    "\n",
    "# all validation data put into directory:\"validation_data\"\n",
    "data_validation.to_deepmd_npy('validation_data')\n",
    "\n",
    "print('# the training data contains %d frames' % len(data_training)) \n",
    "print('# the validation data contains %d frames' % len(data_validation)) "
   ]
  },
  {
   "cell_type": "markdown",
   "id": "98719865-ab3d-4440-8c14-78a1c253c3a6",
   "metadata": {},
   "source": [
    "As you can see, 161 frames are picked as training data, and the other 40 frames are validation dat."
   ]
  },
  {
   "cell_type": "markdown",
   "id": "a999f41b-e343-4dc2-8499-84fee6e52221",
   "metadata": {},
   "source": [
    "The DeePMD-kit adopts a compressed data format. All training data should first be converted into this format and can then be used by DeePMD-kit. The data format is explained in detail in the DeePMD-kit manual that can be found in [the DeePMD-kit official Github site](http://www.github.com/deepmodeling/deepmd-kit) ."
   ]
  },
  {
   "cell_type": "code",
   "execution_count": 5,
   "id": "e5befaf5-c464-4e8f-8544-a2634f5fd1d2",
   "metadata": {},
   "outputs": [
    {
     "name": "stdout",
     "output_type": "stream",
     "text": [
      "\u001b[01;34mtraining_data\u001b[00m\n",
      "├── \u001b[01;34mset.000\u001b[00m\n",
      "│   ├── box.npy\n",
      "│   ├── coord.npy\n",
      "│   ├── energy.npy\n",
      "│   ├── force.npy\n",
      "│   └── virial.npy\n",
      "├── type.raw\n",
      "└── type_map.raw\n",
      "\n",
      "1 directory, 7 files\n"
     ]
    }
   ],
   "source": [
    "! tree training_data"
   ]
  },
  {
   "cell_type": "markdown",
   "id": "99770e51-4d9e-44db-bb93-1c7061c8862c",
   "metadata": {},
   "source": [
    "Let's have a look at `type.raw`:"
   ]
  },
  {
   "cell_type": "code",
   "execution_count": 6,
   "id": "a686585c-3e5b-4a5c-9cc7-4db7759b74b2",
   "metadata": {},
   "outputs": [
    {
     "name": "stdout",
     "output_type": "stream",
     "text": [
      "0\n",
      "0\n",
      "0\n",
      "0\n",
      "1\n"
     ]
    }
   ],
   "source": [
    "! cat training_data/type.raw "
   ]
  },
  {
   "cell_type": "markdown",
   "id": "b5357cc5-9cdd-4c52-a611-a84cee739fb0",
   "metadata": {},
   "source": [
    "This tells us there are 5 atoms in this example, 4 atoms represented by type \"0\", and 1 atom represented by type \"1\".\n",
    "Sometimes one needs to map the integer types to atom name. The mapping can be given by the file `type_map.raw`"
   ]
  },
  {
   "cell_type": "code",
   "execution_count": 7,
   "id": "6216f02d-3a21-481f-99da-3f23b438a7c0",
   "metadata": {},
   "outputs": [
    {
     "name": "stdout",
     "output_type": "stream",
     "text": [
      "H\n",
      "C\n"
     ]
    }
   ],
   "source": [
    "! cat training_data/type_map.raw "
   ]
  },
  {
   "cell_type": "markdown",
   "id": "1196aa0f-22c5-4b96-8640-c82068fa7828",
   "metadata": {},
   "source": [
    "This tells us the type \"0\" is named by \"H\", and the type \"1\" is named by \"C\".\n",
    "\n",
    "More detailed doc about Data conversion can be found [here](https://docs.deepmodeling.org/projects/deepmd/en/master/data/data-conv.html)"
   ]
  },
  {
   "cell_type": "markdown",
   "id": "ac6c969b-10cb-49f0-9b84-7dc9ffa38c61",
   "metadata": {},
   "source": [
    "## Prepare input script \n",
    "Once the data preparation is done, we can go on with training. Now go to the training directory"
   ]
  },
  {
   "cell_type": "code",
   "execution_count": 8,
   "id": "f0b2fa6b-81c2-41ec-b29e-37ff1f6e3b31",
   "metadata": {},
   "outputs": [],
   "source": [
    "os.chdir(os.path.join(prefix_path, \"colombo-academy-tutorials\", \"DeePMD-kit\", \"01.train\"))"
   ]
  },
  {
   "cell_type": "markdown",
   "id": "0a4c680a-abcf-40b9-b00e-fa4615aa91b9",
   "metadata": {},
   "source": [
    "DeePMD-kit requires a `json` format file to specify parameters for training. \n",
    "\n",
    "In the model section, the parameters of embedding and fitting networks are specified.\n",
    "```json\n",
    "\"model\":{\n",
    "    \"type_map\":    [\"H\", \"C\"],                 \n",
    "    \"descriptor\":{\n",
    "        \"type\":            \"se_e2_a\",          \n",
    "        \"rcut\":            6.00,               \n",
    "        \"rcut_smth\":       0.50,               \n",
    "        \"sel\":             \"auto\",             \n",
    "        \"neuron\":          [25, 50, 100],       \n",
    "        \"resnet_dt\":       false,\n",
    "        \"axis_neuron\":     16,                  \n",
    "        \"seed\":            1,\n",
    "        \"_comment\":        \"that's all\"\n",
    "        },\n",
    "    \"fitting_net\":{\n",
    "        \"neuron\":          [240, 240, 240],    \n",
    "        \"resnet_dt\":       true,\n",
    "        \"seed\":            1,\n",
    "        \"_comment\":        \"that's all\"\n",
    "    },\n",
    "    \"_comment\":    \"that's all\"'\n",
    "},\n",
    "```\n",
    "The explanation for some of the parameters is as follows:\n",
    "\n",
    "| Parameter                | Expiation                                                    |\n",
    "| ------------------------ | ------------------------------------------------------------ |\n",
    "| type_map                 | *the* *name* *of* *each* *type* *of* *atom*                  |\n",
    "| descriptor > type        | *the* *type* *of* *descriptor*                               |\n",
    "| descriptor > rcut        | *cut-off* *radius*                                           |\n",
    "| descriptor > rcut_smth   | *where* *the* *smoothing* *starts*                           |\n",
    "| descriptor > sel         | *the* *maximum* *number* *of* *type* *i* *atoms* *in* *the* *cut-off* *radius* |\n",
    "| descriptor > neuron      | *size* *of* *the* *embedding* *neural* *network*             |\n",
    "| descriptor > axis_neuron | *the* *size* *of* *the* *submatrix* *of* *G* *(embedding* *matrix)* |\n",
    "| fitting_net > neuron     | *size* *of* *the* *fitting* *neural* *network*               |\n",
    "\n",
    "The `se_e2_a` descriptor is used to train the DP model. The item neurons set the size of the descriptors and fitting network to [25, 50, 100] and [240, 240, 240], respectively. The components in local environment to smoothly go to zero from 0.5 to 6 Å.\n",
    "\n",
    "The following are the parameters that specify the learning rate and loss function.\n",
    "```json\n",
    "    \"learning_rate\" :{\n",
    "        \"type\":                \"exp\",\n",
    "        \"decay_steps\":         50,\n",
    "        \"start_lr\":            0.001,    \n",
    "        \"stop_lr\":             3.51e-8,\n",
    "        \"_comment\":            \"that's all\"\n",
    "    },\n",
    "    \"loss\" :{\n",
    "        \"type\":                \"ener\",\n",
    "        \"start_pref_e\":        0.02,\n",
    "        \"limit_pref_e\":        1,\n",
    "        \"start_pref_f\":        1000,\n",
    "        \"limit_pref_f\":        1,\n",
    "        \"start_pref_v\":        0,\n",
    "        \"limit_pref_v\":        0,\n",
    "        \"_comment\":            \"that's all\"\n",
    "    },\n",
    "```\n",
    "In the loss function, `pref_e` increases from 0.02 to 1, and `pref_f` decreases from 1000 to 1  progressively, which means that the force term dominates at the beginning, while energy and virial terms become important at the end. This strategy is very effective and reduces the total training time. `pref_v` is set to 0 , indicating that no virial data are included in the training process. The starting learning rate, stop learning rate, and decay steps are set to 0.001, 3.51e-8, and 50, respectively. The model is trained for 10000 steps.\n",
    "\n",
    "The training parameters are given in the following\n",
    "```json\n",
    "    \"training\" : {\n",
    "        \"training_data\": {\n",
    "            \"systems\":            [\"../00.data/training_data\"],     \n",
    "            \"batch_size\":         \"auto\",                       \n",
    "            \"_comment\":           \"that's all\"\n",
    "        },\n",
    "        \"validation_data\":{\n",
    "            \"systems\":            [\"../00.data/validation_data/\"],\n",
    "            \"batch_size\":         \"auto\",               \n",
    "            \"numb_btch\":          1,\n",
    "            \"_comment\":           \"that's all\"\n",
    "        },\n",
    "        \"numb_steps\":             10000,                           \n",
    "        \"seed\":                   10,\n",
    "        \"disp_file\":              \"lcurve.out\",\n",
    "        \"disp_freq\":              200,\n",
    "        \"save_freq\":              10000,\n",
    "        },\n",
    "```"
   ]
  },
  {
   "cell_type": "markdown",
   "id": "7b0edb0f-df47-4e6c-8c37-5f32c4bd6b39",
   "metadata": {},
   "source": [
    "More detailed docs about Data conversion can be found [here](https://docs.deepmodeling.org/projects/deepmd/en/master/data/data-conv.html)"
   ]
  },
  {
   "cell_type": "markdown",
   "id": "bafe20b8-3bde-403c-ae42-b68ba5f29703",
   "metadata": {},
   "source": [
    "## Train a model\n",
    "After the training script is prepared, we can start the training with DeePMD-kit by simply running"
   ]
  },
  {
   "cell_type": "code",
   "execution_count": 9,
   "id": "e04a05a3-ccac-474b-bc24-58fbf20b9ffe",
   "metadata": {
    "scrolled": true,
    "tags": []
   },
   "outputs": [
    {
     "name": "stdout",
     "output_type": "stream",
     "text": [
      "WARNING:tensorflow:From /opt/deepmd-kit-2.2.1/lib/python3.10/site-packages/tensorflow/python/compat/v2_compat.py:107: disable_resource_variables (from tensorflow.python.ops.variable_scope) is deprecated and will be removed in a future version.\n",
      "Instructions for updating:\n",
      "non-resource variables are not supported in the long term\n",
      "WARNING:root:To get the best performance, it is recommended to adjust the number of threads by setting the environment variables OMP_NUM_THREADS, TF_INTRA_OP_PARALLELISM_THREADS, and TF_INTER_OP_PARALLELISM_THREADS. See https://deepmd.rtfd.io/parallelism/ for more information.\n",
      "WARNING:root:Environment variable KMP_BLOCKTIME is empty. Use the default value 0\n",
      "WARNING:root:Environment variable KMP_AFFINITY is empty. Use the default value granularity=fine,verbose,compact,1,0\n",
      "/opt/deepmd-kit-2.2.1/lib/python3.10/importlib/__init__.py:169: UserWarning: The NumPy module was reloaded (imported a second time). This can in some cases result in small but subtle issues and is discouraged.\n",
      "  _bootstrap._exec(spec, module)\n",
      "DEEPMD INFO    Calculate neighbor statistics... (add --skip-neighbor-stat to skip this step)\n",
      "OMP: Info #155: KMP_AFFINITY: Initial OS proc set respected: 0-15\n",
      "OMP: Info #216: KMP_AFFINITY: decoding x2APIC ids.\n",
      "OMP: Info #157: KMP_AFFINITY: 16 available OS procs\n",
      "OMP: Info #158: KMP_AFFINITY: Uniform topology\n",
      "OMP: Info #287: KMP_AFFINITY: topology layer \"LL cache\" is equivalent to \"core\".\n",
      "OMP: Info #287: KMP_AFFINITY: topology layer \"L2 cache\" is equivalent to \"core\".\n",
      "OMP: Info #287: KMP_AFFINITY: topology layer \"L1 cache\" is equivalent to \"core\".\n",
      "OMP: Info #192: KMP_AFFINITY: 1 socket x 8 cores/socket x 2 threads/core (8 total cores)\n",
      "OMP: Info #218: KMP_AFFINITY: OS proc to physical thread map:\n",
      "OMP: Info #172: KMP_AFFINITY: OS proc 0 maps to socket 0 core 0 thread 0 \n",
      "OMP: Info #172: KMP_AFFINITY: OS proc 1 maps to socket 0 core 0 thread 1 \n",
      "OMP: Info #172: KMP_AFFINITY: OS proc 2 maps to socket 0 core 1 thread 0 \n",
      "OMP: Info #172: KMP_AFFINITY: OS proc 3 maps to socket 0 core 1 thread 1 \n",
      "OMP: Info #172: KMP_AFFINITY: OS proc 4 maps to socket 0 core 2 thread 0 \n",
      "OMP: Info #172: KMP_AFFINITY: OS proc 5 maps to socket 0 core 2 thread 1 \n",
      "OMP: Info #172: KMP_AFFINITY: OS proc 6 maps to socket 0 core 3 thread 0 \n",
      "OMP: Info #172: KMP_AFFINITY: OS proc 7 maps to socket 0 core 3 thread 1 \n",
      "OMP: Info #172: KMP_AFFINITY: OS proc 8 maps to socket 0 core 4 thread 0 \n",
      "OMP: Info #172: KMP_AFFINITY: OS proc 9 maps to socket 0 core 4 thread 1 \n",
      "OMP: Info #172: KMP_AFFINITY: OS proc 10 maps to socket 0 core 5 thread 0 \n",
      "OMP: Info #172: KMP_AFFINITY: OS proc 11 maps to socket 0 core 5 thread 1 \n",
      "OMP: Info #172: KMP_AFFINITY: OS proc 12 maps to socket 0 core 6 thread 0 \n",
      "OMP: Info #172: KMP_AFFINITY: OS proc 13 maps to socket 0 core 6 thread 1 \n",
      "OMP: Info #172: KMP_AFFINITY: OS proc 14 maps to socket 0 core 7 thread 0 \n",
      "OMP: Info #172: KMP_AFFINITY: OS proc 15 maps to socket 0 core 7 thread 1 \n",
      "OMP: Info #254: KMP_AFFINITY: pid 1532 tid 1585 thread 1 bound to OS proc set 2\n",
      "OMP: Info #254: KMP_AFFINITY: pid 1532 tid 1587 thread 2 bound to OS proc set 4\n",
      "OMP: Info #254: KMP_AFFINITY: pid 1532 tid 1588 thread 3 bound to OS proc set 6\n",
      "OMP: Info #254: KMP_AFFINITY: pid 1532 tid 1589 thread 4 bound to OS proc set 8\n",
      "OMP: Info #254: KMP_AFFINITY: pid 1532 tid 1590 thread 5 bound to OS proc set 10\n",
      "OMP: Info #254: KMP_AFFINITY: pid 1532 tid 1591 thread 6 bound to OS proc set 12\n",
      "OMP: Info #254: KMP_AFFINITY: pid 1532 tid 1592 thread 7 bound to OS proc set 14\n",
      "OMP: Info #254: KMP_AFFINITY: pid 1532 tid 1593 thread 8 bound to OS proc set 1\n",
      "OMP: Info #254: KMP_AFFINITY: pid 1532 tid 1594 thread 9 bound to OS proc set 3\n",
      "OMP: Info #254: KMP_AFFINITY: pid 1532 tid 1595 thread 10 bound to OS proc set 5\n",
      "OMP: Info #254: KMP_AFFINITY: pid 1532 tid 1596 thread 11 bound to OS proc set 7\n",
      "OMP: Info #254: KMP_AFFINITY: pid 1532 tid 1597 thread 12 bound to OS proc set 9\n",
      "OMP: Info #254: KMP_AFFINITY: pid 1532 tid 1598 thread 13 bound to OS proc set 11\n",
      "OMP: Info #254: KMP_AFFINITY: pid 1532 tid 1599 thread 14 bound to OS proc set 13\n",
      "OMP: Info #254: KMP_AFFINITY: pid 1532 tid 1600 thread 15 bound to OS proc set 15\n",
      "OMP: Info #254: KMP_AFFINITY: pid 1532 tid 1601 thread 16 bound to OS proc set 0\n",
      "OMP: Info #254: KMP_AFFINITY: pid 1532 tid 1584 thread 17 bound to OS proc set 2\n",
      "OMP: Info #254: KMP_AFFINITY: pid 1532 tid 1602 thread 18 bound to OS proc set 4\n",
      "OMP: Info #254: KMP_AFFINITY: pid 1532 tid 1603 thread 19 bound to OS proc set 6\n",
      "OMP: Info #254: KMP_AFFINITY: pid 1532 tid 1604 thread 20 bound to OS proc set 8\n",
      "OMP: Info #254: KMP_AFFINITY: pid 1532 tid 1605 thread 21 bound to OS proc set 10\n",
      "OMP: Info #254: KMP_AFFINITY: pid 1532 tid 1606 thread 22 bound to OS proc set 12\n",
      "OMP: Info #254: KMP_AFFINITY: pid 1532 tid 1607 thread 23 bound to OS proc set 14\n",
      "OMP: Info #254: KMP_AFFINITY: pid 1532 tid 1608 thread 24 bound to OS proc set 1\n",
      "OMP: Info #254: KMP_AFFINITY: pid 1532 tid 1609 thread 25 bound to OS proc set 3\n",
      "OMP: Info #254: KMP_AFFINITY: pid 1532 tid 1610 thread 26 bound to OS proc set 5\n",
      "OMP: Info #254: KMP_AFFINITY: pid 1532 tid 1611 thread 27 bound to OS proc set 7\n",
      "OMP: Info #254: KMP_AFFINITY: pid 1532 tid 1612 thread 28 bound to OS proc set 9\n",
      "OMP: Info #254: KMP_AFFINITY: pid 1532 tid 1613 thread 29 bound to OS proc set 11\n",
      "OMP: Info #254: KMP_AFFINITY: pid 1532 tid 1615 thread 31 bound to OS proc set 15\n",
      "OMP: Info #254: KMP_AFFINITY: pid 1532 tid 1614 thread 30 bound to OS proc set 13\n",
      "OMP: Info #254: KMP_AFFINITY: pid 1532 tid 1616 thread 32 bound to OS proc set 0\n",
      "DEEPMD INFO    training data with min nbor dist: 1.045920568611028\n",
      "DEEPMD INFO    training data with max nbor size: [4 1]\n",
      "DEEPMD INFO     _____               _____   __  __  _____           _     _  _   \n",
      "DEEPMD INFO    |  __ \\             |  __ \\ |  \\/  ||  __ \\         | |   (_)| |  \n",
      "DEEPMD INFO    | |  | |  ___   ___ | |__) || \\  / || |  | | ______ | | __ _ | |_ \n",
      "DEEPMD INFO    | |  | | / _ \\ / _ \\|  ___/ | |\\/| || |  | ||______|| |/ /| || __|\n",
      "DEEPMD INFO    | |__| ||  __/|  __/| |     | |  | || |__| |        |   < | || |_ \n",
      "DEEPMD INFO    |_____/  \\___| \\___||_|     |_|  |_||_____/         |_|\\_\\|_| \\__|\n",
      "DEEPMD INFO    Please read and cite:\n",
      "DEEPMD INFO    Wang, Zhang, Han and E, Comput.Phys.Comm. 228, 178-184 (2018)\n",
      "DEEPMD INFO    installed to:         /home/conda/feedstock_root/build_artifacts/deepmd-kit_1678943793317/work/_skbuild/linux-x86_64-3.10/cmake-install\n",
      "DEEPMD INFO    source :              v2.2.1\n",
      "DEEPMD INFO    source brach:         HEAD\n",
      "DEEPMD INFO    source commit:        3ac8c4c7\n",
      "DEEPMD INFO    source commit at:     2023-03-16 12:33:24 +0800\n",
      "DEEPMD INFO    build float prec:     double\n",
      "DEEPMD INFO    build variant:        cuda\n",
      "DEEPMD INFO    build with tf inc:    /opt/deepmd-kit-2.2.1/lib/python3.10/site-packages/tensorflow/include;/opt/deepmd-kit-2.2.1/lib/python3.10/site-packages/tensorflow/../../../../include\n",
      "DEEPMD INFO    build with tf lib:    \n",
      "DEEPMD INFO    ---Summary of the training---------------------------------------\n",
      "DEEPMD INFO    running on:           bohrium-14076-1013194\n",
      "DEEPMD INFO    computing device:     gpu:0\n",
      "DEEPMD INFO    CUDA_VISIBLE_DEVICES: unset\n",
      "DEEPMD INFO    Count of visible GPU: 1\n",
      "DEEPMD INFO    num_intra_threads:    0\n",
      "DEEPMD INFO    num_inter_threads:    0\n",
      "DEEPMD INFO    -----------------------------------------------------------------\n",
      "DEEPMD INFO    ---Summary of DataSystem: training     -----------------------------------------------\n",
      "DEEPMD INFO    found 1 system(s):\n",
      "DEEPMD INFO                                        system  natoms  bch_sz   n_bch   prob  pbc\n",
      "DEEPMD INFO                      ../00.data/training_data       5       7      23  1.000    T\n",
      "DEEPMD INFO    --------------------------------------------------------------------------------------\n",
      "DEEPMD INFO    ---Summary of DataSystem: validation   -----------------------------------------------\n",
      "DEEPMD INFO    found 1 system(s):\n",
      "DEEPMD INFO                                        system  natoms  bch_sz   n_bch   prob  pbc\n",
      "DEEPMD INFO                    ../00.data/validation_data       5       7       5  1.000    T\n",
      "DEEPMD INFO    --------------------------------------------------------------------------------------\n",
      "DEEPMD INFO    training without frame parameter\n",
      "DEEPMD INFO    data stating... (this step may take long time)\n",
      "OMP: Info #254: KMP_AFFINITY: pid 1532 tid 1532 thread 0 bound to OS proc set 0\n",
      "DEEPMD INFO    built lr\n",
      "DEEPMD INFO    built network\n",
      "DEEPMD INFO    built training\n",
      "WARNING:root:To get the best performance, it is recommended to adjust the number of threads by setting the environment variables OMP_NUM_THREADS, TF_INTRA_OP_PARALLELISM_THREADS, and TF_INTER_OP_PARALLELISM_THREADS. See https://deepmd.rtfd.io/parallelism/ for more information.\n",
      "DEEPMD INFO    initialize model from scratch\n",
      "DEEPMD INFO    start training at lr 1.00e-03 (== 1.00e-03), decay_step 50, decay_rate 0.950006, final lr will be 3.51e-08\n",
      "DEEPMD INFO    batch     200 training time 4.85 s, testing time 0.02 s\n",
      "DEEPMD INFO    batch     400 training time 3.63 s, testing time 0.02 s\n",
      "DEEPMD INFO    batch     600 training time 3.66 s, testing time 0.02 s\n",
      "DEEPMD INFO    batch     800 training time 3.69 s, testing time 0.02 s\n",
      "DEEPMD INFO    batch    1000 training time 3.63 s, testing time 0.02 s\n",
      "DEEPMD INFO    saved checkpoint model.ckpt\n",
      "DEEPMD INFO    batch    1200 training time 3.66 s, testing time 0.02 s\n",
      "DEEPMD INFO    batch    1400 training time 3.62 s, testing time 0.02 s\n",
      "DEEPMD INFO    batch    1600 training time 3.65 s, testing time 0.02 s\n",
      "DEEPMD INFO    batch    1800 training time 3.64 s, testing time 0.02 s\n",
      "DEEPMD INFO    batch    2000 training time 3.68 s, testing time 0.02 s\n",
      "DEEPMD INFO    saved checkpoint model.ckpt\n",
      "DEEPMD INFO    batch    2200 training time 3.61 s, testing time 0.02 s\n",
      "DEEPMD INFO    batch    2400 training time 3.62 s, testing time 0.02 s\n",
      "DEEPMD INFO    batch    2600 training time 3.65 s, testing time 0.02 s\n",
      "DEEPMD INFO    batch    2800 training time 3.66 s, testing time 0.02 s\n",
      "DEEPMD INFO    batch    3000 training time 3.63 s, testing time 0.02 s\n",
      "DEEPMD INFO    saved checkpoint model.ckpt\n",
      "DEEPMD INFO    batch    3200 training time 3.68 s, testing time 0.02 s\n",
      "DEEPMD INFO    batch    3400 training time 3.65 s, testing time 0.02 s\n",
      "DEEPMD INFO    batch    3600 training time 3.65 s, testing time 0.02 s\n",
      "DEEPMD INFO    batch    3800 training time 3.67 s, testing time 0.02 s\n",
      "DEEPMD INFO    batch    4000 training time 3.65 s, testing time 0.02 s\n",
      "DEEPMD INFO    saved checkpoint model.ckpt\n",
      "DEEPMD INFO    batch    4200 training time 3.66 s, testing time 0.02 s\n",
      "DEEPMD INFO    batch    4400 training time 3.66 s, testing time 0.02 s\n",
      "DEEPMD INFO    batch    4600 training time 3.63 s, testing time 0.02 s\n",
      "DEEPMD INFO    batch    4800 training time 3.66 s, testing time 0.02 s\n",
      "DEEPMD INFO    batch    5000 training time 3.64 s, testing time 0.02 s\n",
      "DEEPMD INFO    saved checkpoint model.ckpt\n",
      "DEEPMD INFO    batch    5200 training time 3.67 s, testing time 0.02 s\n",
      "DEEPMD INFO    batch    5400 training time 3.66 s, testing time 0.02 s\n",
      "DEEPMD INFO    batch    5600 training time 3.63 s, testing time 0.02 s\n",
      "DEEPMD INFO    batch    5800 training time 3.64 s, testing time 0.02 s\n",
      "DEEPMD INFO    batch    6000 training time 3.67 s, testing time 0.02 s\n",
      "WARNING:tensorflow:From /opt/deepmd-kit-2.2.1/lib/python3.10/site-packages/tensorflow/python/training/saver.py:1066: remove_checkpoint (from tensorflow.python.training.checkpoint_management) is deprecated and will be removed in a future version.\n",
      "Instructions for updating:\n",
      "Use standard file APIs to delete files with this prefix.\n",
      "WARNING:tensorflow:From /opt/deepmd-kit-2.2.1/lib/python3.10/site-packages/tensorflow/python/training/saver.py:1066: remove_checkpoint (from tensorflow.python.training.checkpoint_management) is deprecated and will be removed in a future version.\n",
      "Instructions for updating:\n",
      "Use standard file APIs to delete files with this prefix.\n",
      "DEEPMD INFO    saved checkpoint model.ckpt\n",
      "DEEPMD INFO    batch    6200 training time 3.63 s, testing time 0.02 s\n",
      "DEEPMD INFO    batch    6400 training time 3.63 s, testing time 0.02 s\n",
      "DEEPMD INFO    batch    6600 training time 3.64 s, testing time 0.02 s\n",
      "DEEPMD INFO    batch    6800 training time 3.64 s, testing time 0.02 s\n",
      "DEEPMD INFO    batch    7000 training time 3.66 s, testing time 0.02 s\n",
      "DEEPMD INFO    saved checkpoint model.ckpt\n",
      "DEEPMD INFO    batch    7200 training time 3.65 s, testing time 0.02 s\n",
      "DEEPMD INFO    batch    7400 training time 3.67 s, testing time 0.02 s\n",
      "DEEPMD INFO    batch    7600 training time 3.68 s, testing time 0.02 s\n",
      "DEEPMD INFO    batch    7800 training time 3.68 s, testing time 0.02 s\n",
      "DEEPMD INFO    batch    8000 training time 3.69 s, testing time 0.02 s\n",
      "DEEPMD INFO    saved checkpoint model.ckpt\n",
      "DEEPMD INFO    batch    8200 training time 3.65 s, testing time 0.02 s\n",
      "DEEPMD INFO    batch    8400 training time 3.64 s, testing time 0.02 s\n",
      "DEEPMD INFO    batch    8600 training time 3.65 s, testing time 0.02 s\n",
      "DEEPMD INFO    batch    8800 training time 3.67 s, testing time 0.02 s\n",
      "DEEPMD INFO    batch    9000 training time 3.64 s, testing time 0.02 s\n",
      "DEEPMD INFO    saved checkpoint model.ckpt\n",
      "DEEPMD INFO    batch    9200 training time 3.66 s, testing time 0.02 s\n",
      "DEEPMD INFO    batch    9400 training time 3.66 s, testing time 0.02 s\n",
      "DEEPMD INFO    batch    9600 training time 3.63 s, testing time 0.02 s\n",
      "DEEPMD INFO    batch    9800 training time 3.64 s, testing time 0.02 s\n",
      "DEEPMD INFO    batch   10000 training time 3.64 s, testing time 0.02 s\n",
      "DEEPMD INFO    saved checkpoint model.ckpt\n",
      "DEEPMD INFO    average training time: 0.0183 s/batch (exclude first 200 batches)\n",
      "DEEPMD INFO    finished training\n",
      "DEEPMD INFO    wall time: 193.686 s\n"
     ]
    }
   ],
   "source": [
    "! dp train input.json"
   ]
  },
  {
   "cell_type": "markdown",
   "id": "c10e0a81-ef33-49ab-ae2d-83fbd35985ac",
   "metadata": {
    "tags": []
   },
   "source": [
    "On the screen, you will see the information of the data system(s)\n",
    "```\n",
    "DEEPMD INFO    -----------------------------------------------------------------\n",
    "DEEPMD INFO    ---Summary of DataSystem: training     ----------------------------------\n",
    "DEEPMD INFO    found 1 system(s):\n",
    "DEEPMD INFO                                 system  natoms  bch_sz   n_bch   prob  pbc\n",
    "DEEPMD INFO               ../00.data/training_data       5       7      23  1.000    T\n",
    "DEEPMD INFO    -------------------------------------------------------------------------\n",
    "DEEPMD INFO    ---Summary of DataSystem: validation   ----------------------------------\n",
    "DEEPMD INFO    found 1 system(s):\n",
    "DEEPMD INFO                                 system  natoms  bch_sz   n_bch   prob  pbc\n",
    "DEEPMD INFO             ../00.data/validation_data       5       7       5  1.000    T\n",
    "DEEPMD INFO    -------------------------------------------------------------------------\n",
    "```\n",
    "and the starting and final learning rate of this training\n",
    "```\n",
    "DEEPMD INFO    start training at lr 1.00e-03 (== 1.00e-03), decay_step 50, decay_rate 0.950006, final lr will be 3.51e-08\n",
    "```\n",
    "If everything works fine, you will see, on the screen, information printed every 1000 steps, like\n",
    "```\n",
    "DEEPMD INFO    batch     200 training time 6.04 s, testing time 0.02 s\n",
    "DEEPMD INFO    batch     400 training time 4.80 s, testing time 0.02 s\n",
    "DEEPMD INFO    batch     600 training time 4.80 s, testing time 0.02 s\n",
    "DEEPMD INFO    batch     800 training time 4.78 s, testing time 0.02 s\n",
    "DEEPMD INFO    batch    1000 training time 4.77 s, testing time 0.02 s\n",
    "DEEPMD INFO    saved checkpoint model.ckpt\n",
    "DEEPMD INFO    batch    1200 training time 4.47 s, testing time 0.02 s\n",
    "DEEPMD INFO    batch    1400 training time 4.49 s, testing time 0.02 s\n",
    "DEEPMD INFO    batch    1600 training time 4.45 s, testing time 0.02 s\n",
    "DEEPMD INFO    batch    1800 training time 4.44 s, testing time 0.02 s\n",
    "DEEPMD INFO    batch    2000 training time 4.46 s, testing time 0.02 s\n",
    "DEEPMD INFO    saved checkpoint model.ckpt\n",
    "```\n",
    "They present the training and testing time counts. At the end of the 1000th batch, the model is saved in Tensorflow's checkpoint file `model.ckpt`. At the same time, the training and testing errors are presented in file `lcurve.out`. \n",
    "\n",
    "The file contains 8 columns, form left to right, are the training step, the validation loss, training loss, root mean square (RMS) validation error of energy, RMS training error of energy, RMS validation error of force, RMS training error of force and the learning rate. The RMS error (RMSE) of the energy is normalized by number of atoms in the system. \n",
    "```\n",
    "head -n 2 lcurve.out\n",
    "#  step      rmse_val    rmse_trn    rmse_e_val  rmse_e_trn    rmse_f_val  rmse_f_trn         lr\n",
    "      0      2.02e+01    1.51e+01      1.37e-01    1.41e-01      6.40e-01    4.79e-01    1.0e-03\n",
    "```\n",
    "and\n",
    "```\n",
    "$ tail -n 2 lcurve.out\n",
    "   9800      2.45e-02    4.02e-02      3.20e-04    3.88e-04      2.40e-02    3.94e-02    4.3e-08\n",
    "  10000      4.60e-02    3.76e-02      8.65e-04    5.35e-04      4.52e-02    3.69e-02    3.5e-08\n",
    "```\n",
    "Volumes 4, 5 and 6, 7 present energy and force training and testing errors, respectively. "
   ]
  },
  {
   "cell_type": "code",
   "execution_count": 10,
   "id": "4aabcec8-9058-4582-863d-00550bb05187",
   "metadata": {},
   "outputs": [
    {
     "name": "stdout",
     "output_type": "stream",
     "text": [
      "#  step      rmse_val    rmse_trn    rmse_e_val  rmse_e_trn    rmse_f_val  rmse_f_trn         lr\n",
      "      0      1.68e+01    2.04e+01      1.36e-01    1.32e-01      5.31e-01    6.44e-01    1.0e-03\n",
      "   9800      4.02e-02    4.83e-02      9.37e-04    1.12e-03      3.93e-02    4.72e-02    4.3e-08\n",
      "  10000      6.00e-02    6.11e-02      1.05e-03    1.48e-03      5.89e-02    6.00e-02    3.5e-08\n"
     ]
    }
   ],
   "source": [
    "! head -n 2 lcurve.out && tail -n 2 lcurve.out"
   ]
  },
  {
   "cell_type": "markdown",
   "id": "34f3de74-9b9c-4143-94c6-1b91adbfb8d4",
   "metadata": {},
   "source": [
    "The loss function can be visualized to monitor the training process."
   ]
  },
  {
   "cell_type": "code",
   "execution_count": 11,
   "id": "a7444fb4-a869-4b44-a1e3-2d74679189ed",
   "metadata": {},
   "outputs": [
    {
     "data": {
      "image/png": "[encoded data removed]",
      "text/plain": [
       "<Figure size 640x480 with 1 Axes>"
      ]
     },
     "metadata": {},
     "output_type": "display_data"
    }
   ],
   "source": [
    "import numpy as np\n",
    "import matplotlib.pyplot as plt\n",
    "import pandas as pd\n",
    "with open(\"lcurve.out\") as f:\n",
    "    headers = f.readline().split()[1:]\n",
    "lcurve = pd.DataFrame(np.loadtxt(\"lcurve.out\"), columns =  headers    )\n",
    "legends = [\"rmse_e_val\", \"rmse_e_trn\", \"rmse_f_val\" , \"rmse_f_trn\" ]\n",
    "for legend in legends:\n",
    "    plt.loglog(lcurve[\"step\"], lcurve[legend], label = legend )\n",
    "plt.legend()\n",
    "plt.xlabel(\"Training steps\")\n",
    "plt.ylabel(\"Loss\")\n",
    "plt.show()"
   ]
  },
  {
   "cell_type": "markdown",
   "id": "8009ad0a-9902-42d3-b280-caee92cbdf10",
   "metadata": {},
   "source": [
    "## Freeze a model"
   ]
  },
  {
   "cell_type": "markdown",
   "id": "36792467-3a1b-4ee9-8cea-512f270071f4",
   "metadata": {},
   "source": [
    "At the end of the training, the model parameters saved in TensorFlow's checkpoint file should be frozen as a model file that is usually ended with extension .pb. Simply execute"
   ]
  },
  {
   "cell_type": "code",
   "execution_count": 12,
   "id": "b20d368a-135c-4314-ae4c-47bf1f28c4d7",
   "metadata": {
    "scrolled": true,
    "tags": []
   },
   "outputs": [
    {
     "name": "stdout",
     "output_type": "stream",
     "text": [
      "WARNING:tensorflow:From /opt/deepmd-kit-2.2.1/lib/python3.10/site-packages/tensorflow/python/compat/v2_compat.py:107: disable_resource_variables (from tensorflow.python.ops.variable_scope) is deprecated and will be removed in a future version.\n",
      "Instructions for updating:\n",
      "non-resource variables are not supported in the long term\n",
      "WARNING:root:To get the best performance, it is recommended to adjust the number of threads by setting the environment variables OMP_NUM_THREADS, TF_INTRA_OP_PARALLELISM_THREADS, and TF_INTER_OP_PARALLELISM_THREADS. See https://deepmd.rtfd.io/parallelism/ for more information.\n",
      "WARNING:root:Environment variable KMP_BLOCKTIME is empty. Use the default value 0\n",
      "WARNING:root:Environment variable KMP_AFFINITY is empty. Use the default value granularity=fine,verbose,compact,1,0\n",
      "/opt/deepmd-kit-2.2.1/lib/python3.10/importlib/__init__.py:169: UserWarning: The NumPy module was reloaded (imported a second time). This can in some cases result in small but subtle issues and is discouraged.\n",
      "  _bootstrap._exec(spec, module)\n",
      "DEEPMD INFO    The following nodes will be frozen: ['model_type', 'descrpt_attr/rcut', 'descrpt_attr/ntypes', 'model_attr/tmap', 'model_attr/model_type', 'model_attr/model_version', 'train_attr/min_nbor_dist', 'train_attr/training_script', 'o_energy', 'o_force', 'o_virial', 'o_atom_energy', 'o_atom_virial', 'fitting_attr/dfparam', 'fitting_attr/daparam']\n",
      "WARNING:tensorflow:From /opt/deepmd-kit-2.2.1/lib/python3.10/site-packages/deepmd/entrypoints/freeze.py:354: convert_variables_to_constants (from tensorflow.python.framework.graph_util_impl) is deprecated and will be removed in a future version.\n",
      "Instructions for updating:\n",
      "Use `tf.compat.v1.graph_util.convert_variables_to_constants`\n",
      "WARNING:tensorflow:From /opt/deepmd-kit-2.2.1/lib/python3.10/site-packages/deepmd/entrypoints/freeze.py:354: convert_variables_to_constants (from tensorflow.python.framework.graph_util_impl) is deprecated and will be removed in a future version.\n",
      "Instructions for updating:\n",
      "Use `tf.compat.v1.graph_util.convert_variables_to_constants`\n",
      "WARNING:tensorflow:From /opt/deepmd-kit-2.2.1/lib/python3.10/site-packages/tensorflow/python/framework/convert_to_constants.py:925: extract_sub_graph (from tensorflow.python.framework.graph_util_impl) is deprecated and will be removed in a future version.\n",
      "Instructions for updating:\n",
      "Use `tf.compat.v1.graph_util.extract_sub_graph`\n",
      "WARNING:tensorflow:From /opt/deepmd-kit-2.2.1/lib/python3.10/site-packages/tensorflow/python/framework/convert_to_constants.py:925: extract_sub_graph (from tensorflow.python.framework.graph_util_impl) is deprecated and will be removed in a future version.\n",
      "Instructions for updating:\n",
      "Use `tf.compat.v1.graph_util.extract_sub_graph`\n",
      "DEEPMD INFO    1211 ops in the final graph.\n"
     ]
    }
   ],
   "source": [
    "! dp freeze -o graph.pb"
   ]
  },
  {
   "cell_type": "markdown",
   "id": "3b23f3c9-5809-4a65-9126-f9e6d2f3a10b",
   "metadata": {},
   "source": [
    "and it will output a model file named `graph.pb` in the current directory. "
   ]
  },
  {
   "cell_type": "markdown",
   "id": "2882c201-0e85-46d0-94f8-e055a540b6fb",
   "metadata": {},
   "source": [
    "## Test a model \n",
    "\n",
    "We can check the quality of the trained model by running\n"
   ]
  },
  {
   "cell_type": "code",
   "execution_count": 13,
   "id": "5d201246-b110-4e63-a09b-ad7308bc1367",
   "metadata": {
    "scrolled": true,
    "tags": []
   },
   "outputs": [
    {
     "name": "stdout",
     "output_type": "stream",
     "text": [
      "WARNING:tensorflow:From /opt/deepmd-kit-2.2.1/lib/python3.10/site-packages/tensorflow/python/compat/v2_compat.py:107: disable_resource_variables (from tensorflow.python.ops.variable_scope) is deprecated and will be removed in a future version.\n",
      "Instructions for updating:\n",
      "non-resource variables are not supported in the long term\n",
      "WARNING:root:To get the best performance, it is recommended to adjust the number of threads by setting the environment variables OMP_NUM_THREADS, TF_INTRA_OP_PARALLELISM_THREADS, and TF_INTER_OP_PARALLELISM_THREADS. See https://deepmd.rtfd.io/parallelism/ for more information.\n",
      "WARNING:root:Environment variable KMP_BLOCKTIME is empty. Use the default value 0\n",
      "WARNING:root:Environment variable KMP_AFFINITY is empty. Use the default value granularity=fine,verbose,compact,1,0\n",
      "/opt/deepmd-kit-2.2.1/lib/python3.10/importlib/__init__.py:169: UserWarning: The NumPy module was reloaded (imported a second time). This can in some cases result in small but subtle issues and is discouraged.\n",
      "  _bootstrap._exec(spec, module)\n",
      "WARNING:tensorflow:From /opt/deepmd-kit-2.2.1/lib/python3.10/site-packages/deepmd/utils/batch_size.py:61: is_gpu_available (from tensorflow.python.framework.test_util) is deprecated and will be removed in a future version.\n",
      "Instructions for updating:\n",
      "Use `tf.config.list_physical_devices('GPU')` instead.\n",
      "WARNING:tensorflow:From /opt/deepmd-kit-2.2.1/lib/python3.10/site-packages/deepmd/utils/batch_size.py:61: is_gpu_available (from tensorflow.python.framework.test_util) is deprecated and will be removed in a future version.\n",
      "Instructions for updating:\n",
      "Use `tf.config.list_physical_devices('GPU')` instead.\n",
      "DEEPMD INFO    # ---------------output of dp test--------------- \n",
      "DEEPMD INFO    # testing system : ../00.data/validation_data\n",
      "DEEPMD INFO    # number of test data : 40 \n",
      "DEEPMD INFO    Energy MAE         : 3.897223e-03 eV\n",
      "DEEPMD INFO    Energy RMSE        : 4.582920e-03 eV\n",
      "DEEPMD INFO    Energy MAE/Natoms  : 7.794447e-04 eV\n",
      "DEEPMD INFO    Energy RMSE/Natoms : 9.165839e-04 eV\n",
      "DEEPMD INFO    Force  MAE         : 4.147344e-02 eV/A\n",
      "DEEPMD INFO    Force  RMSE        : 5.204639e-02 eV/A\n",
      "DEEPMD INFO    Virial MAE         : 5.898907e-02 eV\n",
      "DEEPMD INFO    Virial RMSE        : 7.568969e-02 eV\n",
      "DEEPMD INFO    Virial MAE/Natoms  : 1.179781e-02 eV\n",
      "DEEPMD INFO    Virial RMSE/Natoms : 1.513794e-02 eV\n",
      "DEEPMD INFO    # ----------------------------------------------- \n"
     ]
    }
   ],
   "source": [
    "! dp test -m graph.pb -s ../00.data/validation_data"
   ]
  },
  {
   "cell_type": "markdown",
   "id": "7f48e0a9-644f-4588-b9f3-cc115851a1ed",
   "metadata": {},
   "source": [
    "The correlation between predicted data and original data can also be calculated."
   ]
  },
  {
   "cell_type": "code",
   "execution_count": 14,
   "id": "be03c8da-e4f9-439d-bb22-800b651a7737",
   "metadata": {},
   "outputs": [],
   "source": [
    "import dpdata\n",
    "training_systems = dpdata.LabeledSystem(\"../00.data/training_data\", fmt = \"deepmd/npy\")"
   ]
  },
  {
   "cell_type": "code",
   "execution_count": 15,
   "id": "e3046e2b-7080-4be0-81d3-faaab3873002",
   "metadata": {
    "collapsed": true,
    "jupyter": {
     "outputs_hidden": true
    },
    "tags": []
   },
   "outputs": [
    {
     "name": "stdout",
     "output_type": "stream",
     "text": [
      "WARNING:tensorflow:From /opt/deepmd-kit-2.2.1/lib/python3.10/site-packages/tensorflow/python/compat/v2_compat.py:107: disable_resource_variables (from tensorflow.python.ops.variable_scope) is deprecated and will be removed in a future version.\n",
      "Instructions for updating:\n",
      "non-resource variables are not supported in the long term\n"
     ]
    },
    {
     "name": "stderr",
     "output_type": "stream",
     "text": [
      "WARNING:root:To get the best performance, it is recommended to adjust the number of threads by setting the environment variables OMP_NUM_THREADS, TF_INTRA_OP_PARALLELISM_THREADS, and TF_INTER_OP_PARALLELISM_THREADS. See https://deepmd.rtfd.io/parallelism/ for more information.\n",
      "WARNING:root:Environment variable KMP_BLOCKTIME is empty. Use the default value 0\n",
      "WARNING:root:Environment variable KMP_AFFINITY is empty. Use the default value granularity=fine,verbose,compact,1,0\n",
      "/opt/deepmd-kit-2.2.1/lib/python3.10/importlib/__init__.py:169: UserWarning: The NumPy module was reloaded (imported a second time). This can in some cases result in small but subtle issues and is discouraged.\n",
      "  _bootstrap._exec(spec, module)\n",
      "2023-04-16 00:54:08.168768: I tensorflow/core/platform/cpu_feature_guard.cc:193] This TensorFlow binary is optimized with oneAPI Deep Neural Network Library (oneDNN) to use the following CPU instructions in performance-critical operations:  SSE4.1 SSE4.2 AVX AVX2 AVX512F FMA\n",
      "To enable them in other operations, rebuild TensorFlow with the appropriate compiler flags.\n",
      "2023-04-16 00:54:08.202989: I tensorflow/stream_executor/cuda/cuda_gpu_executor.cc:975] successful NUMA node read from SysFS had negative value (-1), but there must be at least one NUMA node, so returning NUMA node zero\n",
      "2023-04-16 00:54:08.243518: I tensorflow/stream_executor/cuda/cuda_gpu_executor.cc:975] successful NUMA node read from SysFS had negative value (-1), but there must be at least one NUMA node, so returning NUMA node zero\n",
      "2023-04-16 00:54:08.243826: I tensorflow/stream_executor/cuda/cuda_gpu_executor.cc:975] successful NUMA node read from SysFS had negative value (-1), but there must be at least one NUMA node, so returning NUMA node zero\n"
     ]
    },
    {
     "name": "stdout",
     "output_type": "stream",
     "text": [
      "WARNING:tensorflow:From /opt/deepmd-kit-2.2.1/lib/python3.10/site-packages/deepmd/utils/batch_size.py:61: is_gpu_available (from tensorflow.python.framework.test_util) is deprecated and will be removed in a future version.\n",
      "Instructions for updating:\n",
      "Use `tf.config.list_physical_devices('GPU')` instead.\n"
     ]
    },
    {
     "name": "stderr",
     "output_type": "stream",
     "text": [
      "2023-04-16 00:54:08.837986: I tensorflow/stream_executor/cuda/cuda_gpu_executor.cc:975] successful NUMA node read from SysFS had negative value (-1), but there must be at least one NUMA node, so returning NUMA node zero\n",
      "2023-04-16 00:54:08.838272: I tensorflow/stream_executor/cuda/cuda_gpu_executor.cc:975] successful NUMA node read from SysFS had negative value (-1), but there must be at least one NUMA node, so returning NUMA node zero\n",
      "2023-04-16 00:54:08.838520: I tensorflow/stream_executor/cuda/cuda_gpu_executor.cc:975] successful NUMA node read from SysFS had negative value (-1), but there must be at least one NUMA node, so returning NUMA node zero\n",
      "2023-04-16 00:54:08.838744: I tensorflow/core/common_runtime/gpu/gpu_device.cc:1532] Created device /job:localhost/replica:0/task:0/device:GPU:0 with 13817 MB memory:  -> device: 0, name: Tesla T4, pci bus id: 0000:00:09.0, compute capability: 7.5\n",
      "2023-04-16 00:54:08.839057: I tensorflow/core/common_runtime/process_util.cc:146] Creating new thread pool with default inter op setting: 2. Tune using inter_op_parallelism_threads for best performance.\n",
      "2023-04-16 00:54:08.866657: I tensorflow/compiler/mlir/mlir_graph_optimization_pass.cc:354] MLIR V1 optimization pass is not enabled\n",
      "WARNING:tensorflow:From /opt/deepmd-kit-2.2.1/lib/python3.10/site-packages/deepmd/utils/batch_size.py:61: is_gpu_available (from tensorflow.python.framework.test_util) is deprecated and will be removed in a future version.\n",
      "Instructions for updating:\n",
      "Use `tf.config.list_physical_devices('GPU')` instead.\n",
      "2023-04-16 00:54:08.891299: I tensorflow/stream_executor/cuda/cuda_gpu_executor.cc:975] successful NUMA node read from SysFS had negative value (-1), but there must be at least one NUMA node, so returning NUMA node zero\n",
      "2023-04-16 00:54:08.891664: I tensorflow/stream_executor/cuda/cuda_gpu_executor.cc:975] successful NUMA node read from SysFS had negative value (-1), but there must be at least one NUMA node, so returning NUMA node zero\n",
      "2023-04-16 00:54:08.891881: I tensorflow/stream_executor/cuda/cuda_gpu_executor.cc:975] successful NUMA node read from SysFS had negative value (-1), but there must be at least one NUMA node, so returning NUMA node zero\n",
      "2023-04-16 00:54:08.892142: I tensorflow/stream_executor/cuda/cuda_gpu_executor.cc:975] successful NUMA node read from SysFS had negative value (-1), but there must be at least one NUMA node, so returning NUMA node zero\n",
      "2023-04-16 00:54:08.892346: I tensorflow/stream_executor/cuda/cuda_gpu_executor.cc:975] successful NUMA node read from SysFS had negative value (-1), but there must be at least one NUMA node, so returning NUMA node zero\n",
      "2023-04-16 00:54:08.892530: I tensorflow/core/common_runtime/gpu/gpu_device.cc:1532] Created device /device:GPU:0 with 13817 MB memory:  -> device: 0, name: Tesla T4, pci bus id: 0000:00:09.0, compute capability: 7.5\n"
     ]
    }
   ],
   "source": [
    "predict = training_systems.predict(\"graph.pb\")"
   ]
  },
  {
   "cell_type": "code",
   "execution_count": 16,
   "id": "b4005a62-8bf2-4aaf-8865-20ea303ea0f2",
   "metadata": {},
   "outputs": [
    {
     "data": {
      "text/plain": [
       "[]"
      ]
     },
     "execution_count": 16,
     "metadata": {},
     "output_type": "execute_result"
    },
    {
     "data": {
      "image/png": "[encoded data removed]",
      "text/plain": [
       "<Figure size 640x480 with 1 Axes>"
      ]
     },
     "metadata": {},
     "output_type": "display_data"
    }
   ],
   "source": [
    "import matplotlib.pyplot as plt\n",
    "import numpy as np\n",
    "\n",
    "plt.scatter(training_systems[\"energies\"], predict[\"energies\"])\n",
    "\n",
    "x_range = np.linspace(plt.xlim()[0], plt.xlim()[1])\n",
    "\n",
    "plt.plot(x_range, x_range, \"r--\", linewidth = 0.25)\n",
    "plt.xlabel(\"Energy of DFT\")\n",
    "plt.ylabel(\"Energy predicted by deep potential\")\n",
    "plt.plot()"
   ]
  },
  {
   "cell_type": "markdown",
   "id": "fffaad23-53a6-47dd-8d91-9beb68d1212b",
   "metadata": {},
   "source": [
    "## Run MD with LAMMPS\n",
    "\n",
    "The model can drive molecular dynamics in LAMMPS. \n"
   ]
  },
  {
   "cell_type": "code",
   "execution_count": 17,
   "id": "d0ceac75-9753-4ae8-b954-c2cc6d005e46",
   "metadata": {},
   "outputs": [
    {
     "name": "stdout",
     "output_type": "stream",
     "text": [
      "conf.lmp  graph.pb  in.lammps\n"
     ]
    }
   ],
   "source": [
    "! cd ../02.lmp && cp ../01.train/graph.pb ./ && ls"
   ]
  },
  {
   "cell_type": "markdown",
   "id": "c794572f-7e9c-42f7-b78a-4d82bd3f3118",
   "metadata": {},
   "source": [
    "Here `conf.lmp` gives the initial configuration of a gas phase methane MD simulation, and the file `in.lammps` is the lammps input script. One may check in.lammps and finds that it is a rather standard LAMMPS input file for a MD simulation, with only two exception lines:\n",
    "```\n",
    "pair_style  deepmd graph.pb\n",
    "pair_coeff  * *\n",
    "```\n",
    "where the pair style deepmd is invoked and the model file `graph.pb` is provided, which means the atomic interaction will be computed by the DP model that is stored in the file `graph.pb`. \n",
    "\n",
    "In an environment with a compatibable version of LAMMPS, the deep potential molecular dynamics can be performed via \n",
    "\n",
    "```bash\n",
    "lmp -i input.lammps\n",
    "```"
   ]
  },
  {
   "cell_type": "code",
   "execution_count": 18,
   "id": "f4501e9c-541c-431d-8847-d0d9eecfb0e0",
   "metadata": {},
   "outputs": [
    {
     "name": "stdout",
     "output_type": "stream",
     "text": [
      "LAMMPS (23 Jun 2022 - Update 1)\n",
      "OMP_NUM_THREADS environment is not set. Defaulting to 1 thread. (src/comm.cpp:98)\n",
      "  using 1 OpenMP thread(s) per MPI task\n",
      "Loaded 1 plugins from /opt/deepmd-kit-2.2.1/lib/deepmd_lmp\n",
      "Loaded 0 plugins from \n",
      "Reading data file ...\n",
      "  triclinic box = (0 0 0) to (10.114259 10.263124 10.216793) with tilt (0.036749877 0.13833062 -0.056322169)\n",
      "  1 by 1 by 1 MPI processor grid\n",
      "  reading atoms ...\n",
      "  5 atoms\n",
      "  read_data CPU = 0.018 seconds\n",
      "DeePMD-kit WARNING: Environmental variable OMP_NUM_THREADS is not set. Tune OMP_NUM_THREADS for the best performance. See https://deepmd.rtfd.io/parallelism/ for more information.\n",
      "Summary of lammps deepmd module ...\n",
      "  >>> Info of deepmd-kit:\n",
      "  installed to:       /opt/deepmd-kit-2.2.1\n",
      "  source:             v2.2.1\n",
      "  source branch:       HEAD\n",
      "  source commit:      3ac8c4c7\n",
      "  source commit at:   2023-03-16 12:33:24 +0800\n",
      "  surpport model ver.:1.1 \n",
      "  build variant:      cuda\n",
      "  build with tf inc:  /opt/deepmd-kit-2.2.1/include;/opt/deepmd-kit-2.2.1/include\n",
      "  build with tf lib:  /opt/deepmd-kit-2.2.1/lib/libtensorflow_cc.so\n",
      "  set tf intra_op_parallelism_threads: 0\n",
      "  set tf inter_op_parallelism_threads: 0\n",
      "  >>> Info of lammps module:\n",
      "  use deepmd-kit at:  /opt/deepmd-kit-2.2.1DeePMD-kit WARNING: Environmental variable OMP_NUM_THREADS is not set. Tune OMP_NUM_THREADS for the best performance. See https://deepmd.rtfd.io/parallelism/ for more information.\n",
      "DeePMD-kit: Successfully load libcudart.so\n",
      "2023-04-16 00:54:12.978528: I tensorflow/core/platform/cpu_feature_guard.cc:193] This TensorFlow binary is optimized with oneAPI Deep Neural Network Library (oneDNN) to use the following CPU instructions in performance-critical operations:  SSE4.1 SSE4.2 AVX AVX2 AVX512F FMA\n",
      "To enable them in other operations, rebuild TensorFlow with the appropriate compiler flags.\n",
      "2023-04-16 00:54:12.981897: I tensorflow/stream_executor/cuda/cuda_gpu_executor.cc:975] successful NUMA node read from SysFS had negative value (-1), but there must be at least one NUMA node, so returning NUMA node zero\n",
      "2023-04-16 00:54:13.024051: I tensorflow/stream_executor/cuda/cuda_gpu_executor.cc:975] successful NUMA node read from SysFS had negative value (-1), but there must be at least one NUMA node, so returning NUMA node zero\n",
      "2023-04-16 00:54:13.024347: I tensorflow/stream_executor/cuda/cuda_gpu_executor.cc:975] successful NUMA node read from SysFS had negative value (-1), but there must be at least one NUMA node, so returning NUMA node zero\n",
      "2023-04-16 00:54:13.626608: I tensorflow/stream_executor/cuda/cuda_gpu_executor.cc:975] successful NUMA node read from SysFS had negative value (-1), but there must be at least one NUMA node, so returning NUMA node zero\n",
      "2023-04-16 00:54:13.626907: I tensorflow/stream_executor/cuda/cuda_gpu_executor.cc:975] successful NUMA node read from SysFS had negative value (-1), but there must be at least one NUMA node, so returning NUMA node zero\n",
      "2023-04-16 00:54:13.627138: I tensorflow/stream_executor/cuda/cuda_gpu_executor.cc:975] successful NUMA node read from SysFS had negative value (-1), but there must be at least one NUMA node, so returning NUMA node zero\n",
      "2023-04-16 00:54:13.627370: I tensorflow/core/common_runtime/gpu/gpu_device.cc:1532] Created device /job:localhost/replica:0/task:0/device:GPU:0 with 13598 MB memory:  -> device: 0, name: Tesla T4, pci bus id: 0000:00:09.0, compute capability: 7.5\n",
      "2023-04-16 00:54:13.627690: I tensorflow/core/common_runtime/process_util.cc:146] Creating new thread pool with default inter op setting: 2. Tune using inter_op_parallelism_threads for best performance.\n",
      "2023-04-16 00:54:13.665891: I tensorflow/compiler/mlir/mlir_graph_optimization_pass.cc:354] MLIR V1 optimization pass is not enabled\n",
      "  >>> Info of model(s):\n",
      "  using   1 model(s): graph.pb \n",
      "  rcut in model:      6\n",
      "  ntypes in model:    2\n",
      "\n",
      "CITE-CITE-CITE-CITE-CITE-CITE-CITE-CITE-CITE-CITE-CITE-CITE-CITE\n",
      "\n",
      "Your simulation uses code contributions which should be cited:\n",
      "- USER-DEEPMD package:\n",
      "The log file lists these citations in BibTeX format.\n",
      "\n",
      "CITE-CITE-CITE-CITE-CITE-CITE-CITE-CITE-CITE-CITE-CITE-CITE-CITE\n",
      "\n",
      "Generated 0 of 1 mixed pair_coeff terms from geometric mixing rule\n",
      "Neighbor list info ...\n",
      "  update every 10 steps, delay 0 steps, check no\n",
      "  max neighbors/atom: 2000, page size: 100000\n",
      "  master list distance cutoff = 7\n",
      "  ghost atom cutoff = 7\n",
      "  binsize = 3.5, bins = 3 3 3\n",
      "  1 neighbor lists, perpetual/occasional/extra = 1 0 0\n",
      "  (1) pair deepmd, perpetual\n",
      "      attributes: full, newton on\n",
      "      pair build: full/bin/atomonly\n",
      "      stencil: full/bin/3d\n",
      "      bin: standard\n",
      "Setting up Verlet run ...\n",
      "  Unit style    : metal\n",
      "  Current step  : 0\n",
      "  Time step     : 0.001\n",
      "Per MPI rank memory allocation (min/avg/max) = 3.809 | 3.809 | 3.809 Mbytes\n",
      "   Step         PotEng         KinEng         TotEng          Temp          Press          Volume    \n",
      "         0  -219.76962      0.025852029   -219.74377      50            -792.24721      1060.5429    \n",
      "       100  -219.76921      0.025177777   -219.74403      48.695941     -631.65896      1060.5429    \n",
      "       200  -219.78017      0.034480298   -219.74569      66.687799     -285.06658      1060.5429    \n",
      "       300  -219.77575      0.029208727   -219.74654      56.492137      184.02549      1060.5429    \n",
      "       400  -219.77548      0.027356866   -219.74813      52.910481      610.24492      1060.5429    \n",
      "       500  -219.77567      0.025421377   -219.75025      49.167082      814.56916      1060.5429    \n",
      "       600  -219.77852      0.025516038   -219.75301      49.350165      557.36265      1060.5429    \n",
      "       700  -219.78621      0.029498712   -219.75671      57.052993     -132.44212      1060.5429    \n",
      "       800  -219.78043      0.020709102   -219.75972      40.053147     -634.44551      1060.5429    \n",
      "       900  -219.78205      0.018563435   -219.76349      35.903246     -567.93602      1060.5429    \n",
      "      1000  -219.78989      0.022265558   -219.76763      43.063463      14.744753      1060.5429    \n",
      "      1100  -219.78488      0.014676393   -219.7702       28.385379      599.7294       1060.5429    \n",
      "      1200  -219.78825      0.015382084   -219.77287      29.750245      461.30393      1060.5429    \n",
      "      1300  -219.78918      0.014569673   -219.77461      28.178974     -191.44518      1060.5429    \n",
      "      1400  -219.78505      0.009676083   -219.77538      18.714359     -546.62112      1060.5429    \n",
      "      1500  -219.78856      0.012371308   -219.77619      23.927151     -254.04395      1060.5429    \n",
      "      1600  -219.78534      0.0093653631  -219.77597      18.113401      422.07004      1060.5429    \n",
      "      1700  -219.78463      0.0091874855  -219.77544      17.76937       514.33463      1060.5429    \n",
      "      1800  -219.78498      0.010700923   -219.77428      20.696486     -125.56192      1060.5429    \n",
      "      1900  -219.77898      0.0073725901  -219.77161      14.25921      -585.97007      1060.5429    \n",
      "      2000  -219.77929      0.011500408   -219.76778      22.242756     -416.3589       1060.5429    \n",
      "      2100  -219.77602      0.014175943   -219.76185      27.417467      253.67203      1060.5429    \n",
      "      2200  -219.76912      0.014081181   -219.75504      27.234188      786.54793      1060.5429    \n",
      "      2300  -219.76635      0.016303668   -219.75005      31.532666      770.06202      1060.5429    \n",
      "      2400  -219.77126      0.023641777   -219.74762      45.725186      307.78487      1060.5429    \n",
      "      2500  -219.77422      0.02810377    -219.74611      54.355057     -293.04998      1060.5429    \n",
      "      2600  -219.76831      0.023663171   -219.74465      45.766565     -700.67774      1060.5429    \n",
      "      2700  -219.77103      0.026703459   -219.74433      51.646737     -756.51911      1060.5429    \n",
      "      2800  -219.78213      0.037037199   -219.74509      71.63306      -392.19336      1060.5429    \n",
      "      2900  -219.78368      0.03795857    -219.74572      73.415068      215.37035      1060.5429    \n",
      "      3000  -219.7826       0.036077255   -219.74652      69.776448      671.89105      1060.5429    \n",
      "      3100  -219.78077      0.033111289   -219.74766      64.04002       825.16748      1060.5429    \n",
      "      3200  -219.78079      0.031473857   -219.74932      60.873088      738.8053       1060.5429    \n",
      "      3300  -219.78721      0.035441023   -219.75177      68.545921      376.2181       1060.5429    \n",
      "      3400  -219.78641      0.032777755   -219.75363      63.394938     -188.79866      1060.5429    \n",
      "      3500  -219.78186      0.02657475    -219.75529      51.397803     -612.70545      1060.5429    \n",
      "      3600  -219.78174      0.024536047   -219.7572       47.45478      -664.29926      1060.5429    \n",
      "      3700  -219.7866       0.027319124   -219.75928      52.837485     -312.41947      1060.5429    \n",
      "      3800  -219.7867       0.025811766   -219.76088      49.922129      345.21832      1060.5429    \n",
      "      3900  -219.78317      0.021308469   -219.76186      41.212372      724.97493      1060.5429    \n",
      "      4000  -219.78689      0.023661153   -219.76323      45.762662      461.52545      1060.5429    \n",
      "      4100  -219.79036      0.026061055   -219.7643       50.404274     -149.29885      1060.5429    \n",
      "      4200  -219.78582      0.021389572   -219.76443      41.369232     -590.56087      1060.5429    \n",
      "      4300  -219.78571      0.021195697   -219.76452      40.994263     -601.41827      1060.5429    \n",
      "      4400  -219.79202      0.027317209   -219.7647       52.833781     -76.177364      1060.5429    \n",
      "      4500  -219.78586      0.022582478   -219.76328      43.676412      624.76865      1060.5429    \n",
      "      4600  -219.78583      0.02424596    -219.76159      46.893728      655.7013       1060.5429    \n",
      "      4700  -219.78826      0.029283575   -219.75897      56.636898      25.329893      1060.5429    \n",
      "      4800  -219.78         0.025764811   -219.75423      49.831313     -564.83609      1060.5429    \n",
      "      4900  -219.77396      0.02539516    -219.74856      49.116376     -756.68006      1060.5429    \n",
      "      5000  -219.77216      0.029775952   -219.74239      57.589198     -547.2803       1060.5429    \n",
      "Loop time of 15.0371 on 1 procs for 5000 steps with 5 atoms\n",
      "\n",
      "Performance: 28.729 ns/day, 0.835 hours/ns, 332.512 timesteps/s\n",
      "108.8% CPU use with 1 MPI tasks x 1 OpenMP threads\n",
      "\n",
      "MPI task timing breakdown:\n",
      "Section |  min time  |  avg time  |  max time  |%varavg| %total\n",
      "---------------------------------------------------------------\n",
      "Pair    | 15.014     | 15.014     | 15.014     |   0.0 | 99.85\n",
      "Neigh   | 0.0037762  | 0.0037762  | 0.0037762  |   0.0 |  0.03\n",
      "Comm    | 0.0059865  | 0.0059865  | 0.0059865  |   0.0 |  0.04\n",
      "Output  | 0.003675   | 0.003675   | 0.003675   |   0.0 |  0.02\n",
      "Modify  | 0.0068101  | 0.0068101  | 0.0068101  |   0.0 |  0.05\n",
      "Other   |            | 0.002652   |            |       |  0.02\n",
      "\n",
      "Nlocal:              5 ave           5 max           5 min\n",
      "Histogram: 1 0 0 0 0 0 0 0 0 0\n",
      "Nghost:            130 ave         130 max         130 min\n",
      "Histogram: 1 0 0 0 0 0 0 0 0 0\n",
      "Neighs:              0 ave           0 max           0 min\n",
      "Histogram: 1 0 0 0 0 0 0 0 0 0\n",
      "FullNghs:           20 ave          20 max          20 min\n",
      "Histogram: 1 0 0 0 0 0 0 0 0 0\n",
      "\n",
      "Total # of neighbors = 20\n",
      "Ave neighs/atom = 4\n",
      "Neighbor list builds = 500\n",
      "Dangerous builds not checked\n",
      "Total wall time: 0:00:17\n"
     ]
    }
   ],
   "source": [
    "! cd ../02.lmp && cp ../01.train/graph.pb ./ && lmp -i in.lammps"
   ]
  },
  {
   "cell_type": "markdown",
   "id": "3c1f883a-a768-4de1-8681-effd90643fee",
   "metadata": {},
   "source": [
    "## References\n",
    "\n",
    "1. https://docs.deepmodeling.com/projects/deepmd/en/master/index.html\n",
    "2. https://github.com/deepmodeling/deepmd-kit "
   ]
  },
  {
   "cell_type": "markdown",
   "id": "98a7aff7-daaf-494f-beb9-aa99688ed0a2",
   "metadata": {},
   "source": [
    "<a href=\"https://bohrium.dp.tech/notebook/a1d17996148f44d09a6447dd4dd19aa6\" target=\"_blank\"><img src=\"https://cdn.dp.tech/bohrium/web/static/images/open-in-bohrium.svg\" alt=\"Open In Bohrium\"/></a>"
   ]
  }
 ],
 "metadata": {
  "kernelspec": {
   "display_name": "Python 3 (ipykernel)",
   "language": "python",
   "name": "python3"
  },
  "language_info": {
   "codemirror_mode": {
    "name": "ipython",
    "version": 3
   },
   "file_extension": ".py",
   "mimetype": "text/x-python",
   "name": "python",
   "nbconvert_exporter": "python",
   "pygments_lexer": "ipython3",
   "version": "3.10.9"
  }
 },
 "nbformat": 4,
 "nbformat_minor": 5
}
