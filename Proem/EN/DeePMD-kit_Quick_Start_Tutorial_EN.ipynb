{
 "cells": [
  {
   "cell_type": "markdown",
   "id": "b22f597d-ec17-4ab9-8933-28e92af2438d",
   "metadata": {},
   "source": [
    "# DeePMD-kit Quick Start Tutorial\n",
    "\n",
    "<a href=\"https://bohrium.dp.tech/notebook/a1d17996148f44d09a6447dd4dd19aa6\" target=\"_blank\"><img src=\"https://cdn.dp.tech/bohrium/web/static/images/open-in-bohrium.svg\" alt=\"Open In Bohrium\"/></a>"
   ]
  },
  {
   "cell_type": "markdown",
   "id": "85b62e3d-dfae-402f-96a5-5672367d2d17",
   "metadata": {},
   "source": [
    "\n",
    "DeePMD-kit is a deep learning package for many-body potential energy representation and molecular dynamics. \n",
    "\n",
    "This tutorial can direct run on **Bohrium Notebook** . You can click the above blue button `connect`, choose `bohrium-notebook` as image and `c4_m8_cpu` as computing resources. \n",
    "\n",
    "Wait a minute and you can get started.\n",
    "\n",
    "If you have any questions, you can contact *bohrium@dp.tech* for help. \n"
   ]
  },
  {
   "cell_type": "markdown",
   "id": "f4416190-479c-4b2f-9e08-33690bc4941d",
   "metadata": {},
   "source": [
    "## Task\n",
    "\n",
    "> **Mastering the paradigm cycle of using DeePMD-kit to establish deep potential molecular dynamics models, and following a complete case to learn how to apply it to molecular dynamics tasks.**\n",
    "\n",
    "By the end of this tutorial, you will be able to:\n",
    "\n",
    "* Prepare the formataive dataset and running scripts for training with DeePMD-kit;\n",
    "* Train, freeze, and test DeePMD-kit models;\n",
    "* Use DeePMD-kit in Lammps for calculations;\n",
    "\n",
    "Work through this tutorial. It will take you 20 minutes, max!"
   ]
  },
  {
   "cell_type": "markdown",
   "id": "8e6587cb-ba6e-42ba-a139-0595fc7f79d7",
   "metadata": {},
   "source": [
    "## Table of contents\n",
    "\n",
    "* Get tutorial data via git\n",
    "* General Introduction\n",
    "* Data preparation\n",
    "* Prepare input script\n",
    "* Train a model\n",
    "* Freeze a model\n",
    "* Test a model\n",
    "* Run MD with LAMMPS"
   ]
  },
  {
   "cell_type": "markdown",
   "id": "adc6bbb1-a51b-421d-88f6-eb8eef79f432",
   "metadata": {},
   "source": [
    "## Get tutorial data via git"
   ]
  },
  {
   "cell_type": "code",
   "execution_count": 1,
   "id": "f493fdb7-7844-4152-8b8e-a4d9d1da58ff",
   "metadata": {
    "tags": []
   },
   "outputs": [],
   "source": [
    "! if ! [ -e colombo-academy-tutorials ];then git clone https://gitee.com/deepmodeling/colombo-academy-tutorials.git;fi;"
   ]
  },
  {
   "cell_type": "markdown",
   "id": "f98ce5f8-fb36-4e00-962f-028011801a53",
   "metadata": {},
   "source": [
    "## General Introduction\n",
    "This tutorial will introduce you to the basic usage of the DeePMD-kit, taking a gas phase methane molecule as an example. [DeePMD-kit's document](https://docs.deepmodeling.org/projects/deepmd/en/master/index.html \n",
    ") is recommended as the complete reference.\n",
    "\n",
    "The DP model is generated using the DeePMD-kit package (v2.1.5). The training data is converted into the format of DeePMD-kit using a tool named dpdata (v0.2.14). \n",
    "\n",
    "Details of dpdata and DeePMD-kit installation and execution of can be found in [the DeepModeling official GitHub site](https://github.com/deepmodeling). \n",
    "\n",
    "We've prepared initial data for CH4 for you, and put them in the folder `colombo-academy-tutorials/DeePMD-kit/00.data`"
   ]
  },
  {
   "cell_type": "code",
   "execution_count": 2,
   "id": "cfbbb9cc-2d7a-40f6-b384-46c698b77162",
   "metadata": {},
   "outputs": [],
   "source": [
    "import os\n",
    "prefix_path = os.getcwd()"
   ]
  },
  {
   "cell_type": "markdown",
   "id": "209c5dd7-983a-468e-9406-652ade04be91",
   "metadata": {},
   "source": [
    "Folder `abacus_md` is obtained by performing ab-initio molecular dynamics with ABACUS. Detailed instructions on ABACUS can be found in its [document](https://abacus.deepmodeling.com/en/latest/). "
   ]
  },
  {
   "cell_type": "code",
   "execution_count": 3,
   "id": "533a4436-803b-45dd-91a3-2813d118df18",
   "metadata": {},
   "outputs": [
    {
     "data": {
      "text/plain": [
       "['C_ONCV_PBE-1.2.upf',\n",
       " 'C_gga_6au_100Ry_2s2p1d.orb',\n",
       " 'H_ONCV_PBE-1.2.upf',\n",
       " 'H_gga_6au_100Ry_2s1p.orb',\n",
       " 'INPUT',\n",
       " 'KPT',\n",
       " 'OUT.ABACUS',\n",
       " 'STRU']"
      ]
     },
     "execution_count": 3,
     "metadata": {},
     "output_type": "execute_result"
    }
   ],
   "source": [
    "os.chdir(os.path.join(prefix_path, \"colombo-academy-tutorials\", \"DeePMD-kit\", \"00.data\"))\n",
    "os.listdir(\"abacus_md\")"
   ]
  },
  {
   "cell_type": "markdown",
   "id": "f630966f-379f-4140-8ce9-4df19f7c1cc6",
   "metadata": {},
   "source": [
    "## Data preparation\n",
    "\n",
    "The training data utilized by DeePMD-kit comprises essential information such as atom type, simulation box, atom coordinate, atom force, system energy, and virial. A snapshot of a molecular system that includes this data is called a `frame`. Multiple frames with the same number of atoms and atom types make up a `system` of data. For instance, a molecular dynamics trajectory can be converted into a system of data, with each time step corresponding to a frame in the system.\n",
    "\n",
    "To simplify the process of converting data generated by popular simulation software like CP2K, Gaussian, Quantum-Espresso, ABACUS, and LAMMPS into the compressed format of DeePMD-kit, we offer a convenient tool called `dpdata`.\n"
   ]
  },
  {
   "cell_type": "markdown",
   "id": "f971d1d5-a90d-499f-92f2-b3c31f3e70ab",
   "metadata": {},
   "source": [
    "Next, the data from AIMD is splited randomly as training and validation data."
   ]
  },
  {
   "cell_type": "code",
   "execution_count": 4,
   "id": "647bf5c0-4df1-4510-8444-51774295adc7",
   "metadata": {},
   "outputs": [
    {
     "name": "stdout",
     "output_type": "stream",
     "text": [
      "# the data contains 201 frames\n",
      "# the training data contains 161 frames\n",
      "# the validation data contains 40 frames\n"
     ]
    }
   ],
   "source": [
    "import dpdata \n",
    "import numpy as np\n",
    "\n",
    "# load data of abacus/md format\n",
    "data = dpdata.LabeledSystem('abacus_md', fmt = 'abacus/md') \n",
    "print('# the data contains %d frames' % len(data))\n",
    "\n",
    "# random choose 40 index for validation_data\n",
    "index_validation = np.random.choice(201,size=40,replace=False)\n",
    "\n",
    "# other indexes are training_data\n",
    "index_training = list(set(range(201))-set(index_validation))\n",
    "data_training = data.sub_system(index_training)\n",
    "data_validation = data.sub_system(index_validation)\n",
    "\n",
    "# all training data put into directory:\"training_data\"\n",
    "data_training.to_deepmd_npy('training_data')\n",
    "\n",
    "# all validation data put into directory:\"validation_data\"\n",
    "data_validation.to_deepmd_npy('validation_data')\n",
    "\n",
    "print('# the training data contains %d frames' % len(data_training)) \n",
    "print('# the validation data contains %d frames' % len(data_validation)) "
   ]
  },
  {
   "cell_type": "markdown",
   "id": "98719865-ab3d-4440-8c14-78a1c253c3a6",
   "metadata": {},
   "source": [
    "As you can see, 161 frames are picked as training data, and the other 40 frames are validation dat."
   ]
  },
  {
   "cell_type": "markdown",
   "id": "a999f41b-e343-4dc2-8499-84fee6e52221",
   "metadata": {},
   "source": [
    "The DeePMD-kit adopts a compressed data format. All training data should first be converted into this format and can then be used by DeePMD-kit. The data format is explained in detail in the DeePMD-kit manual that can be found in [the DeePMD-kit official Github site](http://www.github.com/deepmodeling/deepmd-kit) ."
   ]
  },
  {
   "cell_type": "code",
   "execution_count": 5,
   "id": "e5befaf5-c464-4e8f-8544-a2634f5fd1d2",
   "metadata": {},
   "outputs": [
    {
     "name": "stdout",
     "output_type": "stream",
     "text": [
      "\u001b[01;34mtraining_data\u001b[00m\n",
      "├── \u001b[01;34mset.000\u001b[00m\n",
      "│   ├── box.npy\n",
      "│   ├── coord.npy\n",
      "│   ├── energy.npy\n",
      "│   ├── force.npy\n",
      "│   └── virial.npy\n",
      "├── type.raw\n",
      "└── type_map.raw\n",
      "\n",
      "1 directory, 7 files\n"
     ]
    }
   ],
   "source": [
    "! tree training_data"
   ]
  },
  {
   "cell_type": "markdown",
   "id": "99770e51-4d9e-44db-bb93-1c7061c8862c",
   "metadata": {},
   "source": [
    "Let's have a look at `type.raw`:"
   ]
  },
  {
   "cell_type": "code",
   "execution_count": 6,
   "id": "a686585c-3e5b-4a5c-9cc7-4db7759b74b2",
   "metadata": {},
   "outputs": [
    {
     "name": "stdout",
     "output_type": "stream",
     "text": [
      "0\n",
      "0\n",
      "0\n",
      "0\n",
      "1\n"
     ]
    }
   ],
   "source": [
    "! cat training_data/type.raw "
   ]
  },
  {
   "cell_type": "markdown",
   "id": "b5357cc5-9cdd-4c52-a611-a84cee739fb0",
   "metadata": {},
   "source": [
    "This tells us there are 5 atoms in this example, 4 atoms represented by type \"0\", and 1 atom represented by type \"1\".\n",
    "Sometimes one needs to map the integer types to atom name. The mapping can be given by the file `type_map.raw`"
   ]
  },
  {
   "cell_type": "code",
   "execution_count": 7,
   "id": "6216f02d-3a21-481f-99da-3f23b438a7c0",
   "metadata": {},
   "outputs": [
    {
     "name": "stdout",
     "output_type": "stream",
     "text": [
      "H\n",
      "C\n"
     ]
    }
   ],
   "source": [
    "! cat training_data/type_map.raw "
   ]
  },
  {
   "cell_type": "markdown",
   "id": "1196aa0f-22c5-4b96-8640-c82068fa7828",
   "metadata": {},
   "source": [
    "This tells us the type \"0\" is named by \"H\", and the type \"1\" is named by \"C\".\n",
    "\n",
    "More detailed doc about Data conversion can be found [here](https://docs.deepmodeling.org/projects/deepmd/en/master/data/data-conv.html)"
   ]
  },
  {
   "cell_type": "markdown",
   "id": "ac6c969b-10cb-49f0-9b84-7dc9ffa38c61",
   "metadata": {},
   "source": [
    "## Prepare input script \n",
    "Once the data preparation is done, we can go on with training. Now go to the training directory"
   ]
  },
  {
   "cell_type": "code",
   "execution_count": 8,
   "id": "f0b2fa6b-81c2-41ec-b29e-37ff1f6e3b31",
   "metadata": {},
   "outputs": [],
   "source": [
    "os.chdir(os.path.join(prefix_path, \"colombo-academy-tutorials\", \"DeePMD-kit\", \"01.train\"))"
   ]
  },
  {
   "cell_type": "markdown",
   "id": "0a4c680a-abcf-40b9-b00e-fa4615aa91b9",
   "metadata": {},
   "source": [
    "DeePMD-kit requires a `json` format file to specify parameters for training. \n",
    "\n",
    "In the model section, the parameters of embedding and fitting networks are specified.\n",
    "```json\n",
    "\"model\":{\n",
    "    \"type_map\":    [\"H\", \"C\"],                 \n",
    "    \"descriptor\":{\n",
    "        \"type\":            \"se_e2_a\",          \n",
    "        \"rcut\":            6.00,               \n",
    "        \"rcut_smth\":       0.50,               \n",
    "        \"sel\":             \"auto\",             \n",
    "        \"neuron\":          [25, 50, 100],       \n",
    "        \"resnet_dt\":       false,\n",
    "        \"axis_neuron\":     16,                  \n",
    "        \"seed\":            1,\n",
    "        \"_comment\":        \"that's all\"\n",
    "        },\n",
    "    \"fitting_net\":{\n",
    "        \"neuron\":          [240, 240, 240],    \n",
    "        \"resnet_dt\":       true,\n",
    "        \"seed\":            1,\n",
    "        \"_comment\":        \"that's all\"\n",
    "    },\n",
    "    \"_comment\":    \"that's all\"'\n",
    "},\n",
    "```\n",
    "The explanation for some of the parameters is as follows:\n",
    "\n",
    "| Parameter                | Expiation                                                    |\n",
    "| ------------------------ | ------------------------------------------------------------ |\n",
    "| type_map                 | *the* *name* *of* *each* *type* *of* *atom*                  |\n",
    "| descriptor > type        | *the* *type* *of* *descriptor*                               |\n",
    "| descriptor > rcut        | *cut-off* *radius*                                           |\n",
    "| descriptor > rcut_smth   | *where* *the* *smoothing* *starts*                           |\n",
    "| descriptor > sel         | *the* *maximum* *number* *of* *type* *i* *atoms* *in* *the* *cut-off* *radius* |\n",
    "| descriptor > neuron      | *size* *of* *the* *embedding* *neural* *network*             |\n",
    "| descriptor > axis_neuron | *the* *size* *of* *the* *submatrix* *of* *G* *(embedding* *matrix)* |\n",
    "| fitting_net > neuron     | *size* *of* *the* *fitting* *neural* *network*               |\n",
    "\n",
    "The `se_e2_a` descriptor is used to train the DP model. The item neurons set the size of the descriptors and fitting network to [25, 50, 100] and [240, 240, 240], respectively. The components in local environment to smoothly go to zero from 0.5 to 6 Å.\n",
    "\n",
    "The following are the parameters that specify the learning rate and loss function.\n",
    "```json\n",
    "    \"learning_rate\" :{\n",
    "        \"type\":                \"exp\",\n",
    "        \"decay_steps\":         50,\n",
    "        \"start_lr\":            0.001,    \n",
    "        \"stop_lr\":             3.51e-8,\n",
    "        \"_comment\":            \"that's all\"\n",
    "    },\n",
    "    \"loss\" :{\n",
    "        \"type\":                \"ener\",\n",
    "        \"start_pref_e\":        0.02,\n",
    "        \"limit_pref_e\":        1,\n",
    "        \"start_pref_f\":        1000,\n",
    "        \"limit_pref_f\":        1,\n",
    "        \"start_pref_v\":        0,\n",
    "        \"limit_pref_v\":        0,\n",
    "        \"_comment\":            \"that's all\"\n",
    "    },\n",
    "```\n",
    "In the loss function, `pref_e` increases from 0.02 to 1, and `pref_f` decreases from 1000 to 1  progressively, which means that the force term dominates at the beginning, while energy and virial terms become important at the end. This strategy is very effective and reduces the total training time. `pref_v` is set to 0 , indicating that no virial data are included in the training process. The starting learning rate, stop learning rate, and decay steps are set to 0.001, 3.51e-8, and 50, respectively. The model is trained for 10000 steps.\n",
    "\n",
    "The training parameters are given in the following\n",
    "```json\n",
    "    \"training\" : {\n",
    "        \"training_data\": {\n",
    "            \"systems\":            [\"../00.data/training_data\"],     \n",
    "            \"batch_size\":         \"auto\",                       \n",
    "            \"_comment\":           \"that's all\"\n",
    "        },\n",
    "        \"validation_data\":{\n",
    "            \"systems\":            [\"../00.data/validation_data/\"],\n",
    "            \"batch_size\":         \"auto\",               \n",
    "            \"numb_btch\":          1,\n",
    "            \"_comment\":           \"that's all\"\n",
    "        },\n",
    "        \"numb_steps\":             10000,                           \n",
    "        \"seed\":                   10,\n",
    "        \"disp_file\":              \"lcurve.out\",\n",
    "        \"disp_freq\":              200,\n",
    "        \"save_freq\":              10000,\n",
    "        },\n",
    "```"
   ]
  },
  {
   "cell_type": "markdown",
   "id": "7b0edb0f-df47-4e6c-8c37-5f32c4bd6b39",
   "metadata": {},
   "source": [
    "More detailed docs about Data conversion can be found [here](https://docs.deepmodeling.org/projects/deepmd/en/master/data/data-conv.html)"
   ]
  },
  {
   "cell_type": "markdown",
   "id": "bafe20b8-3bde-403c-ae42-b68ba5f29703",
   "metadata": {},
   "source": [
    "## Train a model\n",
    "After the training script is prepared, we can start the training with DeePMD-kit by simply running"
   ]
  },
  {
   "cell_type": "code",
   "execution_count": 9,
   "id": "e04a05a3-ccac-474b-bc24-58fbf20b9ffe",
   "metadata": {
    "scrolled": true,
    "tags": []
   },
   "outputs": [
    {
     "name": "stdout",
     "output_type": "stream",
     "text": [
      "WARNING:tensorflow:From /opt/deepmd-kit-2.2.1/lib/python3.10/site-packages/tensorflow/python/compat/v2_compat.py:107: disable_resource_variables (from tensorflow.python.ops.variable_scope) is deprecated and will be removed in a future version.\n",
      "Instructions for updating:\n",
      "non-resource variables are not supported in the long term\n",
      "WARNING:root:To get the best performance, it is recommended to adjust the number of threads by setting the environment variables OMP_NUM_THREADS, TF_INTRA_OP_PARALLELISM_THREADS, and TF_INTER_OP_PARALLELISM_THREADS. See https://deepmd.rtfd.io/parallelism/ for more information.\n",
      "WARNING:root:Environment variable KMP_BLOCKTIME is empty. Use the default value 0\n",
      "WARNING:root:Environment variable KMP_AFFINITY is empty. Use the default value granularity=fine,verbose,compact,1,0\n",
      "/opt/deepmd-kit-2.2.1/lib/python3.10/importlib/__init__.py:169: UserWarning: The NumPy module was reloaded (imported a second time). This can in some cases result in small but subtle issues and is discouraged.\n",
      "  _bootstrap._exec(spec, module)\n",
      "DEEPMD INFO    Calculate neighbor statistics... (add --skip-neighbor-stat to skip this step)\n",
      "2023-04-17 20:16:34.777172: W tensorflow/stream_executor/platform/default/dso_loader.cc:64] Could not load dynamic library 'libcuda.so.1'; dlerror: libcuda.so.1: cannot open shared object file: No such file or directory; LD_LIBRARY_PATH: /usr/local/nvidia/lib:/usr/local/nvidia/lib64\n",
      "2023-04-17 20:16:34.777204: W tensorflow/stream_executor/cuda/cuda_driver.cc:269] failed call to cuInit: UNKNOWN ERROR (303)\n",
      "OMP: Info #155: KMP_AFFINITY: Initial OS proc set respected: 0-7\n",
      "OMP: Info #216: KMP_AFFINITY: decoding x2APIC ids.\n",
      "OMP: Info #157: KMP_AFFINITY: 8 available OS procs\n",
      "OMP: Info #158: KMP_AFFINITY: Uniform topology\n",
      "OMP: Info #287: KMP_AFFINITY: topology layer \"LL cache\" is equivalent to \"core\".\n",
      "OMP: Info #287: KMP_AFFINITY: topology layer \"L2 cache\" is equivalent to \"core\".\n",
      "OMP: Info #287: KMP_AFFINITY: topology layer \"L1 cache\" is equivalent to \"core\".\n",
      "OMP: Info #192: KMP_AFFINITY: 1 socket x 4 cores/socket x 2 threads/core (4 total cores)\n",
      "OMP: Info #218: KMP_AFFINITY: OS proc to physical thread map:\n",
      "OMP: Info #172: KMP_AFFINITY: OS proc 0 maps to socket 0 core 0 thread 0 \n",
      "OMP: Info #172: KMP_AFFINITY: OS proc 1 maps to socket 0 core 0 thread 1 \n",
      "OMP: Info #172: KMP_AFFINITY: OS proc 2 maps to socket 0 core 1 thread 0 \n",
      "OMP: Info #172: KMP_AFFINITY: OS proc 3 maps to socket 0 core 1 thread 1 \n",
      "OMP: Info #172: KMP_AFFINITY: OS proc 4 maps to socket 0 core 2 thread 0 \n",
      "OMP: Info #172: KMP_AFFINITY: OS proc 5 maps to socket 0 core 2 thread 1 \n",
      "OMP: Info #172: KMP_AFFINITY: OS proc 6 maps to socket 0 core 3 thread 0 \n",
      "OMP: Info #172: KMP_AFFINITY: OS proc 7 maps to socket 0 core 3 thread 1 \n",
      "OMP: Info #254: KMP_AFFINITY: pid 299 tid 321 thread 1 bound to OS proc set 2\n",
      "OMP: Info #254: KMP_AFFINITY: pid 299 tid 323 thread 2 bound to OS proc set 4\n",
      "OMP: Info #254: KMP_AFFINITY: pid 299 tid 324 thread 3 bound to OS proc set 6\n",
      "OMP: Info #254: KMP_AFFINITY: pid 299 tid 325 thread 4 bound to OS proc set 1\n",
      "OMP: Info #254: KMP_AFFINITY: pid 299 tid 326 thread 5 bound to OS proc set 3\n",
      "OMP: Info #254: KMP_AFFINITY: pid 299 tid 327 thread 6 bound to OS proc set 5\n",
      "OMP: Info #254: KMP_AFFINITY: pid 299 tid 328 thread 7 bound to OS proc set 7\n",
      "OMP: Info #254: KMP_AFFINITY: pid 299 tid 329 thread 8 bound to OS proc set 0\n",
      "OMP: Info #254: KMP_AFFINITY: pid 299 tid 320 thread 9 bound to OS proc set 2\n",
      "OMP: Info #254: KMP_AFFINITY: pid 299 tid 330 thread 10 bound to OS proc set 4\n",
      "OMP: Info #254: KMP_AFFINITY: pid 299 tid 331 thread 11 bound to OS proc set 6\n",
      "OMP: Info #254: KMP_AFFINITY: pid 299 tid 332 thread 12 bound to OS proc set 1\n",
      "OMP: Info #254: KMP_AFFINITY: pid 299 tid 333 thread 13 bound to OS proc set 3\n",
      "OMP: Info #254: KMP_AFFINITY: pid 299 tid 334 thread 14 bound to OS proc set 5\n",
      "OMP: Info #254: KMP_AFFINITY: pid 299 tid 335 thread 15 bound to OS proc set 7\n",
      "OMP: Info #254: KMP_AFFINITY: pid 299 tid 336 thread 16 bound to OS proc set 0\n",
      "DEEPMD INFO    training data with min nbor dist: 1.045920568611028\n",
      "DEEPMD INFO    training data with max nbor size: [4 1]\n",
      "DEEPMD INFO     _____               _____   __  __  _____           _     _  _   \n",
      "DEEPMD INFO    |  __ \\             |  __ \\ |  \\/  ||  __ \\         | |   (_)| |  \n",
      "DEEPMD INFO    | |  | |  ___   ___ | |__) || \\  / || |  | | ______ | | __ _ | |_ \n",
      "DEEPMD INFO    | |  | | / _ \\ / _ \\|  ___/ | |\\/| || |  | ||______|| |/ /| || __|\n",
      "DEEPMD INFO    | |__| ||  __/|  __/| |     | |  | || |__| |        |   < | || |_ \n",
      "DEEPMD INFO    |_____/  \\___| \\___||_|     |_|  |_||_____/         |_|\\_\\|_| \\__|\n",
      "DEEPMD INFO    Please read and cite:\n",
      "DEEPMD INFO    Wang, Zhang, Han and E, Comput.Phys.Comm. 228, 178-184 (2018)\n",
      "DEEPMD INFO    installed to:         /home/conda/feedstock_root/build_artifacts/deepmd-kit_1678943793317/work/_skbuild/linux-x86_64-3.10/cmake-install\n",
      "DEEPMD INFO    source :              v2.2.1\n",
      "DEEPMD INFO    source brach:         HEAD\n",
      "DEEPMD INFO    source commit:        3ac8c4c7\n",
      "DEEPMD INFO    source commit at:     2023-03-16 12:33:24 +0800\n",
      "DEEPMD INFO    build float prec:     double\n",
      "DEEPMD INFO    build variant:        cuda\n",
      "DEEPMD INFO    build with tf inc:    /opt/deepmd-kit-2.2.1/lib/python3.10/site-packages/tensorflow/include;/opt/deepmd-kit-2.2.1/lib/python3.10/site-packages/tensorflow/../../../../include\n",
      "DEEPMD INFO    build with tf lib:    \n",
      "DEEPMD INFO    ---Summary of the training---------------------------------------\n",
      "DEEPMD INFO    running on:           bohrium-14076-1013403\n",
      "DEEPMD INFO    computing device:     cpu:0\n",
      "DEEPMD INFO    CUDA_VISIBLE_DEVICES: unset\n",
      "DEEPMD INFO    Count of visible GPU: 0\n",
      "DEEPMD INFO    num_intra_threads:    0\n",
      "DEEPMD INFO    num_inter_threads:    0\n",
      "DEEPMD INFO    -----------------------------------------------------------------\n",
      "DEEPMD INFO    ---Summary of DataSystem: training     -----------------------------------------------\n",
      "DEEPMD INFO    found 1 system(s):\n",
      "DEEPMD INFO                                        system  natoms  bch_sz   n_bch   prob  pbc\n",
      "DEEPMD INFO                      ../00.data/training_data       5       7      23  1.000    T\n",
      "DEEPMD INFO    --------------------------------------------------------------------------------------\n",
      "DEEPMD INFO    ---Summary of DataSystem: validation   -----------------------------------------------\n",
      "DEEPMD INFO    found 1 system(s):\n",
      "DEEPMD INFO                                        system  natoms  bch_sz   n_bch   prob  pbc\n",
      "DEEPMD INFO                    ../00.data/validation_data       5       7       5  1.000    T\n",
      "DEEPMD INFO    --------------------------------------------------------------------------------------\n",
      "DEEPMD INFO    training without frame parameter\n",
      "DEEPMD INFO    data stating... (this step may take long time)\n",
      "OMP: Info #254: KMP_AFFINITY: pid 299 tid 299 thread 0 bound to OS proc set 0\n",
      "DEEPMD INFO    built lr\n",
      "DEEPMD INFO    built network\n",
      "DEEPMD INFO    built training\n",
      "WARNING:root:To get the best performance, it is recommended to adjust the number of threads by setting the environment variables OMP_NUM_THREADS, TF_INTRA_OP_PARALLELISM_THREADS, and TF_INTER_OP_PARALLELISM_THREADS. See https://deepmd.rtfd.io/parallelism/ for more information.\n",
      "DEEPMD INFO    initialize model from scratch\n",
      "DEEPMD INFO    start training at lr 1.00e-03 (== 1.00e-03), decay_step 50, decay_rate 0.950006, final lr will be 3.51e-08\n",
      "DEEPMD INFO    batch     200 training time 5.26 s, testing time 0.02 s\n",
      "DEEPMD INFO    batch     400 training time 4.19 s, testing time 0.02 s\n",
      "DEEPMD INFO    batch     600 training time 4.18 s, testing time 0.02 s\n",
      "DEEPMD INFO    batch     800 training time 4.18 s, testing time 0.02 s\n",
      "DEEPMD INFO    batch    1000 training time 4.18 s, testing time 0.02 s\n",
      "DEEPMD INFO    saved checkpoint model.ckpt\n",
      "DEEPMD INFO    batch    1200 training time 4.17 s, testing time 0.02 s\n",
      "DEEPMD INFO    batch    1400 training time 4.20 s, testing time 0.02 s\n",
      "DEEPMD INFO    batch    1600 training time 4.16 s, testing time 0.02 s\n",
      "DEEPMD INFO    batch    1800 training time 4.18 s, testing time 0.02 s\n",
      "DEEPMD INFO    batch    2000 training time 4.19 s, testing time 0.02 s\n",
      "DEEPMD INFO    saved checkpoint model.ckpt\n",
      "DEEPMD INFO    batch    2200 training time 4.19 s, testing time 0.02 s\n",
      "DEEPMD INFO    batch    2400 training time 4.18 s, testing time 0.02 s\n",
      "DEEPMD INFO    batch    2600 training time 4.73 s, testing time 0.02 s\n",
      "DEEPMD INFO    batch    2800 training time 4.19 s, testing time 0.02 s\n",
      "DEEPMD INFO    batch    3000 training time 4.20 s, testing time 0.02 s\n",
      "DEEPMD INFO    saved checkpoint model.ckpt\n",
      "DEEPMD INFO    batch    3200 training time 4.22 s, testing time 0.02 s\n",
      "DEEPMD INFO    batch    3400 training time 4.20 s, testing time 0.02 s\n",
      "DEEPMD INFO    batch    3600 training time 4.20 s, testing time 0.02 s\n",
      "DEEPMD INFO    batch    3800 training time 4.25 s, testing time 0.02 s\n",
      "DEEPMD INFO    batch    4000 training time 4.21 s, testing time 0.02 s\n",
      "DEEPMD INFO    saved checkpoint model.ckpt\n",
      "DEEPMD INFO    batch    4200 training time 4.23 s, testing time 0.02 s\n",
      "DEEPMD INFO    batch    4400 training time 4.20 s, testing time 0.02 s\n",
      "DEEPMD INFO    batch    4600 training time 4.21 s, testing time 0.02 s\n",
      "DEEPMD INFO    batch    4800 training time 4.21 s, testing time 0.02 s\n",
      "DEEPMD INFO    batch    5000 training time 4.21 s, testing time 0.02 s\n",
      "DEEPMD INFO    saved checkpoint model.ckpt\n",
      "DEEPMD INFO    batch    5200 training time 4.20 s, testing time 0.02 s\n",
      "DEEPMD INFO    batch    5400 training time 4.23 s, testing time 0.02 s\n",
      "DEEPMD INFO    batch    5600 training time 4.20 s, testing time 0.02 s\n",
      "DEEPMD INFO    batch    5800 training time 4.21 s, testing time 0.02 s\n",
      "DEEPMD INFO    batch    6000 training time 4.21 s, testing time 0.02 s\n",
      "WARNING:tensorflow:From /opt/deepmd-kit-2.2.1/lib/python3.10/site-packages/tensorflow/python/training/saver.py:1066: remove_checkpoint (from tensorflow.python.training.checkpoint_management) is deprecated and will be removed in a future version.\n",
      "Instructions for updating:\n",
      "Use standard file APIs to delete files with this prefix.\n",
      "WARNING:tensorflow:From /opt/deepmd-kit-2.2.1/lib/python3.10/site-packages/tensorflow/python/training/saver.py:1066: remove_checkpoint (from tensorflow.python.training.checkpoint_management) is deprecated and will be removed in a future version.\n",
      "Instructions for updating:\n",
      "Use standard file APIs to delete files with this prefix.\n",
      "DEEPMD INFO    saved checkpoint model.ckpt\n",
      "DEEPMD INFO    batch    6200 training time 4.20 s, testing time 0.02 s\n",
      "DEEPMD INFO    batch    6400 training time 4.21 s, testing time 0.02 s\n",
      "DEEPMD INFO    batch    6600 training time 4.26 s, testing time 0.02 s\n",
      "DEEPMD INFO    batch    6800 training time 4.23 s, testing time 0.02 s\n",
      "DEEPMD INFO    batch    7000 training time 4.20 s, testing time 0.02 s\n",
      "DEEPMD INFO    saved checkpoint model.ckpt\n",
      "DEEPMD INFO    batch    7200 training time 4.22 s, testing time 0.02 s\n",
      "DEEPMD INFO    batch    7400 training time 4.22 s, testing time 0.02 s\n",
      "DEEPMD INFO    batch    7600 training time 4.21 s, testing time 0.02 s\n",
      "DEEPMD INFO    batch    7800 training time 4.21 s, testing time 0.02 s\n",
      "DEEPMD INFO    batch    8000 training time 4.20 s, testing time 0.02 s\n",
      "DEEPMD INFO    saved checkpoint model.ckpt\n",
      "DEEPMD INFO    batch    8200 training time 4.25 s, testing time 0.02 s\n",
      "DEEPMD INFO    batch    8400 training time 4.21 s, testing time 0.02 s\n",
      "DEEPMD INFO    batch    8600 training time 4.22 s, testing time 0.02 s\n",
      "DEEPMD INFO    batch    8800 training time 4.21 s, testing time 0.02 s\n",
      "DEEPMD INFO    batch    9000 training time 4.21 s, testing time 0.02 s\n",
      "DEEPMD INFO    saved checkpoint model.ckpt\n",
      "DEEPMD INFO    batch    9200 training time 4.26 s, testing time 0.02 s\n",
      "DEEPMD INFO    batch    9400 training time 4.23 s, testing time 0.02 s\n",
      "DEEPMD INFO    batch    9600 training time 4.22 s, testing time 0.02 s\n",
      "DEEPMD INFO    batch    9800 training time 4.21 s, testing time 0.02 s\n",
      "DEEPMD INFO    batch   10000 training time 4.21 s, testing time 0.02 s\n",
      "DEEPMD INFO    saved checkpoint model.ckpt\n",
      "DEEPMD INFO    average training time: 0.0211 s/batch (exclude first 200 batches)\n",
      "DEEPMD INFO    finished training\n",
      "DEEPMD INFO    wall time: 223.384 s\n"
     ]
    }
   ],
   "source": [
    "! dp train input.json"
   ]
  },
  {
   "cell_type": "markdown",
   "id": "c10e0a81-ef33-49ab-ae2d-83fbd35985ac",
   "metadata": {
    "tags": []
   },
   "source": [
    "On the screen, you will see the information of the data system(s)\n",
    "```\n",
    "DEEPMD INFO    -----------------------------------------------------------------\n",
    "DEEPMD INFO    ---Summary of DataSystem: training     ----------------------------------\n",
    "DEEPMD INFO    found 1 system(s):\n",
    "DEEPMD INFO                                 system  natoms  bch_sz   n_bch   prob  pbc\n",
    "DEEPMD INFO               ../00.data/training_data       5       7      23  1.000    T\n",
    "DEEPMD INFO    -------------------------------------------------------------------------\n",
    "DEEPMD INFO    ---Summary of DataSystem: validation   ----------------------------------\n",
    "DEEPMD INFO    found 1 system(s):\n",
    "DEEPMD INFO                                 system  natoms  bch_sz   n_bch   prob  pbc\n",
    "DEEPMD INFO             ../00.data/validation_data       5       7       5  1.000    T\n",
    "DEEPMD INFO    -------------------------------------------------------------------------\n",
    "```\n",
    "and the starting and final learning rate of this training\n",
    "```\n",
    "DEEPMD INFO    start training at lr 1.00e-03 (== 1.00e-03), decay_step 50, decay_rate 0.950006, final lr will be 3.51e-08\n",
    "```\n",
    "If everything works fine, you will see, on the screen, information printed every 1000 steps, like\n",
    "```\n",
    "DEEPMD INFO    batch     200 training time 6.04 s, testing time 0.02 s\n",
    "DEEPMD INFO    batch     400 training time 4.80 s, testing time 0.02 s\n",
    "DEEPMD INFO    batch     600 training time 4.80 s, testing time 0.02 s\n",
    "DEEPMD INFO    batch     800 training time 4.78 s, testing time 0.02 s\n",
    "DEEPMD INFO    batch    1000 training time 4.77 s, testing time 0.02 s\n",
    "DEEPMD INFO    saved checkpoint model.ckpt\n",
    "DEEPMD INFO    batch    1200 training time 4.47 s, testing time 0.02 s\n",
    "DEEPMD INFO    batch    1400 training time 4.49 s, testing time 0.02 s\n",
    "DEEPMD INFO    batch    1600 training time 4.45 s, testing time 0.02 s\n",
    "DEEPMD INFO    batch    1800 training time 4.44 s, testing time 0.02 s\n",
    "DEEPMD INFO    batch    2000 training time 4.46 s, testing time 0.02 s\n",
    "DEEPMD INFO    saved checkpoint model.ckpt\n",
    "```\n",
    "They present the training and testing time counts. At the end of the 1000th batch, the model is saved in Tensorflow's checkpoint file `model.ckpt`. At the same time, the training and testing errors are presented in file `lcurve.out`. \n",
    "\n",
    "The file contains 8 columns, form left to right, are the training step, the validation loss, training loss, root mean square (RMS) validation error of energy, RMS training error of energy, RMS validation error of force, RMS training error of force and the learning rate. The RMS error (RMSE) of the energy is normalized by number of atoms in the system. \n",
    "```\n",
    "head -n 2 lcurve.out\n",
    "#  step      rmse_val    rmse_trn    rmse_e_val  rmse_e_trn    rmse_f_val  rmse_f_trn         lr\n",
    "      0      2.02e+01    1.51e+01      1.37e-01    1.41e-01      6.40e-01    4.79e-01    1.0e-03\n",
    "```\n",
    "and\n",
    "```\n",
    "$ tail -n 2 lcurve.out\n",
    "   9800      2.45e-02    4.02e-02      3.20e-04    3.88e-04      2.40e-02    3.94e-02    4.3e-08\n",
    "  10000      4.60e-02    3.76e-02      8.65e-04    5.35e-04      4.52e-02    3.69e-02    3.5e-08\n",
    "```\n",
    "Volumes 4, 5 and 6, 7 present energy and force training and testing errors, respectively. "
   ]
  },
  {
   "cell_type": "code",
   "execution_count": 10,
   "id": "4aabcec8-9058-4582-863d-00550bb05187",
   "metadata": {},
   "outputs": [
    {
     "name": "stdout",
     "output_type": "stream",
     "text": [
      "#  step      rmse_val    rmse_trn    rmse_e_val  rmse_e_trn    rmse_f_val  rmse_f_trn         lr\n",
      "      0      1.89e+01    2.22e+01      1.35e-01    1.31e-01      5.99e-01    7.02e-01    1.0e-03\n",
      "   9800      4.94e-02    4.03e-02      8.94e-04    3.97e-04      4.83e-02    3.95e-02    4.3e-08\n",
      "  10000      4.58e-02    5.01e-02      3.59e-04    9.34e-04      4.50e-02    4.92e-02    3.5e-08\n"
     ]
    }
   ],
   "source": [
    "! head -n 2 lcurve.out && tail -n 2 lcurve.out"
   ]
  },
  {
   "cell_type": "markdown",
   "id": "34f3de74-9b9c-4143-94c6-1b91adbfb8d4",
   "metadata": {},
   "source": [
    "The loss function can be visualized to monitor the training process."
   ]
  },
  {
   "cell_type": "code",
   "execution_count": 18,
   "id": "9bfb042a-9036-4343-b951-25cda173622d",
   "metadata": {},
   "outputs": [
    {
     "name": "stdout",
     "output_type": "stream",
     "text": [
      "Looking in indexes: https://pypi.tuna.tsinghua.edu.cn/simple\n",
      "Collecting matplotlib\n",
      "  Using cached https://pypi.tuna.tsinghua.edu.cn/packages/89/f3/84a9a6613ab0d89931d785f13fa2606e03f07252875acc8ebf5b676fa3c5/matplotlib-3.7.1-cp310-cp310-manylinux_2_17_x86_64.manylinux2014_x86_64.whl (11.6 MB)\n",
      "Requirement already satisfied: numpy>=1.20 in /opt/mamba/lib/python3.10/site-packages (from matplotlib) (1.24.2)\n",
      "Collecting contourpy>=1.0.1\n",
      "  Using cached https://pypi.tuna.tsinghua.edu.cn/packages/ec/59/5eac40e348a7bf803cea221bcd27f74a49cb81667b400fdfbb680e86e7bb/contourpy-1.0.7-cp310-cp310-manylinux_2_17_x86_64.manylinux2014_x86_64.whl (300 kB)\n",
      "Collecting pyparsing>=2.3.1\n",
      "  Using cached https://pypi.tuna.tsinghua.edu.cn/packages/6c/10/a7d0fa5baea8fe7b50f448ab742f26f52b80bfca85ac2be9d35cdd9a3246/pyparsing-3.0.9-py3-none-any.whl (98 kB)\n",
      "Collecting cycler>=0.10\n",
      "  Using cached https://pypi.tuna.tsinghua.edu.cn/packages/5c/f9/695d6bedebd747e5eb0fe8fad57b72fdf25411273a39791cde838d5a8f51/cycler-0.11.0-py3-none-any.whl (6.4 kB)\n",
      "Requirement already satisfied: python-dateutil>=2.7 in /opt/mamba/lib/python3.10/site-packages (from matplotlib) (2.8.2)\n",
      "Collecting kiwisolver>=1.0.1\n",
      "  Using cached https://pypi.tuna.tsinghua.edu.cn/packages/79/0f/5cc4ca3df66c49817944b9a1c7343ba70aefffc868ddf651d7839cc5dffd/kiwisolver-1.4.4-cp310-cp310-manylinux_2_12_x86_64.manylinux2010_x86_64.whl (1.6 MB)\n",
      "Requirement already satisfied: packaging>=20.0 in /opt/mamba/lib/python3.10/site-packages (from matplotlib) (23.0)\n",
      "Collecting fonttools>=4.22.0\n",
      "  Using cached https://pypi.tuna.tsinghua.edu.cn/packages/16/07/1c7547e27f559ec078801d522cc4d5127cdd4ef8e831c8ddcd9584668a07/fonttools-4.39.3-py3-none-any.whl (1.0 MB)\n",
      "Collecting pillow>=6.2.0\n",
      "  Using cached https://pypi.tuna.tsinghua.edu.cn/packages/25/6b/d3c35d207c9c0b6c2f855420f62e64ef43d348e8c797ad1c32b9f2106a19/Pillow-9.5.0-cp310-cp310-manylinux_2_28_x86_64.whl (3.4 MB)\n",
      "Requirement already satisfied: six>=1.5 in /opt/mamba/lib/python3.10/site-packages (from python-dateutil>=2.7->matplotlib) (1.16.0)\n",
      "Installing collected packages: pyparsing, pillow, kiwisolver, fonttools, cycler, contourpy, matplotlib\n",
      "Successfully installed contourpy-1.0.7 cycler-0.11.0 fonttools-4.39.3 kiwisolver-1.4.4 matplotlib-3.7.1 pillow-9.5.0 pyparsing-3.0.9\n",
      "\u001b[33mWARNING: Running pip as the 'root' user can result in broken permissions and conflicting behaviour with the system package manager. It is recommended to use a virtual environment instead: https://pip.pypa.io/warnings/venv\u001b[0m\u001b[33m\n",
      "\u001b[0mLooking in indexes: https://pypi.tuna.tsinghua.edu.cn/simple\n",
      "Requirement already satisfied: pandas in /opt/mamba/lib/python3.10/site-packages (1.5.3)\n",
      "Requirement already satisfied: numpy>=1.21.0 in /opt/mamba/lib/python3.10/site-packages (from pandas) (1.24.2)\n",
      "Requirement already satisfied: python-dateutil>=2.8.1 in /opt/mamba/lib/python3.10/site-packages (from pandas) (2.8.2)\n",
      "Requirement already satisfied: pytz>=2020.1 in /opt/mamba/lib/python3.10/site-packages (from pandas) (2022.7.1)\n",
      "Requirement already satisfied: six>=1.5 in /opt/mamba/lib/python3.10/site-packages (from python-dateutil>=2.8.1->pandas) (1.16.0)\n",
      "\u001b[33mWARNING: Running pip as the 'root' user can result in broken permissions and conflicting behaviour with the system package manager. It is recommended to use a virtual environment instead: https://pip.pypa.io/warnings/venv\u001b[0m\u001b[33m\n",
      "\u001b[0m"
     ]
    }
   ],
   "source": [
    "!/opt/mamba/bin/pip install matplotlib\n",
    "!/opt/mamba/bin/pip install pandas"
   ]
  },
  {
   "cell_type": "code",
   "execution_count": 19,
   "id": "a7444fb4-a869-4b44-a1e3-2d74679189ed",
   "metadata": {},
   "outputs": [
    {
     "data": {
      "image/png": "[encoded data removed]",
      "text/plain": [
       "<Figure size 640x480 with 1 Axes>"
      ]
     },
     "metadata": {},
     "output_type": "display_data"
    }
   ],
   "source": [
    "import numpy as np\n",
    "import matplotlib.pyplot as plt\n",
    "import pandas as pd\n",
    "with open(\"lcurve.out\") as f:\n",
    "    headers = f.readline().split()[1:]\n",
    "lcurve = pd.DataFrame(np.loadtxt(\"lcurve.out\"), columns =  headers    )\n",
    "legends = [\"rmse_e_val\", \"rmse_e_trn\", \"rmse_f_val\" , \"rmse_f_trn\" ]\n",
    "for legend in legends:\n",
    "    plt.loglog(lcurve[\"step\"], lcurve[legend], label = legend )\n",
    "plt.legend()\n",
    "plt.xlabel(\"Training steps\")\n",
    "plt.ylabel(\"Loss\")\n",
    "plt.show()"
   ]
  },
  {
   "cell_type": "markdown",
   "id": "8009ad0a-9902-42d3-b280-caee92cbdf10",
   "metadata": {},
   "source": [
    "## Freeze a model"
   ]
  },
  {
   "cell_type": "markdown",
   "id": "36792467-3a1b-4ee9-8cea-512f270071f4",
   "metadata": {},
   "source": [
    "At the end of the training, the model parameters saved in TensorFlow's checkpoint file should be frozen as a model file that is usually ended with extension .pb. Simply execute"
   ]
  },
  {
   "cell_type": "code",
   "execution_count": 20,
   "id": "b20d368a-135c-4314-ae4c-47bf1f28c4d7",
   "metadata": {
    "scrolled": true,
    "tags": []
   },
   "outputs": [
    {
     "name": "stdout",
     "output_type": "stream",
     "text": [
      "WARNING:tensorflow:From /opt/deepmd-kit-2.2.1/lib/python3.10/site-packages/tensorflow/python/compat/v2_compat.py:107: disable_resource_variables (from tensorflow.python.ops.variable_scope) is deprecated and will be removed in a future version.\n",
      "Instructions for updating:\n",
      "non-resource variables are not supported in the long term\n",
      "WARNING:root:To get the best performance, it is recommended to adjust the number of threads by setting the environment variables OMP_NUM_THREADS, TF_INTRA_OP_PARALLELISM_THREADS, and TF_INTER_OP_PARALLELISM_THREADS. See https://deepmd.rtfd.io/parallelism/ for more information.\n",
      "WARNING:root:Environment variable KMP_BLOCKTIME is empty. Use the default value 0\n",
      "WARNING:root:Environment variable KMP_AFFINITY is empty. Use the default value granularity=fine,verbose,compact,1,0\n",
      "/opt/deepmd-kit-2.2.1/lib/python3.10/importlib/__init__.py:169: UserWarning: The NumPy module was reloaded (imported a second time). This can in some cases result in small but subtle issues and is discouraged.\n",
      "  _bootstrap._exec(spec, module)\n",
      "2023-04-17 21:04:41.149796: W tensorflow/stream_executor/platform/default/dso_loader.cc:64] Could not load dynamic library 'libcuda.so.1'; dlerror: libcuda.so.1: cannot open shared object file: No such file or directory; LD_LIBRARY_PATH: /usr/local/nvidia/lib:/usr/local/nvidia/lib64\n",
      "2023-04-17 21:04:41.149834: W tensorflow/stream_executor/cuda/cuda_driver.cc:269] failed call to cuInit: UNKNOWN ERROR (303)\n",
      "DEEPMD INFO    The following nodes will be frozen: ['model_type', 'descrpt_attr/rcut', 'descrpt_attr/ntypes', 'model_attr/tmap', 'model_attr/model_type', 'model_attr/model_version', 'train_attr/min_nbor_dist', 'train_attr/training_script', 'o_energy', 'o_force', 'o_virial', 'o_atom_energy', 'o_atom_virial', 'fitting_attr/dfparam', 'fitting_attr/daparam']\n",
      "WARNING:tensorflow:From /opt/deepmd-kit-2.2.1/lib/python3.10/site-packages/deepmd/entrypoints/freeze.py:354: convert_variables_to_constants (from tensorflow.python.framework.graph_util_impl) is deprecated and will be removed in a future version.\n",
      "Instructions for updating:\n",
      "Use `tf.compat.v1.graph_util.convert_variables_to_constants`\n",
      "WARNING:tensorflow:From /opt/deepmd-kit-2.2.1/lib/python3.10/site-packages/deepmd/entrypoints/freeze.py:354: convert_variables_to_constants (from tensorflow.python.framework.graph_util_impl) is deprecated and will be removed in a future version.\n",
      "Instructions for updating:\n",
      "Use `tf.compat.v1.graph_util.convert_variables_to_constants`\n",
      "WARNING:tensorflow:From /opt/deepmd-kit-2.2.1/lib/python3.10/site-packages/tensorflow/python/framework/convert_to_constants.py:925: extract_sub_graph (from tensorflow.python.framework.graph_util_impl) is deprecated and will be removed in a future version.\n",
      "Instructions for updating:\n",
      "Use `tf.compat.v1.graph_util.extract_sub_graph`\n",
      "WARNING:tensorflow:From /opt/deepmd-kit-2.2.1/lib/python3.10/site-packages/tensorflow/python/framework/convert_to_constants.py:925: extract_sub_graph (from tensorflow.python.framework.graph_util_impl) is deprecated and will be removed in a future version.\n",
      "Instructions for updating:\n",
      "Use `tf.compat.v1.graph_util.extract_sub_graph`\n",
      "DEEPMD INFO    1211 ops in the final graph.\n"
     ]
    }
   ],
   "source": [
    "! dp freeze -o graph.pb"
   ]
  },
  {
   "cell_type": "markdown",
   "id": "3b23f3c9-5809-4a65-9126-f9e6d2f3a10b",
   "metadata": {},
   "source": [
    "and it will output a model file named `graph.pb` in the current directory. "
   ]
  },
  {
   "cell_type": "markdown",
   "id": "2882c201-0e85-46d0-94f8-e055a540b6fb",
   "metadata": {},
   "source": [
    "## Test a model \n",
    "\n",
    "We can check the quality of the trained model by running\n"
   ]
  },
  {
   "cell_type": "code",
   "execution_count": 21,
   "id": "5d201246-b110-4e63-a09b-ad7308bc1367",
   "metadata": {
    "scrolled": true,
    "tags": []
   },
   "outputs": [
    {
     "name": "stdout",
     "output_type": "stream",
     "text": [
      "WARNING:tensorflow:From /opt/deepmd-kit-2.2.1/lib/python3.10/site-packages/tensorflow/python/compat/v2_compat.py:107: disable_resource_variables (from tensorflow.python.ops.variable_scope) is deprecated and will be removed in a future version.\n",
      "Instructions for updating:\n",
      "non-resource variables are not supported in the long term\n",
      "WARNING:root:To get the best performance, it is recommended to adjust the number of threads by setting the environment variables OMP_NUM_THREADS, TF_INTRA_OP_PARALLELISM_THREADS, and TF_INTER_OP_PARALLELISM_THREADS. See https://deepmd.rtfd.io/parallelism/ for more information.\n",
      "WARNING:root:Environment variable KMP_BLOCKTIME is empty. Use the default value 0\n",
      "WARNING:root:Environment variable KMP_AFFINITY is empty. Use the default value granularity=fine,verbose,compact,1,0\n",
      "/opt/deepmd-kit-2.2.1/lib/python3.10/importlib/__init__.py:169: UserWarning: The NumPy module was reloaded (imported a second time). This can in some cases result in small but subtle issues and is discouraged.\n",
      "  _bootstrap._exec(spec, module)\n",
      "2023-04-17 21:04:45.502740: W tensorflow/stream_executor/platform/default/dso_loader.cc:64] Could not load dynamic library 'libcuda.so.1'; dlerror: libcuda.so.1: cannot open shared object file: No such file or directory; LD_LIBRARY_PATH: /usr/local/nvidia/lib:/usr/local/nvidia/lib64\n",
      "2023-04-17 21:04:45.502770: W tensorflow/stream_executor/cuda/cuda_driver.cc:269] failed call to cuInit: UNKNOWN ERROR (303)\n",
      "WARNING:tensorflow:From /opt/deepmd-kit-2.2.1/lib/python3.10/site-packages/deepmd/utils/batch_size.py:61: is_gpu_available (from tensorflow.python.framework.test_util) is deprecated and will be removed in a future version.\n",
      "Instructions for updating:\n",
      "Use `tf.config.list_physical_devices('GPU')` instead.\n",
      "WARNING:tensorflow:From /opt/deepmd-kit-2.2.1/lib/python3.10/site-packages/deepmd/utils/batch_size.py:61: is_gpu_available (from tensorflow.python.framework.test_util) is deprecated and will be removed in a future version.\n",
      "Instructions for updating:\n",
      "Use `tf.config.list_physical_devices('GPU')` instead.\n",
      "DEEPMD WARNING You can use the environment variable DP_INFER_BATCH_SIZE tocontrol the inference batch size (nframes * natoms). The default value is 1024.\n",
      "DEEPMD INFO    # ---------------output of dp test--------------- \n",
      "DEEPMD INFO    # testing system : ../00.data/validation_data\n",
      "OMP: Info #155: KMP_AFFINITY: Initial OS proc set respected: 0-7\n",
      "OMP: Info #216: KMP_AFFINITY: decoding x2APIC ids.\n",
      "OMP: Info #157: KMP_AFFINITY: 8 available OS procs\n",
      "OMP: Info #158: KMP_AFFINITY: Uniform topology\n",
      "OMP: Info #287: KMP_AFFINITY: topology layer \"LL cache\" is equivalent to \"core\".\n",
      "OMP: Info #287: KMP_AFFINITY: topology layer \"L2 cache\" is equivalent to \"core\".\n",
      "OMP: Info #287: KMP_AFFINITY: topology layer \"L1 cache\" is equivalent to \"core\".\n",
      "OMP: Info #192: KMP_AFFINITY: 1 socket x 4 cores/socket x 2 threads/core (4 total cores)\n",
      "OMP: Info #218: KMP_AFFINITY: OS proc to physical thread map:\n",
      "OMP: Info #172: KMP_AFFINITY: OS proc 0 maps to socket 0 core 0 thread 0 \n",
      "OMP: Info #172: KMP_AFFINITY: OS proc 1 maps to socket 0 core 0 thread 1 \n",
      "OMP: Info #172: KMP_AFFINITY: OS proc 2 maps to socket 0 core 1 thread 0 \n",
      "OMP: Info #172: KMP_AFFINITY: OS proc 3 maps to socket 0 core 1 thread 1 \n",
      "OMP: Info #172: KMP_AFFINITY: OS proc 4 maps to socket 0 core 2 thread 0 \n",
      "OMP: Info #172: KMP_AFFINITY: OS proc 5 maps to socket 0 core 2 thread 1 \n",
      "OMP: Info #172: KMP_AFFINITY: OS proc 6 maps to socket 0 core 3 thread 0 \n",
      "OMP: Info #172: KMP_AFFINITY: OS proc 7 maps to socket 0 core 3 thread 1 \n",
      "OMP: Info #254: KMP_AFFINITY: pid 469 tid 479 thread 1 bound to OS proc set 2\n",
      "OMP: Info #254: KMP_AFFINITY: pid 469 tid 482 thread 2 bound to OS proc set 4\n",
      "OMP: Info #254: KMP_AFFINITY: pid 469 tid 483 thread 3 bound to OS proc set 6\n",
      "OMP: Info #254: KMP_AFFINITY: pid 469 tid 484 thread 4 bound to OS proc set 1\n",
      "OMP: Info #254: KMP_AFFINITY: pid 469 tid 485 thread 5 bound to OS proc set 3\n",
      "OMP: Info #254: KMP_AFFINITY: pid 469 tid 486 thread 6 bound to OS proc set 5\n",
      "OMP: Info #254: KMP_AFFINITY: pid 469 tid 487 thread 7 bound to OS proc set 7\n",
      "OMP: Info #254: KMP_AFFINITY: pid 469 tid 488 thread 8 bound to OS proc set 0\n",
      "DEEPMD INFO    # number of test data : 40 \n",
      "DEEPMD INFO    Energy MAE         : 2.039401e-03 eV\n",
      "DEEPMD INFO    Energy RMSE        : 3.073723e-03 eV\n",
      "DEEPMD INFO    Energy MAE/Natoms  : 4.078801e-04 eV\n",
      "DEEPMD INFO    Energy RMSE/Natoms : 6.147446e-04 eV\n",
      "DEEPMD INFO    Force  MAE         : 3.401247e-02 eV/A\n",
      "DEEPMD INFO    Force  RMSE        : 4.556418e-02 eV/A\n",
      "DEEPMD INFO    Virial MAE         : 4.069100e-02 eV\n",
      "DEEPMD INFO    Virial RMSE        : 5.512702e-02 eV\n",
      "DEEPMD INFO    Virial MAE/Natoms  : 8.138200e-03 eV\n",
      "DEEPMD INFO    Virial RMSE/Natoms : 1.102540e-02 eV\n",
      "DEEPMD INFO    # ----------------------------------------------- \n"
     ]
    }
   ],
   "source": [
    "! dp test -m graph.pb -s ../00.data/validation_data"
   ]
  },
  {
   "cell_type": "markdown",
   "id": "7f48e0a9-644f-4588-b9f3-cc115851a1ed",
   "metadata": {},
   "source": [
    "The correlation between predicted data and original data can also be calculated."
   ]
  },
  {
   "cell_type": "code",
   "execution_count": 22,
   "id": "be03c8da-e4f9-439d-bb22-800b651a7737",
   "metadata": {},
   "outputs": [],
   "source": [
    "import dpdata\n",
    "training_systems = dpdata.LabeledSystem(\"../00.data/training_data\", fmt = \"deepmd/npy\")"
   ]
  },
  {
   "cell_type": "code",
   "execution_count": 26,
   "id": "cd36e16d-8142-4149-924e-ed4549596387",
   "metadata": {},
   "outputs": [
    {
     "name": "stdout",
     "output_type": "stream",
     "text": [
      "Looking in indexes: https://pypi.tuna.tsinghua.edu.cn/simple\n",
      "Requirement already satisfied: deepmd-kit[cu11,gpu,lmp] in /opt/mamba/lib/python3.10/site-packages (2.2.1)\n",
      "Requirement already satisfied: numpy in /opt/mamba/lib/python3.10/site-packages (from deepmd-kit[cu11,gpu,lmp]) (1.24.2)\n",
      "Requirement already satisfied: pyyaml in /opt/mamba/lib/python3.10/site-packages (from deepmd-kit[cu11,gpu,lmp]) (6.0)\n",
      "Requirement already satisfied: h5py in /opt/mamba/lib/python3.10/site-packages (from deepmd-kit[cu11,gpu,lmp]) (3.8.0)\n",
      "Requirement already satisfied: python-hostlist>=1.21 in /opt/mamba/lib/python3.10/site-packages (from deepmd-kit[cu11,gpu,lmp]) (1.23.0)\n",
      "Requirement already satisfied: dargs>=0.2.9 in /opt/mamba/lib/python3.10/site-packages (from deepmd-kit[cu11,gpu,lmp]) (0.3.4)\n",
      "Requirement already satisfied: scipy in /opt/mamba/lib/python3.10/site-packages (from deepmd-kit[cu11,gpu,lmp]) (1.10.1)\n",
      "Requirement already satisfied: wcmatch in /opt/mamba/lib/python3.10/site-packages (from deepmd-kit[cu11,gpu,lmp]) (8.4.1)\n",
      "Requirement already satisfied: packaging in /opt/mamba/lib/python3.10/site-packages (from deepmd-kit[cu11,gpu,lmp]) (23.0)\n",
      "Collecting tensorflow==2.11.0\n",
      "  Downloading https://pypi.tuna.tsinghua.edu.cn/packages/71/f5/20795b0d2cc65da482ddb1735e630b85ef4916673967ce30a64ecb979303/tensorflow-2.11.0-cp310-cp310-manylinux_2_17_x86_64.manylinux2014_x86_64.whl (588.3 MB)\n",
      "\u001b[2K     \u001b[90m━━━━━━━━━━━━━━━━━━━━━━━━━━━━━━━━━━━━━━━\u001b[0m \u001b[32m588.3/588.3 MB\u001b[0m \u001b[31m2.2 MB/s\u001b[0m eta \u001b[36m0:00:00\u001b[0m00:01\u001b[0m00:01\u001b[0m\n",
      "\u001b[?25hCollecting find-libpython\n",
      "  Downloading https://pypi.tuna.tsinghua.edu.cn/packages/7a/13/4a99ff41ae6a47ccc45675bd312a238b9606b118a9317c79a4277cd2a00a/find_libpython-0.3.0-py3-none-any.whl (8.5 kB)\n",
      "Collecting lammps-manylinux-2-28~=2022.6.23.3.0\n",
      "  Downloading https://pypi.tuna.tsinghua.edu.cn/packages/5f/a7/d9df226f2a2e310643a961067531294c8e9e7d837267878c51b71c7006c8/lammps_manylinux_2_28-2022.6.23.3.0-py2.py3-none-manylinux_2_28_x86_64.whl (27.3 MB)\n",
      "\u001b[2K     \u001b[90m━━━━━━━━━━━━━━━━━━━━━━━━━━━━━━━━━━━━━━━━\u001b[0m \u001b[32m27.3/27.3 MB\u001b[0m \u001b[31m40.6 MB/s\u001b[0m eta \u001b[36m0:00:00\u001b[0m00:01\u001b[0m00:01\u001b[0m\n",
      "\u001b[?25hCollecting nvidia-cusolver-cu11\n",
      "  Downloading https://pypi.tuna.tsinghua.edu.cn/packages/55/ee/939ff0104991dd7bdabb4c9767994c612ba0e1c9a55672a1ddd42f5e5b16/nvidia_cusolver_cu11-11.4.1.48-py3-none-manylinux1_x86_64.whl (128.2 MB)\n",
      "\u001b[2K     \u001b[90m━━━━━━━━━━━━━━━━━━━━━━━━━━━━━━━━━━━━━━\u001b[0m \u001b[32m128.2/128.2 MB\u001b[0m \u001b[31m10.2 MB/s\u001b[0m eta \u001b[36m0:00:00\u001b[0m00:01\u001b[0m00:01\u001b[0m\n",
      "\u001b[?25hCollecting nvidia-curand-cu11\n",
      "  Downloading https://pypi.tuna.tsinghua.edu.cn/packages/49/28/c47f8e2439ddbcbeae3cf74d43ed572b651d630ea72863d5357f3759eb66/nvidia_curand_cu11-10.3.0.86-py3-none-manylinux1_x86_64.whl (58.1 MB)\n",
      "\u001b[2K     \u001b[90m━━━━━━━━━━━━━━━━━━━━━━━━━━━━━━━━━━━━━━━━\u001b[0m \u001b[32m58.1/58.1 MB\u001b[0m \u001b[31m14.3 MB/s\u001b[0m eta \u001b[36m0:00:00\u001b[0m00:01\u001b[0m00:01\u001b[0m\n",
      "\u001b[?25hCollecting nvidia-cusparse-cu11\n",
      "  Downloading https://pypi.tuna.tsinghua.edu.cn/packages/c1/e0/21b829c535d569831835a4ca5d049a19ba00d3e91f3e12ab4ad27bd7385f/nvidia_cusparse_cu11-11.7.5.86-py3-none-manylinux1_x86_64.whl (204.1 MB)\n",
      "\u001b[2K     \u001b[90m━━━━━━━━━━━━━━━━━━━━━━━━━━━━━━━━━━━━━━━\u001b[0m \u001b[32m204.1/204.1 MB\u001b[0m \u001b[31m8.1 MB/s\u001b[0m eta \u001b[36m0:00:00\u001b[0m00:01\u001b[0m00:01\u001b[0m\n",
      "\u001b[?25hCollecting nvidia-cublas-cu11\n",
      "  Downloading https://pypi.tuna.tsinghua.edu.cn/packages/46/be/c222e33e60d28ecd496a46fc4d78ccae0ee28e1fd7dc705b6288b4cad27e/nvidia_cublas_cu11-11.11.3.6-py3-none-manylinux1_x86_64.whl (417.9 MB)\n",
      "\u001b[2K     \u001b[90m━━━━━━━━━━━━━━━━━━━━━━━━━━━━━━━━━━━━━━━\u001b[0m \u001b[32m417.9/417.9 MB\u001b[0m \u001b[31m3.6 MB/s\u001b[0m eta \u001b[36m0:00:00\u001b[0m00:01\u001b[0m00:01\u001b[0m\n",
      "\u001b[?25hCollecting nvidia-cuda-runtime-cu11\n",
      "  Downloading https://pypi.tuna.tsinghua.edu.cn/packages/45/3e/84db02be49fe6d6df6e42f69fd64501c22d0f9ada9c9877f885612085d20/nvidia_cuda_runtime_cu11-11.8.89-py3-none-manylinux1_x86_64.whl (875 kB)\n",
      "\u001b[2K     \u001b[90m━━━━━━━━━━━━━━━━━━━━━━━━━━━━━━━━━━━━━━\u001b[0m \u001b[32m875.6/875.6 kB\u001b[0m \u001b[31m11.4 MB/s\u001b[0m eta \u001b[36m0:00:00\u001b[0ma \u001b[36m0:00:01\u001b[0m\n",
      "\u001b[?25hCollecting nvidia-cudnn-cu11\n",
      "  Downloading https://pypi.tuna.tsinghua.edu.cn/packages/de/ab/480bd223774470722982214ebf9df23b2783c23bf94b31ffffc28a728a9f/nvidia_cudnn_cu11-8.9.0.131-py3-none-manylinux1_x86_64.whl (720.0 MB)\n",
      "\u001b[2K     \u001b[90m━━━━━━━━━━━━━━━━━━━━━━━━━━━━━━━━━━━━━━━\u001b[0m \u001b[32m720.0/720.0 MB\u001b[0m \u001b[31m1.7 MB/s\u001b[0m eta \u001b[36m0:00:00\u001b[0m00:01\u001b[0m00:01\u001b[0m\n",
      "\u001b[?25hCollecting nvidia-cufft-cu11\n",
      "  Downloading https://pypi.tuna.tsinghua.edu.cn/packages/74/79/b912a77e38e41f15a0581a59f5c3548d1ddfdda3225936fb67c342719e7a/nvidia_cufft_cu11-10.9.0.58-py3-none-manylinux1_x86_64.whl (168.4 MB)\n",
      "\u001b[2K     \u001b[90m━━━━━━━━━━━━━━━━━━━━━━━━━━━━━━━━━━━━━━━\u001b[0m \u001b[32m168.4/168.4 MB\u001b[0m \u001b[31m8.6 MB/s\u001b[0m eta \u001b[36m0:00:00\u001b[0m00:01\u001b[0m00:01\u001b[0m\n",
      "\u001b[?25hCollecting astunparse>=1.6.0\n",
      "  Downloading https://pypi.tuna.tsinghua.edu.cn/packages/2b/03/13dde6512ad7b4557eb792fbcf0c653af6076b81e5941d36ec61f7ce6028/astunparse-1.6.3-py2.py3-none-any.whl (12 kB)\n",
      "Requirement already satisfied: setuptools in /opt/mamba/lib/python3.10/site-packages (from tensorflow==2.11.0->deepmd-kit[cu11,gpu,lmp]) (65.5.0)\n",
      "Requirement already satisfied: six>=1.12.0 in /opt/mamba/lib/python3.10/site-packages (from tensorflow==2.11.0->deepmd-kit[cu11,gpu,lmp]) (1.16.0)\n",
      "Collecting tensorflow-io-gcs-filesystem>=0.23.1\n",
      "  Downloading https://pypi.tuna.tsinghua.edu.cn/packages/96/77/920d9c132591faeb72c3c3d342c5139ef2d5c6863d2861c4e3927803bcf0/tensorflow_io_gcs_filesystem-0.32.0-cp310-cp310-manylinux_2_12_x86_64.manylinux2010_x86_64.whl (2.4 MB)\n",
      "\u001b[2K     \u001b[90m━━━━━━━━━━━━━━━━━━━━━━━━━━━━━━━━━━━━━━━━\u001b[0m \u001b[32m2.4/2.4 MB\u001b[0m \u001b[31m16.6 MB/s\u001b[0m eta \u001b[36m0:00:00\u001b[0m00:01\u001b[0m00:01\u001b[0m\n",
      "\u001b[?25hCollecting protobuf<3.20,>=3.9.2\n",
      "  Downloading https://pypi.tuna.tsinghua.edu.cn/packages/26/ef/bd6ba3b4ff9a35944bdd325e2c9ee56f71e855757f7d43938232499f0278/protobuf-3.19.6-cp310-cp310-manylinux_2_17_x86_64.manylinux2014_x86_64.whl (1.1 MB)\n",
      "\u001b[2K     \u001b[90m━━━━━━━━━━━━━━━━━━━━━━━━━━━━━━━━━━━━━━━━\u001b[0m \u001b[32m1.1/1.1 MB\u001b[0m \u001b[31m12.6 MB/s\u001b[0m eta \u001b[36m0:00:00\u001b[0ma \u001b[36m0:00:01\u001b[0m\n",
      "\u001b[?25hCollecting grpcio<2.0,>=1.24.3\n",
      "  Downloading https://pypi.tuna.tsinghua.edu.cn/packages/cd/af/871d886544bceee7f60eefcf050f20296fc8f1609fa0690dca8f6be0ac7c/grpcio-1.53.0-cp310-cp310-manylinux_2_17_x86_64.manylinux2014_x86_64.whl (5.0 MB)\n",
      "\u001b[2K     \u001b[90m━━━━━━━━━━━━━━━━━━━━━━━━━━━━━━━━━━━━━━━━\u001b[0m \u001b[32m5.0/5.0 MB\u001b[0m \u001b[31m51.6 MB/s\u001b[0m eta \u001b[36m0:00:00\u001b[0ma \u001b[36m0:00:01\u001b[0m\n",
      "\u001b[?25hCollecting keras<2.12,>=2.11.0\n",
      "  Downloading https://pypi.tuna.tsinghua.edu.cn/packages/de/44/bf1b0eef5b13e6201aef076ff34b91bc40aace8591cd273c1c2a94a9cc00/keras-2.11.0-py2.py3-none-any.whl (1.7 MB)\n",
      "\u001b[2K     \u001b[90m━━━━━━━━━━━━━━━━━━━━━━━━━━━━━━━━━━━━━━━━\u001b[0m \u001b[32m1.7/1.7 MB\u001b[0m \u001b[31m27.6 MB/s\u001b[0m eta \u001b[36m0:00:00\u001b[0m:00:01\u001b[0m\n",
      "\u001b[?25hCollecting tensorboard<2.12,>=2.11\n",
      "  Downloading https://pypi.tuna.tsinghua.edu.cn/packages/6f/77/e624b4916531721e674aa105151ffa5223fb224d3ca4bd5c10574664f944/tensorboard-2.11.2-py3-none-any.whl (6.0 MB)\n",
      "\u001b[2K     \u001b[90m━━━━━━━━━━━━━━━━━━━━━━━━━━━━━━━━━━━━━━━━\u001b[0m \u001b[32m6.0/6.0 MB\u001b[0m \u001b[31m53.5 MB/s\u001b[0m eta \u001b[36m0:00:00\u001b[0m00:01\u001b[0mm00:01\u001b[0m\n",
      "\u001b[?25hCollecting opt-einsum>=2.3.2\n",
      "  Downloading https://pypi.tuna.tsinghua.edu.cn/packages/bc/19/404708a7e54ad2798907210462fd950c3442ea51acc8790f3da48d2bee8b/opt_einsum-3.3.0-py3-none-any.whl (65 kB)\n",
      "\u001b[2K     \u001b[90m━━━━━━━━━━━━━━━━━━━━━━━━━━━━━━━━━━━━━━━━\u001b[0m \u001b[32m65.5/65.5 kB\u001b[0m \u001b[31m22.5 MB/s\u001b[0m eta \u001b[36m0:00:00\u001b[0m\n",
      "\u001b[?25hCollecting google-pasta>=0.1.1\n",
      "  Downloading https://pypi.tuna.tsinghua.edu.cn/packages/a3/de/c648ef6835192e6e2cc03f40b19eeda4382c49b5bafb43d88b931c4c74ac/google_pasta-0.2.0-py3-none-any.whl (57 kB)\n",
      "\u001b[2K     \u001b[90m━━━━━━━━━━━━━━━━━━━━━━━━━━━━━━━━━━━━━━━━\u001b[0m \u001b[32m57.5/57.5 kB\u001b[0m \u001b[31m18.9 MB/s\u001b[0m eta \u001b[36m0:00:00\u001b[0m\n",
      "\u001b[?25hCollecting tensorflow-estimator<2.12,>=2.11.0\n",
      "  Downloading https://pypi.tuna.tsinghua.edu.cn/packages/bb/e2/8bf618c7c30a525054230ee6d40b036d3e5abc2c4ff67cf7c7420a519204/tensorflow_estimator-2.11.0-py2.py3-none-any.whl (439 kB)\n",
      "\u001b[2K     \u001b[90m━━━━━━━━━━━━━━━━━━━━━━━━━━━━━━━━━━━━━━━\u001b[0m \u001b[32m439.2/439.2 kB\u001b[0m \u001b[31m9.9 MB/s\u001b[0m eta \u001b[36m0:00:00\u001b[0ma \u001b[36m0:00:01\u001b[0m\n",
      "\u001b[?25hCollecting wrapt>=1.11.0\n",
      "  Downloading https://pypi.tuna.tsinghua.edu.cn/packages/7f/b6/6dc0ddacd20337b4ce6ab0d6b0edc7da3898f85c4f97df7f30267e57509e/wrapt-1.15.0-cp310-cp310-manylinux_2_5_x86_64.manylinux1_x86_64.manylinux_2_17_x86_64.manylinux2014_x86_64.whl (78 kB)\n",
      "\u001b[2K     \u001b[90m━━━━━━━━━━━━━━━━━━━━━━━━━━━━━━━━━━━━━━━━\u001b[0m \u001b[32m78.4/78.4 kB\u001b[0m \u001b[31m27.6 MB/s\u001b[0m eta \u001b[36m0:00:00\u001b[0m\n",
      "\u001b[?25hCollecting typing-extensions>=3.6.6\n",
      "  Downloading https://pypi.tuna.tsinghua.edu.cn/packages/31/25/5abcd82372d3d4a3932e1fa8c3dbf9efac10cc7c0d16e78467460571b404/typing_extensions-4.5.0-py3-none-any.whl (27 kB)\n",
      "Collecting flatbuffers>=2.0\n",
      "  Downloading https://pypi.tuna.tsinghua.edu.cn/packages/60/a5/9fce65f81639a71a0239d78a4721afb5eb3f0c49c104ae892deeae614b95/flatbuffers-23.3.3-py2.py3-none-any.whl (26 kB)\n",
      "Collecting termcolor>=1.1.0\n",
      "  Downloading https://pypi.tuna.tsinghua.edu.cn/packages/aa/f4/8ddd8a684b4c005345f45740a449d93d0af7ccecd91319d0f4426cf08b36/termcolor-2.2.0-py3-none-any.whl (6.6 kB)\n",
      "Collecting gast<=0.4.0,>=0.2.1\n",
      "  Downloading https://pypi.tuna.tsinghua.edu.cn/packages/b6/48/583c032b79ae5b3daa02225a675aeb673e58d2cb698e78510feceb11958c/gast-0.4.0-py3-none-any.whl (9.8 kB)\n",
      "Collecting absl-py>=1.0.0\n",
      "  Downloading https://pypi.tuna.tsinghua.edu.cn/packages/dd/87/de5c32fa1b1c6c3305d576e299801d8655c175ca9557019906247b994331/absl_py-1.4.0-py3-none-any.whl (126 kB)\n",
      "\u001b[2K     \u001b[90m━━━━━━━━━━━━━━━━━━━━━━━━━━━━━━━━━━━━━━━\u001b[0m \u001b[32m126.5/126.5 kB\u001b[0m \u001b[31m2.9 MB/s\u001b[0m eta \u001b[36m0:00:00\u001b[0ma \u001b[36m0:00:01\u001b[0m\n",
      "\u001b[?25hCollecting libclang>=13.0.0\n",
      "  Downloading https://pypi.tuna.tsinghua.edu.cn/packages/a1/82/1fd88a2df784dbcfdfba7dbb335653f4178c7c73fa7fe95bae888e60d34b/libclang-16.0.0-py2.py3-none-manylinux2010_x86_64.whl (22.9 MB)\n",
      "\u001b[2K     \u001b[90m━━━━━━━━━━━━━━━━━━━━━━━━━━━━━━━━━━━━━━━━\u001b[0m \u001b[32m22.9/22.9 MB\u001b[0m \u001b[31m48.8 MB/s\u001b[0m eta \u001b[36m0:00:00\u001b[0m00:01\u001b[0m00:01\u001b[0m\n",
      "\u001b[?25hRequirement already satisfied: bracex>=2.1.1 in /opt/mamba/lib/python3.10/site-packages (from wcmatch->deepmd-kit[cu11,gpu,lmp]) (2.3.post1)\n",
      "Requirement already satisfied: wheel<1.0,>=0.23.0 in /opt/mamba/lib/python3.10/site-packages (from astunparse>=1.6.0->tensorflow==2.11.0->deepmd-kit[cu11,gpu,lmp]) (0.37.1)\n",
      "Requirement already satisfied: requests<3,>=2.21.0 in /opt/mamba/lib/python3.10/site-packages (from tensorboard<2.12,>=2.11->tensorflow==2.11.0->deepmd-kit[cu11,gpu,lmp]) (2.28.1)\n",
      "Collecting markdown>=2.6.8\n",
      "  Downloading https://pypi.tuna.tsinghua.edu.cn/packages/9a/a1/1352b0e5a3c71a79fa9265726e2217f69df9fd4de0bcb5725cc61f62a5df/Markdown-3.4.3-py3-none-any.whl (93 kB)\n",
      "\u001b[2K     \u001b[90m━━━━━━━━━━━━━━━━━━━━━━━━━━━━━━━━━━━━━━━━\u001b[0m \u001b[32m93.9/93.9 kB\u001b[0m \u001b[31m2.1 MB/s\u001b[0m eta \u001b[36m0:00:00\u001b[0mta \u001b[36m0:00:01\u001b[0m\n",
      "\u001b[?25hCollecting werkzeug>=1.0.1\n",
      "  Downloading https://pypi.tuna.tsinghua.edu.cn/packages/f6/f8/9da63c1617ae2a1dec2fbf6412f3a0cfe9d4ce029eccbda6e1e4258ca45f/Werkzeug-2.2.3-py3-none-any.whl (233 kB)\n",
      "\u001b[2K     \u001b[90m━━━━━━━━━━━━━━━━━━━━━━━━━━━━━━━━━━━━━━━\u001b[0m \u001b[32m233.6/233.6 kB\u001b[0m \u001b[31m5.5 MB/s\u001b[0m eta \u001b[36m0:00:00\u001b[0ma \u001b[36m0:00:01\u001b[0m\n",
      "\u001b[?25hCollecting google-auth<3,>=1.6.3\n",
      "  Downloading https://pypi.tuna.tsinghua.edu.cn/packages/da/cc/13eb3d0b151252e1d2bafc52f412be05c3789b0f655caf5eed298cf8056c/google_auth-2.17.3-py2.py3-none-any.whl (178 kB)\n",
      "\u001b[2K     \u001b[90m━━━━━━━━━━━━━━━━━━━━━━━━━━━━━━━━━━━━━━━\u001b[0m \u001b[32m178.2/178.2 kB\u001b[0m \u001b[31m4.1 MB/s\u001b[0m eta \u001b[36m0:00:00\u001b[0ma \u001b[36m0:00:01\u001b[0m\n",
      "\u001b[?25hCollecting tensorboard-plugin-wit>=1.6.0\n",
      "  Downloading https://pypi.tuna.tsinghua.edu.cn/packages/e0/68/e8ecfac5dd594b676c23a7f07ea34c197d7d69b3313afdf8ac1b0a9905a2/tensorboard_plugin_wit-1.8.1-py3-none-any.whl (781 kB)\n",
      "\u001b[2K     \u001b[90m━━━━━━━━━━━━━━━━━━━━━━━━━━━━━━━━━━━━━━\u001b[0m \u001b[32m781.3/781.3 kB\u001b[0m \u001b[31m16.4 MB/s\u001b[0m eta \u001b[36m0:00:00\u001b[0ma \u001b[36m0:00:01\u001b[0m\n",
      "\u001b[?25hCollecting tensorboard-data-server<0.7.0,>=0.6.0\n",
      "  Downloading https://pypi.tuna.tsinghua.edu.cn/packages/60/f9/802efd84988bffd9f644c03b6e66fde8e76c3aa33db4279ddd11c5d61f4b/tensorboard_data_server-0.6.1-py3-none-manylinux2010_x86_64.whl (4.9 MB)\n",
      "\u001b[2K     \u001b[90m━━━━━━━━━━━━━━━━━━━━━━━━━━━━━━━━━━━━━━━━\u001b[0m \u001b[32m4.9/4.9 MB\u001b[0m \u001b[31m54.3 MB/s\u001b[0m eta \u001b[36m0:00:00\u001b[0m:00:01\u001b[0m00:01\u001b[0m\n",
      "\u001b[?25hCollecting google-auth-oauthlib<0.5,>=0.4.1\n",
      "  Downloading https://pypi.tuna.tsinghua.edu.cn/packages/b1/0e/0636cc1448a7abc444fb1b3a63655e294e0d2d49092dc3de05241be6d43c/google_auth_oauthlib-0.4.6-py2.py3-none-any.whl (18 kB)\n",
      "Collecting pyasn1-modules>=0.2.1\n",
      "  Downloading https://pypi.tuna.tsinghua.edu.cn/packages/95/de/214830a981892a3e286c3794f41ae67a4495df1108c3da8a9f62159b9a9d/pyasn1_modules-0.2.8-py2.py3-none-any.whl (155 kB)\n",
      "\u001b[2K     \u001b[90m━━━━━━━━━━━━━━━━━━━━━━━━━━━━━━━━━━━━━━━\u001b[0m \u001b[32m155.3/155.3 kB\u001b[0m \u001b[31m3.6 MB/s\u001b[0m eta \u001b[36m0:00:00\u001b[0ma \u001b[36m0:00:01\u001b[0m\n",
      "\u001b[?25hCollecting rsa<5,>=3.1.4\n",
      "  Downloading https://pypi.tuna.tsinghua.edu.cn/packages/49/97/fa78e3d2f65c02c8e1268b9aba606569fe97f6c8f7c2d74394553347c145/rsa-4.9-py3-none-any.whl (34 kB)\n",
      "Collecting cachetools<6.0,>=2.0.0\n",
      "  Downloading https://pypi.tuna.tsinghua.edu.cn/packages/db/14/2b48a834d349eee94677e8702ea2ef98b7c674b090153ea8d3f6a788584e/cachetools-5.3.0-py3-none-any.whl (9.3 kB)\n",
      "Collecting requests-oauthlib>=0.7.0\n",
      "  Downloading https://pypi.tuna.tsinghua.edu.cn/packages/6f/bb/5deac77a9af870143c684ab46a7934038a53eb4aa975bc0687ed6ca2c610/requests_oauthlib-1.3.1-py2.py3-none-any.whl (23 kB)\n",
      "Requirement already satisfied: urllib3<1.27,>=1.21.1 in /opt/mamba/lib/python3.10/site-packages (from requests<3,>=2.21.0->tensorboard<2.12,>=2.11->tensorflow==2.11.0->deepmd-kit[cu11,gpu,lmp]) (1.26.11)\n",
      "Requirement already satisfied: certifi>=2017.4.17 in /opt/mamba/lib/python3.10/site-packages (from requests<3,>=2.21.0->tensorboard<2.12,>=2.11->tensorflow==2.11.0->deepmd-kit[cu11,gpu,lmp]) (2022.9.24)\n",
      "Requirement already satisfied: charset-normalizer<3,>=2 in /opt/mamba/lib/python3.10/site-packages (from requests<3,>=2.21.0->tensorboard<2.12,>=2.11->tensorflow==2.11.0->deepmd-kit[cu11,gpu,lmp]) (2.1.1)\n",
      "Requirement already satisfied: idna<4,>=2.5 in /opt/mamba/lib/python3.10/site-packages (from requests<3,>=2.21.0->tensorboard<2.12,>=2.11->tensorflow==2.11.0->deepmd-kit[cu11,gpu,lmp]) (3.4)\n",
      "Requirement already satisfied: MarkupSafe>=2.1.1 in /opt/mamba/lib/python3.10/site-packages (from werkzeug>=1.0.1->tensorboard<2.12,>=2.11->tensorflow==2.11.0->deepmd-kit[cu11,gpu,lmp]) (2.1.2)\n",
      "Collecting pyasn1<0.5.0,>=0.4.6\n",
      "  Downloading https://pypi.tuna.tsinghua.edu.cn/packages/62/1e/a94a8d635fa3ce4cfc7f506003548d0a2447ae76fd5ca53932970fe3053f/pyasn1-0.4.8-py2.py3-none-any.whl (77 kB)\n",
      "\u001b[2K     \u001b[90m━━━━━━━━━━━━━━━━━━━━━━━━━━━━━━━━━━━━━━━━\u001b[0m \u001b[32m77.1/77.1 kB\u001b[0m \u001b[31m1.7 MB/s\u001b[0m eta \u001b[36m0:00:00\u001b[0mta \u001b[36m0:00:01\u001b[0m\n",
      "\u001b[?25hCollecting oauthlib>=3.0.0\n",
      "  Downloading https://pypi.tuna.tsinghua.edu.cn/packages/7e/80/cab10959dc1faead58dc8384a781dfbf93cb4d33d50988f7a69f1b7c9bbe/oauthlib-3.2.2-py3-none-any.whl (151 kB)\n",
      "\u001b[2K     \u001b[90m━━━━━━━━━━━━━━━━━━━━━━━━━━━━━━━━━━━━━━━\u001b[0m \u001b[32m151.7/151.7 kB\u001b[0m \u001b[31m3.6 MB/s\u001b[0m eta \u001b[36m0:00:00\u001b[0ma \u001b[36m0:00:01\u001b[0m\n",
      "\u001b[?25hInstalling collected packages: tensorboard-plugin-wit, pyasn1, libclang, flatbuffers, find-libpython, wrapt, werkzeug, typing-extensions, termcolor, tensorflow-io-gcs-filesystem, tensorflow-estimator, tensorboard-data-server, rsa, pyasn1-modules, protobuf, opt-einsum, oauthlib, nvidia-cusparse-cu11, nvidia-curand-cu11, nvidia-cufft-cu11, nvidia-cuda-runtime-cu11, nvidia-cublas-cu11, markdown, lammps-manylinux-2-28, keras, grpcio, google-pasta, gast, cachetools, astunparse, absl-py, requests-oauthlib, nvidia-cusolver-cu11, nvidia-cudnn-cu11, google-auth, google-auth-oauthlib, tensorboard, tensorflow\n",
      "Successfully installed absl-py-1.4.0 astunparse-1.6.3 cachetools-5.3.0 find-libpython-0.3.0 flatbuffers-23.3.3 gast-0.4.0 google-auth-2.17.3 google-auth-oauthlib-0.4.6 google-pasta-0.2.0 grpcio-1.53.0 keras-2.11.0 lammps-manylinux-2-28-2022.6.23.3.0 libclang-16.0.0 markdown-3.4.3 nvidia-cublas-cu11-11.11.3.6 nvidia-cuda-runtime-cu11-11.8.89 nvidia-cudnn-cu11-8.9.0.131 nvidia-cufft-cu11-10.9.0.58 nvidia-curand-cu11-10.3.0.86 nvidia-cusolver-cu11-11.4.1.48 nvidia-cusparse-cu11-11.7.5.86 oauthlib-3.2.2 opt-einsum-3.3.0 protobuf-3.19.6 pyasn1-0.4.8 pyasn1-modules-0.2.8 requests-oauthlib-1.3.1 rsa-4.9 tensorboard-2.11.2 tensorboard-data-server-0.6.1 tensorboard-plugin-wit-1.8.1 tensorflow-2.11.0 tensorflow-estimator-2.11.0 tensorflow-io-gcs-filesystem-0.32.0 termcolor-2.2.0 typing-extensions-4.5.0 werkzeug-2.2.3 wrapt-1.15.0\n",
      "\u001b[33mWARNING: Running pip as the 'root' user can result in broken permissions and conflicting behaviour with the system package manager. It is recommended to use a virtual environment instead: https://pip.pypa.io/warnings/venv\u001b[0m\u001b[33m\n",
      "\u001b[0m"
     ]
    }
   ],
   "source": [
    "!/opt/mamba/bin/pip install deepmd-kit[gpu,cu11,lmp]"
   ]
  },
  {
   "cell_type": "code",
   "execution_count": 27,
   "id": "e3046e2b-7080-4be0-81d3-faaab3873002",
   "metadata": {
    "collapsed": true,
    "jupyter": {
     "outputs_hidden": true
    },
    "tags": []
   },
   "outputs": [
    {
     "name": "stderr",
     "output_type": "stream",
     "text": [
      "2023-04-17 21:11:08.607163: I tensorflow/core/platform/cpu_feature_guard.cc:193] This TensorFlow binary is optimized with oneAPI Deep Neural Network Library (oneDNN) to use the following CPU instructions in performance-critical operations:  AVX2 AVX512F FMA\n",
      "To enable them in other operations, rebuild TensorFlow with the appropriate compiler flags.\n",
      "2023-04-17 21:11:09.536501: W tensorflow/compiler/xla/stream_executor/platform/default/dso_loader.cc:64] Could not load dynamic library 'libnvinfer.so.7'; dlerror: libnvinfer.so.7: cannot open shared object file: No such file or directory; LD_LIBRARY_PATH: /usr/local/nvidia/lib:/usr/local/nvidia/lib64\n",
      "2023-04-17 21:11:09.536608: W tensorflow/compiler/xla/stream_executor/platform/default/dso_loader.cc:64] Could not load dynamic library 'libnvinfer_plugin.so.7'; dlerror: libnvinfer_plugin.so.7: cannot open shared object file: No such file or directory; LD_LIBRARY_PATH: /usr/local/nvidia/lib:/usr/local/nvidia/lib64\n",
      "2023-04-17 21:11:09.536618: W tensorflow/compiler/tf2tensorrt/utils/py_utils.cc:38] TF-TRT Warning: Cannot dlopen some TensorRT libraries. If you would like to use Nvidia GPU with TensorRT, please make sure the missing libraries mentioned above are installed properly.\n"
     ]
    },
    {
     "name": "stdout",
     "output_type": "stream",
     "text": [
      "WARNING:tensorflow:From /opt/mamba/lib/python3.10/site-packages/tensorflow/python/compat/v2_compat.py:107: disable_resource_variables (from tensorflow.python.ops.variable_scope) is deprecated and will be removed in a future version.\n",
      "Instructions for updating:\n",
      "non-resource variables are not supported in the long term\n"
     ]
    },
    {
     "name": "stderr",
     "output_type": "stream",
     "text": [
      "WARNING:root:To get the best performance, it is recommended to adjust the number of threads by setting the environment variables OMP_NUM_THREADS, TF_INTRA_OP_PARALLELISM_THREADS, and TF_INTER_OP_PARALLELISM_THREADS. See https://deepmd.rtfd.io/parallelism/ for more information.\n"
     ]
    },
    {
     "name": "stdout",
     "output_type": "stream",
     "text": [
      "WARNING:tensorflow:From /opt/mamba/lib/python3.10/site-packages/deepmd/utils/batch_size.py:61: is_gpu_available (from tensorflow.python.framework.test_util) is deprecated and will be removed in a future version.\n",
      "Instructions for updating:\n",
      "Use `tf.config.list_physical_devices('GPU')` instead.\n"
     ]
    },
    {
     "name": "stderr",
     "output_type": "stream",
     "text": [
      "2023-04-17 21:11:10.778428: I tensorflow/core/platform/cpu_feature_guard.cc:193] This TensorFlow binary is optimized with oneAPI Deep Neural Network Library (oneDNN) to use the following CPU instructions in performance-critical operations:  AVX2 AVX512F FMA\n",
      "To enable them in other operations, rebuild TensorFlow with the appropriate compiler flags.\n",
      "2023-04-17 21:11:10.779233: W tensorflow/compiler/xla/stream_executor/platform/default/dso_loader.cc:64] Could not load dynamic library 'libcuda.so.1'; dlerror: libcuda.so.1: cannot open shared object file: No such file or directory; LD_LIBRARY_PATH: /usr/local/nvidia/lib:/usr/local/nvidia/lib64\n",
      "2023-04-17 21:11:10.779258: W tensorflow/compiler/xla/stream_executor/cuda/cuda_driver.cc:265] failed call to cuInit: UNKNOWN ERROR (303)\n",
      "2023-04-17 21:11:10.779274: I tensorflow/compiler/xla/stream_executor/cuda/cuda_diagnostics.cc:156] kernel driver does not appear to be running on this host (bohrium-14076-1013403): /proc/driver/nvidia/version does not exist\n",
      "2023-04-17 21:11:10.794998: I tensorflow/compiler/mlir/mlir_graph_optimization_pass.cc:357] MLIR V1 optimization pass is not enabled\n",
      "WARNING:tensorflow:From /opt/mamba/lib/python3.10/site-packages/deepmd/utils/batch_size.py:61: is_gpu_available (from tensorflow.python.framework.test_util) is deprecated and will be removed in a future version.\n",
      "Instructions for updating:\n",
      "Use `tf.config.list_physical_devices('GPU')` instead.\n",
      "WARNING:deepmd.utils.batch_size:You can use the environment variable DP_INFER_BATCH_SIZE tocontrol the inference batch size (nframes * natoms). The default value is 1024.\n"
     ]
    }
   ],
   "source": [
    "predict = training_systems.predict(\"graph.pb\")"
   ]
  },
  {
   "cell_type": "code",
   "execution_count": 28,
   "id": "b4005a62-8bf2-4aaf-8865-20ea303ea0f2",
   "metadata": {},
   "outputs": [
    {
     "data": {
      "text/plain": [
       "[]"
      ]
     },
     "execution_count": 28,
     "metadata": {},
     "output_type": "execute_result"
    },
    {
     "data": {
      "image/png": "[encoded data removed]",
      "text/plain": [
       "<Figure size 640x480 with 1 Axes>"
      ]
     },
     "metadata": {},
     "output_type": "display_data"
    }
   ],
   "source": [
    "import matplotlib.pyplot as plt\n",
    "import numpy as np\n",
    "\n",
    "plt.scatter(training_systems[\"energies\"], predict[\"energies\"])\n",
    "\n",
    "x_range = np.linspace(plt.xlim()[0], plt.xlim()[1])\n",
    "\n",
    "plt.plot(x_range, x_range, \"r--\", linewidth = 0.25)\n",
    "plt.xlabel(\"Energy of DFT\")\n",
    "plt.ylabel(\"Energy predicted by deep potential\")\n",
    "plt.plot()"
   ]
  },
  {
   "cell_type": "markdown",
   "id": "fffaad23-53a6-47dd-8d91-9beb68d1212b",
   "metadata": {},
   "source": [
    "## Run MD with LAMMPS\n",
    "\n",
    "The model can drive molecular dynamics in LAMMPS. \n"
   ]
  },
  {
   "cell_type": "code",
   "execution_count": 29,
   "id": "d0ceac75-9753-4ae8-b954-c2cc6d005e46",
   "metadata": {},
   "outputs": [
    {
     "name": "stdout",
     "output_type": "stream",
     "text": [
      "ch4.dump  conf.lmp  graph.pb  in.lammps  log.lammps\n"
     ]
    }
   ],
   "source": [
    "! cd ../02.lmp && cp ../01.train/graph.pb ./ && ls"
   ]
  },
  {
   "cell_type": "markdown",
   "id": "c794572f-7e9c-42f7-b78a-4d82bd3f3118",
   "metadata": {},
   "source": [
    "Here `conf.lmp` gives the initial configuration of a gas phase methane MD simulation, and the file `in.lammps` is the lammps input script. One may check in.lammps and finds that it is a rather standard LAMMPS input file for a MD simulation, with only two exception lines:\n",
    "```\n",
    "pair_style  deepmd graph.pb\n",
    "pair_coeff  * *\n",
    "```\n",
    "where the pair style deepmd is invoked and the model file `graph.pb` is provided, which means the atomic interaction will be computed by the DP model that is stored in the file `graph.pb`. \n",
    "\n",
    "In an environment with a compatibable version of LAMMPS, the deep potential molecular dynamics can be performed via \n",
    "\n",
    "```bash\n",
    "lmp -i input.lammps\n",
    "```"
   ]
  },
  {
   "cell_type": "code",
   "execution_count": 30,
   "id": "f4501e9c-541c-431d-8847-d0d9eecfb0e0",
   "metadata": {},
   "outputs": [
    {
     "name": "stdout",
     "output_type": "stream",
     "text": [
      "Warning:\n",
      "This LAMMPS executable is in a conda environment, but the environment has\n",
      "not been activated. Libraries may fail to load. To activate this environment\n",
      "please see https://conda.io/activation.\n",
      "LAMMPS (23 Jun 2022 - Update 1)\n",
      "OMP_NUM_THREADS environment is not set. Defaulting to 1 thread. (src/comm.cpp:98)\n",
      "  using 1 OpenMP thread(s) per MPI task\n",
      "Loaded 1 plugins from /opt/deepmd-kit-2.2.1/lib/deepmd_lmp\n",
      "Reading data file ...\n",
      "  triclinic box = (0 0 0) to (10.114259 10.263124 10.216793) with tilt (0.036749877 0.13833062 -0.056322169)\n",
      "  1 by 1 by 1 MPI processor grid\n",
      "  reading atoms ...\n",
      "  5 atoms\n",
      "  read_data CPU = 0.017 seconds\n",
      "DeePMD-kit WARNING: Environmental variable OMP_NUM_THREADS is not set. Tune OMP_NUM_THREADS for the best performance. See https://deepmd.rtfd.io/parallelism/ for more information.\n",
      "Summary of lammps deepmd module ...\n",
      "  >>> Info of deepmd-kit:\n",
      "  installed to:       /opt/deepmd-kit-2.2.1\n",
      "  source:             v2.2.1\n",
      "  source branch:       HEAD\n",
      "  source commit:      3ac8c4c7\n",
      "  source commit at:   2023-03-16 12:33:24 +0800\n",
      "  surpport model ver.:1.1 \n",
      "  build variant:      cuda\n",
      "  build with tf inc:  /opt/deepmd-kit-2.2.1/include;/opt/deepmd-kit-2.2.1/include\n",
      "  build with tf lib:  /opt/deepmd-kit-2.2.1/lib/libtensorflow_cc.so\n",
      "  set tf intra_op_parallelism_threads: 0\n",
      "  set tf inter_op_parallelism_threads: 0\n",
      "  >>> Info of lammps module:\n",
      "  use deepmd-kit at:  /opt/deepmd-kit-2.2.1DeePMD-kit WARNING: Environmental variable OMP_NUM_THREADS is not set. Tune OMP_NUM_THREADS for the best performance. See https://deepmd.rtfd.io/parallelism/ for more information.\n",
      "DeePMD-kit: Successfully load libcudart.so\n",
      "2023-04-17 21:11:23.704307: I tensorflow/core/platform/cpu_feature_guard.cc:193] This TensorFlow binary is optimized with oneAPI Deep Neural Network Library (oneDNN) to use the following CPU instructions in performance-critical operations:  SSE4.1 SSE4.2 AVX AVX2 AVX512F FMA\n",
      "To enable them in other operations, rebuild TensorFlow with the appropriate compiler flags.\n",
      "2023-04-17 21:11:23.710934: W tensorflow/stream_executor/platform/default/dso_loader.cc:64] Could not load dynamic library 'libcuda.so.1'; dlerror: libcuda.so.1: cannot open shared object file: No such file or directory; LD_LIBRARY_PATH: /usr/local/nvidia/lib:/usr/local/nvidia/lib64\n",
      "2023-04-17 21:11:23.710964: W tensorflow/stream_executor/cuda/cuda_driver.cc:269] failed call to cuInit: UNKNOWN ERROR (303)\n",
      "2023-04-17 21:11:23.710981: I tensorflow/stream_executor/cuda/cuda_diagnostics.cc:156] kernel driver does not appear to be running on this host (bohrium-14076-1013403): /proc/driver/nvidia/version does not exist\n",
      "2023-04-17 21:11:23.712636: I tensorflow/core/common_runtime/process_util.cc:146] Creating new thread pool with default inter op setting: 2. Tune using inter_op_parallelism_threads for best performance.\n",
      "2023-04-17 21:11:23.762796: I tensorflow/compiler/mlir/mlir_graph_optimization_pass.cc:354] MLIR V1 optimization pass is not enabled\n",
      "  >>> Info of model(s):\n",
      "  using   1 model(s): graph.pb \n",
      "  rcut in model:      6\n",
      "  ntypes in model:    2\n",
      "\n",
      "CITE-CITE-CITE-CITE-CITE-CITE-CITE-CITE-CITE-CITE-CITE-CITE-CITE\n",
      "\n",
      "Your simulation uses code contributions which should be cited:\n",
      "- USER-DEEPMD package:\n",
      "The log file lists these citations in BibTeX format.\n",
      "\n",
      "CITE-CITE-CITE-CITE-CITE-CITE-CITE-CITE-CITE-CITE-CITE-CITE-CITE\n",
      "\n",
      "Generated 0 of 1 mixed pair_coeff terms from geometric mixing rule\n",
      "Neighbor list info ...\n",
      "  update every 10 steps, delay 0 steps, check no\n",
      "  max neighbors/atom: 2000, page size: 100000\n",
      "  master list distance cutoff = 7\n",
      "  ghost atom cutoff = 7\n",
      "  binsize = 3.5, bins = 3 3 3\n",
      "  1 neighbor lists, perpetual/occasional/extra = 1 0 0\n",
      "  (1) pair deepmd, perpetual\n",
      "      attributes: full, newton on\n",
      "      pair build: full/bin/atomonly\n",
      "      stencil: full/bin/3d\n",
      "      bin: standard\n",
      "Setting up Verlet run ...\n",
      "  Unit style    : metal\n",
      "  Current step  : 0\n",
      "  Time step     : 0.001\n",
      "Per MPI rank memory allocation (min/avg/max) = 3.809 | 3.809 | 3.809 Mbytes\n",
      "   Step         PotEng         KinEng         TotEng          Temp          Press          Volume    \n",
      "         0  -219.77343      0.025852029   -219.74757      50            -818.15609      1060.5429    \n",
      "       100  -219.76695      0.019294347   -219.74765      37.316892     -718.29217      1060.5429    \n",
      "       200  -219.77618      0.027280734   -219.7489       52.763236     -491.64264      1060.5429    \n",
      "       300  -219.7907       0.039884515   -219.75081      77.140009     -236.66613      1060.5429    \n",
      "       400  -219.78863      0.03634384    -219.75228      70.292047      90.660019      1060.5429    \n",
      "       500  -219.7756       0.02182347    -219.75378      42.208428      478.89705      1060.5429    \n",
      "       600  -219.77662      0.020076814   -219.75654      38.830249      649.73623      1060.5429    \n",
      "       700  -219.78494      0.024953469   -219.75998      48.262109      712.90229      1060.5429    \n",
      "       800  -219.78697      0.023608402   -219.76336      45.660636      651.74969      1060.5429    \n",
      "       900  -219.78313      0.016241585   -219.76689      31.412593      575.00937      1060.5429    \n",
      "      1000  -219.78387      0.013185598   -219.77068      25.502057      486.53976      1060.5429    \n",
      "      1100  -219.79065      0.01655805    -219.77409      32.024662      310.93797      1060.5429    \n",
      "      1200  -219.79414      0.017643793   -219.77649      34.124581      155.57583      1060.5429    \n",
      "      1300  -219.79198      0.013880678   -219.77809      26.846399      39.039425      1060.5429    \n",
      "      1400  -219.78996      0.010755766   -219.7792       20.802558     -64.064103      1060.5429    \n",
      "      1500  -219.79186      0.012100123   -219.77976      23.402657     -181.98526      1060.5429    \n",
      "      1600  -219.79308      0.013422807   -219.77965      25.960838     -290.86506      1060.5429    \n",
      "      1700  -219.79108      0.012055149   -219.77902      23.315673     -370.2263       1060.5429    \n",
      "      1800  -219.78749      0.0097182152  -219.77777      18.795846     -435.66521      1060.5429    \n",
      "      1900  -219.7859       0.010553877   -219.77535      20.412086     -525.38636      1060.5429    \n",
      "      2000  -219.78538      0.014240672   -219.77114      27.542658     -628.10406      1060.5429    \n",
      "      2100  -219.78342      0.018195535   -219.76523      35.191696     -677.16961      1060.5429    \n",
      "      2200  -219.7802       0.021232831   -219.75897      41.066083     -631.86354      1060.5429    \n",
      "      2300  -219.77858      0.024358621   -219.75422      47.111624     -461.94233      1060.5429    \n",
      "      2400  -219.78323      0.031891887   -219.75134      61.681593     -221.07746      1060.5429    \n",
      "      2500  -219.78378      0.034141737   -219.74964      66.032993      112.2497       1060.5429    \n",
      "      2600  -219.78176      0.032978683   -219.74878      63.783548      451.65999      1060.5429    \n",
      "      2700  -219.77726      0.028993182   -219.74827      56.075255      705.47309      1060.5429    \n",
      "      2800  -219.77533      0.027370294   -219.74796      52.936453      775.98515      1060.5429    \n",
      "      2900  -219.77941      0.030789438   -219.74862      59.549364      670.98443      1060.5429    \n",
      "      3000  -219.78375      0.033596141   -219.75015      64.977764      504.75544      1060.5429    \n",
      "      3100  -219.7851       0.03321876    -219.75188      64.247877      190.67712      1060.5429    \n",
      "      3200  -219.7802       0.027085109   -219.75311      52.384881     -100.88186      1060.5429    \n",
      "      3300  -219.77954      0.024827772   -219.75472      48.019001     -349.24866      1060.5429    \n",
      "      3400  -219.78184      0.024931015   -219.75691      48.218682     -556.89315      1060.5429    \n",
      "      3500  -219.78277      0.023709658   -219.75906      45.856474     -665.66734      1060.5429    \n",
      "      3600  -219.77803      0.017289785   -219.76074      33.439899     -662.19036      1060.5429    \n",
      "      3700  -219.77772      0.015325434   -219.7624       29.64068      -547.12308      1060.5429    \n",
      "      3800  -219.78657      0.022241011   -219.76433      43.015988     -403.70239      1060.5429    \n",
      "      3900  -219.79228      0.026104155   -219.76617      50.487634     -245.56528      1060.5429    \n",
      "      4000  -219.78545      0.018363619   -219.76709      35.516785     -63.228023      1060.5429    \n",
      "      4100  -219.78148      0.013878592   -219.7676       26.842366      149.66259      1060.5429    \n",
      "      4200  -219.78971      0.021355694   -219.76835      41.30371       258.11717      1060.5429    \n",
      "      4300  -219.79338      0.024665161   -219.76872      47.704497      408.21123      1060.5429    \n",
      "      4400  -219.78485      0.016831136   -219.76802      32.552834      510.84417      1060.5429    \n",
      "      4500  -219.77828      0.011640178   -219.76664      22.513083      608.61359      1060.5429    \n",
      "      4600  -219.78317      0.018152085   -219.76502      35.10766       612.86103      1060.5429    \n",
      "      4700  -219.79007      0.02754145    -219.76252      53.267482      532.23414      1060.5429    \n",
      "      4800  -219.78409      0.026012819   -219.75808      50.310981      455.83706      1060.5429    \n",
      "      4900  -219.77417      0.022149241   -219.75202      42.838497      259.51689      1060.5429    \n",
      "      5000  -219.77723      0.031323759   -219.7459       60.582786     -92.109871      1060.5429    \n",
      "Loop time of 10.477 on 1 procs for 5000 steps with 5 atoms\n",
      "\n",
      "Performance: 41.233 ns/day, 0.582 hours/ns, 477.236 timesteps/s\n",
      "265.4% CPU use with 1 MPI tasks x 1 OpenMP threads\n",
      "\n",
      "MPI task timing breakdown:\n",
      "Section |  min time  |  avg time  |  max time  |%varavg| %total\n",
      "---------------------------------------------------------------\n",
      "Pair    | 10.431     | 10.431     | 10.431     |   0.0 | 99.57\n",
      "Neigh   | 0.0062965  | 0.0062965  | 0.0062965  |   0.0 |  0.06\n",
      "Comm    | 0.010991   | 0.010991   | 0.010991   |   0.0 |  0.10\n",
      "Output  | 0.0041632  | 0.0041632  | 0.0041632  |   0.0 |  0.04\n",
      "Modify  | 0.019365   | 0.019365   | 0.019365   |   0.0 |  0.18\n",
      "Other   |            | 0.004755   |            |       |  0.05\n",
      "\n",
      "Nlocal:              5 ave           5 max           5 min\n",
      "Histogram: 1 0 0 0 0 0 0 0 0 0\n",
      "Nghost:            130 ave         130 max         130 min\n",
      "Histogram: 1 0 0 0 0 0 0 0 0 0\n",
      "Neighs:              0 ave           0 max           0 min\n",
      "Histogram: 1 0 0 0 0 0 0 0 0 0\n",
      "FullNghs:           20 ave          20 max          20 min\n",
      "Histogram: 1 0 0 0 0 0 0 0 0 0\n",
      "\n",
      "Total # of neighbors = 20\n",
      "Ave neighs/atom = 4\n",
      "Neighbor list builds = 500\n",
      "Dangerous builds not checked\n",
      "Total wall time: 0:00:12\n"
     ]
    }
   ],
   "source": [
    "! cd ../02.lmp && cp ../01.train/graph.pb ./ && lmp -i in.lammps"
   ]
  },
  {
   "cell_type": "markdown",
   "id": "3c1f883a-a768-4de1-8681-effd90643fee",
   "metadata": {},
   "source": [
    "## References\n",
    "\n",
    "1. https://docs.deepmodeling.com/projects/deepmd/en/master/index.html\n",
    "2. https://github.com/deepmodeling/deepmd-kit "
   ]
  },
  {
   "cell_type": "markdown",
   "id": "98a7aff7-daaf-494f-beb9-aa99688ed0a2",
   "metadata": {},
   "source": [
    "<a href=\"https://bohrium.dp.tech/notebook/a1d17996148f44d09a6447dd4dd19aa6\" target=\"_blank\"><img src=\"https://cdn.dp.tech/bohrium/web/static/images/open-in-bohrium.svg\" alt=\"Open In Bohrium\"/></a>"
   ]
  }
 ],
 "metadata": {
  "kernelspec": {
   "display_name": "Python 3 (ipykernel)",
   "language": "python",
   "name": "python3"
  },
  "language_info": {
   "codemirror_mode": {
    "name": "ipython",
    "version": 3
   },
   "file_extension": ".py",
   "mimetype": "text/x-python",
   "name": "python",
   "nbconvert_exporter": "python",
   "pygments_lexer": "ipython3",
   "version": "3.10.6"
  }
 },
 "nbformat": 4,
 "nbformat_minor": 5
}
