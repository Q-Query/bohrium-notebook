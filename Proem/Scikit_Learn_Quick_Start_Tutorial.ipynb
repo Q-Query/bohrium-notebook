{
 "cells": [
  {
   "attachments": {},
   "cell_type": "markdown",
   "metadata": {},
   "source": [
    "# 快速开始 Scikit-Learn｜了解 Scikit-Learn 的基础功能并建立一个机器学习模型\n",
    "\n",
    "> 作者: Haohui Que [quehaohui@dp.tech](mailto:quehaohui@dp.tech)\n",
    ">\n",
    "> 创建日期: 2023-03-14 19:13\n",
    ">\n",
    "> 最后一次修改: Haohui Que [quehaohui@dp.tech](mailto:quehaohui@dp.tech), \n",
    ">\n",
    "> 最后一次修改时间: 2023-03-16 15:06\n",
    ">\n",
    "> 描述: 本教程可在 Bohrium Notebook 上直接运行。你可以点击界面上方蓝色按钮 `开始连接`，选择 `bohrium-notebook:2023-02-28` 镜像及任何一款节点配置，稍等片刻即可运行。\n",
    "> 如您遇到任何问题，请联系 [bohrium@dp.tech](mailto:bohrium@dp.tech) 。\n",
    ">\n",
    "> 共享协议: 本作品采用[知识共享署名-非商业性使用-相同方式共享 4.0 国际许可协议](https://creativecommons.org/licenses/by-nc-sa/4.0/)进行许可。"
   ]
  },
  {
   "attachments": {},
   "cell_type": "markdown",
   "metadata": {},
   "source": [
    "## 目标\n",
    "\n",
    "> **了解 Scikit-Learn 在建立机器学习模型中的基础功能，并能够使用 Scikit-Learn 的范式快速建立机器学习模型。。**\n",
    "\n",
    "在学习本教程后，你将能够：\n",
    "\n",
    "- 使用 Scikit-Learn 快速创建某一类型的数据或加载现有数据。\n",
    "- 对数据进行预处理，例如归一化于标准化，以及快速划分数据集。\n",
    "- 进行特征选择的一些方法，例如过滤法、包装法及嵌入法。\n",
    "- 使用 Scikit-Learn 的范式快速建立机器学习模型。\n",
    "- 使用 sklearn.metric 来评价模型质量。\n",
    "- 使用交叉验证以及自动查找最佳的评估器参数。\n",
    "\n",
    "**阅读该教程【最多】约需 30 分钟，让我们开始吧！**"
   ]
  },
  {
   "attachments": {},
   "cell_type": "markdown",
   "metadata": {},
   "source": [
    "## 目录\n",
    "\n",
    "![scikit-learn](https://scikit-learn.org/stable/_images/scikit-learn-logo-notext.png)\n",
    "\n",
    "* [背景](#background)\n",
    "* [实践](#practice)\n",
    "  * [1 认识 Scikit-Learn](#whatisscikitlearn)\n",
    "    * [1.1 什么是 Scikit-Learn](#1-1)\n",
    "    * [1.2 安装 Scikit-Learn【Bohrium 中可直接运行，无需安装】](#1-2)\n",
    "    * [1.3 验证安装并查看 Scikit-Learn 版本](#1-3)\n",
    "  * [2 Scikit-Learn 方法](#sklearnfeatures)\n",
    "    * [2.1 提供数据集](#2-1)\n",
    "      * [2.1.1 自建数据集](#2-1-1)\n",
    "      * [2.1.2 使用 Scikit-Learn 提供的数据集](#2-1-2)\n",
    "    * [2.2 数据预处理](#2-2)\n",
    "      * [2.2.1 归一化](#2-2-1)\n",
    "      * [2.2.2 标准化](#2-2-2)\n",
    "    * [2.3 快速划分数据集](#2-3)\n",
    "    * [2.4 特征选择](#2-4)\n",
    "      * [2.4.1 过滤法](#2-4-1)\n",
    "      * [2.4.2 包装法](#2-4-2)\n",
    "      * [2.4.3 嵌入法](#2-4-3)\n",
    "    * [2.5 建立模型](#2-5)\n",
    "    * [2.6 评价指标](#2-6)\n",
    "      * [2.6.1 平均绝对误差 MAE](#2-6-1)\n",
    "      * [2.6.2 均方误差 MSE](#2-6-2)\n",
    "      * [2.6.3 决定系数 $R^2$](#2-6-3)\n",
    "    * [2.7 交叉验证](#2-7)\n",
    "    * [2.8 参数优化](#2-8)\n",
    "* [总结](#summary)\n",
    "* [进一步阅读](#furtherreading)\n",
    "* [参考](#references)"
   ]
  },
  {
   "attachments": {},
   "cell_type": "markdown",
   "metadata": {},
   "source": [
    "## 背景 <a id ='background'></a>\n",
    "\n",
    "本指南的目的是说明 scikit-learn 提供的一些主要功能。Scikit-learn是一个开源机器学习库，支持监督和无监督学习。它还为模型拟合、数据预处理、模型选择、模型评估和许多其他实用程序提供了各种工具。\n",
    "\n",
    "**你需要提前了解以下知识：**\n",
    "- 非常基本的机器学习实践的工作知识（了解特征、标签、训练集、测试集等）\n"
   ]
  },
  {
   "attachments": {},
   "cell_type": "markdown",
   "metadata": {},
   "source": [
    "## 实践 <a id='practice'></a>"
   ]
  },
  {
   "attachments": {},
   "cell_type": "markdown",
   "metadata": {},
   "source": [
    "### 1 认识 Scikit-Learn <a id='whatisscikitlearn'></a>\n",
    "\n",
    "在这一部分，你会了解什么是 Scikit-Learn，在 Bohrium Notebook 中 使用 Scikit-Learn，验证安装并查看版本。"
   ]
  },
  {
   "attachments": {},
   "cell_type": "markdown",
   "metadata": {},
   "source": [
    "#### 1.1 什么是 Scikit-Learn <a id='1-1'></a>\n",
    "\n",
    "**Scikit-learn**（曾叫做**scikits.learn**还叫做**sklearn**）是基于 [SciPy](https://zh.wikipedia.org/wiki/SciPy) 构建的用于[Python](https://zh.wikipedia.org/wiki/Python)[编程语言](https://zh.wikipedia.org/wiki/编程语言)的[自由软件](https://zh.wikipedia.org/wiki/自由软件)[机器学习](https://zh.wikipedia.org/wiki/机器学习)[库](https://zh.wikipedia.org/wiki/函式庫)。并在 3-Clause BSD许可证下分发。它的特征是具有各种[分类](https://zh.wikipedia.org/wiki/统计分类)、[回归](https://zh.wikipedia.org/wiki/回归分析)和[聚类](https://zh.wikipedia.org/wiki/聚类分析)算法，包括[支持向量机](https://zh.wikipedia.org/wiki/支持向量机)、[随机森林](https://zh.wikipedia.org/wiki/随机森林)、[梯度提升](https://zh.wikipedia.org/wiki/梯度提升技术)、[k-平均聚类](https://zh.wikipedia.org/wiki/K-平均算法)和[DBSCAN](https://zh.wikipedia.org/wiki/DBSCAN)，它被设计协同于Python数值和科学库[NumPy](https://zh.wikipedia.org/wiki/NumPy)和[SciPy](https://zh.wikipedia.org/wiki/SciPy)。[1,2]\n",
    "\n",
    "它具有如下显著特点[3]：\n",
    "\n",
    "* 用于数据分析与预测的简单高效的工具 \n",
    "* 每个人都可以访问，并且可以在各种环境中重复使用 \n",
    "* 基于 NumPy、SciPy 和 matplotlib 构建 \n",
    "* 开源，商业上可用 - BSD 许可证"
   ]
  },
  {
   "attachments": {},
   "cell_type": "markdown",
   "metadata": {},
   "source": [
    "#### 1.2 安装 Scikit-Learn <a id='1-2'></a>\n",
    "\n",
    "本教程是一个 [Bohrium](https://www.dp.tech/product/bohrium) Notebook。**Python 程序可直接在浏览器中运行，Bohrium 已安装 Scikit-Learn**。这是学习和使用 Scikit-Learn 的好方法。\n",
    "\n",
    "要按照本教程进行操作，请点击本页顶部的按钮，在 Bohrium Notebook 中运行本笔记本。 \n",
    "\n",
    "1. 你可以点击界面上方蓝色按钮 `开始连接`，选择 `bohrium-notebook:2023-02-28` 镜像及任何一款计算机型，稍等片刻即可运行。\n",
    "\n",
    "2. 若要运行笔记本中的所有代码，请点击左上角“ **运行全部单元格** ”。若要一次运行一个代码单元，请选择需要运行的单元格，然后点击左上角 **“运行选中的单元格”** 图标。\n",
    "\n",
    "如果你的 Bohrium 镜像尚未安装 Scikit-Learn， 最方便的方法是通过 pip 安装:"
   ]
  },
  {
   "cell_type": "code",
   "execution_count": 1,
   "metadata": {},
   "outputs": [
    {
     "name": "stdout",
     "output_type": "stream",
     "text": [
      "Requirement already satisfied: scikit-learn==1.2.0 in /opt/anaconda3/envs/ML_env/lib/python3.9/site-packages (1.2.0)\n",
      "Requirement already satisfied: numpy>=1.17.3 in /opt/anaconda3/envs/ML_env/lib/python3.9/site-packages (from scikit-learn==1.2.0) (1.23.4)\n",
      "Requirement already satisfied: joblib>=1.1.1 in /opt/anaconda3/envs/ML_env/lib/python3.9/site-packages (from scikit-learn==1.2.0) (1.2.0)\n",
      "Requirement already satisfied: threadpoolctl>=2.0.0 in /opt/anaconda3/envs/ML_env/lib/python3.9/site-packages (from scikit-learn==1.2.0) (3.1.0)\n",
      "Requirement already satisfied: scipy>=1.3.2 in /opt/anaconda3/envs/ML_env/lib/python3.9/site-packages (from scikit-learn==1.2.0) (1.9.3)\n"
     ]
    }
   ],
   "source": [
    "! pip install scikit-learn==1.2.0"
   ]
  },
  {
   "attachments": {},
   "cell_type": "markdown",
   "metadata": {},
   "source": [
    "如果你需要使用更特定于你的平台或包管理器的安装方法，你可以在[这里](https://scikit-learn.org/stable/install.html)查看更完整的安装说明。\n"
   ]
  },
  {
   "attachments": {},
   "cell_type": "markdown",
   "metadata": {},
   "source": [
    "#### 1.3 验证 Scikit-Learn 安装并查看版本 <a id='1-3'></a>\n",
    "\n",
    "安装 Scikit-Learn 后，确认库已成功安装并且你可以开始使用它。 \n",
    "\n",
    "不要跳过此步骤。 \n",
    "\n",
    "如果 Scikit-Learn 未正确安装或在此步骤中引发错误，则将无法运行之后的示例。"
   ]
  },
  {
   "cell_type": "code",
   "execution_count": 2,
   "metadata": {},
   "outputs": [
    {
     "name": "stdout",
     "output_type": "stream",
     "text": [
      "1.2.0\n"
     ]
    }
   ],
   "source": [
    "import sklearn\n",
    "print(sklearn.__version__)  # sklearn.__version__ 返回安装的 Scikit-Learn 的版本号"
   ]
  },
  {
   "attachments": {},
   "cell_type": "markdown",
   "metadata": {},
   "source": [
    "### 2 Scikit-Learn 方法 <a id='sklearnfeatures'></a>\n",
    "\n",
    "在这一节中，你会了解到一些 Scikit-Learn 的基础方法，包括：\n",
    "* 提供数据集\n",
    "* 数据预处理\n",
    "* 快速划分数据集\n",
    "* 特征选择\n",
    "* 建立机器学习模型\n",
    "* 评价指标\n",
    "* 模型选择之交叉验证\n",
    "* 参数优化"
   ]
  },
  {
   "attachments": {},
   "cell_type": "markdown",
   "metadata": {
    "collapsed": false
   },
   "source": [
    "#### 1 提供数据集 <a id='2-1'></a>"
   ]
  },
  {
   "attachments": {},
   "cell_type": "markdown",
   "metadata": {
    "collapsed": false
   },
   "source": [
    "##### 1.1 自建数据集 <a id='2-1-1'></a>\n",
    "\n",
    "Scikit-Learn 提供了各类分布类型的数据集的建立方法，例如团簇形、环形和月亮形等。\n",
    "\n",
    "点击[这里](https://scikit-learn.org/stable/modules/classes.html#module-sklearn.datasets)查看参数的完整介绍"
   ]
  },
  {
   "cell_type": "code",
   "execution_count": 3,
   "metadata": {
    "collapsed": false
   },
   "outputs": [
    {
     "data": {
      "image/png": "[encoded data removed]",
      "text/plain": [
       "<Figure size 1200x300 with 4 Axes>"
      ]
     },
     "metadata": {},
     "output_type": "display_data"
    }
   ],
   "source": [
    "# 导入基础工具包\n",
    "import pandas as pd\n",
    "import numpy as np\n",
    "import matplotlib.pyplot as plt\n",
    "\n",
    "# 消除警告\n",
    "import warnings\n",
    "warnings.filterwarnings('ignore')\n",
    "\n",
    "# sklearn 数据库接口\n",
    "from sklearn.datasets import make_blobs, make_circles, make_classification, make_moons\n",
    "\n",
    "n_samples = 100  # 要创建的样本点\n",
    "data_name = ['blobs', 'circles', 'moons', 'classification']  # 要创建的数据点分布类型\n",
    "\n",
    "datasets = [\n",
    "    make_blobs(n_samples=n_samples, centers=3, random_state=0),\n",
    "    make_circles(n_samples=n_samples, noise=0.2, random_state=0),\n",
    "    make_moons(n_samples=n_samples, noise=0.2, random_state=0),\n",
    "    make_classification(n_samples=n_samples, n_features=20, n_informative=2, n_redundant=0, random_state=0),\n",
    "    # `n_features`：生成的特征总数。这些包括`n_informative`个信息特征，`n_redundant`个冗余特征，`n_repeated`个重复特征和 `n_features-n_informative-n_redundant-n_repeated`个随机无用特征。\n",
    "    # `n_informative`：信息特征的数量。`n_redundant`：冗余特征的数量。这些特征是信息特征的随机线性组合。\n",
    "]\n",
    "\n",
    "# 查看我们构建的数据集\n",
    "fig, ax = plt.subplots(ncols=4, nrows=1, figsize=(12,3))  # 实例化一个 4 列 1 行的图片，尺寸为 长*宽=12*3\n",
    "for i, (X,Y) in enumerate(datasets):\n",
    "    ax[i].scatter(X[:,0],X[:,1], c=Y, s=10, cmap=\"rainbow\")\n",
    "    ax[i].set_title(data_name[i])\n",
    "    ax[i].set_xticks (())\n",
    "    ax[i].set_yticks (())"
   ]
  },
  {
   "attachments": {},
   "cell_type": "markdown",
   "metadata": {
    "collapsed": false
   },
   "source": [
    "##### 1.2 使用 sklearn 提供的数据集（以鸢尾花数据集为例） <a id='2-1-2'></a>"
   ]
  },
  {
   "attachments": {},
   "cell_type": "markdown",
   "metadata": {
    "collapsed": false
   },
   "source": [
    "sklearn.datasets 模块提供了一系列加载和获取著名数据集如鸢尾花、波士顿房价、Olivetti人脸、MNIST数据集等的工具。\n",
    "\n",
    "鸢尾花识别是一个经典的机器学习分类问题，它的数据样本中包括了4个特征变量，1个类别变量，样本总数为150。\n",
    "\n",
    "它的目标是为了根据花萼长度（sepal length）、花萼宽度（sepal width）、花瓣长度（petal length）、花瓣宽度（petal width）这四个特征来识别出鸢尾花属于山鸢尾（iris-setosa）、变色鸢尾（iris-versicolor）和维吉尼亚鸢尾（iris-virginica）中的哪一种。"
   ]
  },
  {
   "cell_type": "code",
   "execution_count": 4,
   "metadata": {
    "collapsed": false
   },
   "outputs": [
    {
     "data": {
      "text/html": [
       "<div>\n",
       "<style scoped>\n",
       "    .dataframe tbody tr th:only-of-type {\n",
       "        vertical-align: middle;\n",
       "    }\n",
       "\n",
       "    .dataframe tbody tr th {\n",
       "        vertical-align: top;\n",
       "    }\n",
       "\n",
       "    .dataframe thead th {\n",
       "        text-align: right;\n",
       "    }\n",
       "</style>\n",
       "<table border=\"1\" class=\"dataframe\">\n",
       "  <thead>\n",
       "    <tr style=\"text-align: right;\">\n",
       "      <th></th>\n",
       "      <th>sepal length (cm)</th>\n",
       "      <th>sepal width (cm)</th>\n",
       "      <th>petal length (cm)</th>\n",
       "      <th>petal width (cm)</th>\n",
       "    </tr>\n",
       "  </thead>\n",
       "  <tbody>\n",
       "    <tr>\n",
       "      <th>0</th>\n",
       "      <td>5.1</td>\n",
       "      <td>3.5</td>\n",
       "      <td>1.4</td>\n",
       "      <td>0.2</td>\n",
       "    </tr>\n",
       "    <tr>\n",
       "      <th>1</th>\n",
       "      <td>4.9</td>\n",
       "      <td>3.0</td>\n",
       "      <td>1.4</td>\n",
       "      <td>0.2</td>\n",
       "    </tr>\n",
       "    <tr>\n",
       "      <th>2</th>\n",
       "      <td>4.7</td>\n",
       "      <td>3.2</td>\n",
       "      <td>1.3</td>\n",
       "      <td>0.2</td>\n",
       "    </tr>\n",
       "    <tr>\n",
       "      <th>3</th>\n",
       "      <td>4.6</td>\n",
       "      <td>3.1</td>\n",
       "      <td>1.5</td>\n",
       "      <td>0.2</td>\n",
       "    </tr>\n",
       "    <tr>\n",
       "      <th>4</th>\n",
       "      <td>5.0</td>\n",
       "      <td>3.6</td>\n",
       "      <td>1.4</td>\n",
       "      <td>0.2</td>\n",
       "    </tr>\n",
       "    <tr>\n",
       "      <th>...</th>\n",
       "      <td>...</td>\n",
       "      <td>...</td>\n",
       "      <td>...</td>\n",
       "      <td>...</td>\n",
       "    </tr>\n",
       "    <tr>\n",
       "      <th>145</th>\n",
       "      <td>6.7</td>\n",
       "      <td>3.0</td>\n",
       "      <td>5.2</td>\n",
       "      <td>2.3</td>\n",
       "    </tr>\n",
       "    <tr>\n",
       "      <th>146</th>\n",
       "      <td>6.3</td>\n",
       "      <td>2.5</td>\n",
       "      <td>5.0</td>\n",
       "      <td>1.9</td>\n",
       "    </tr>\n",
       "    <tr>\n",
       "      <th>147</th>\n",
       "      <td>6.5</td>\n",
       "      <td>3.0</td>\n",
       "      <td>5.2</td>\n",
       "      <td>2.0</td>\n",
       "    </tr>\n",
       "    <tr>\n",
       "      <th>148</th>\n",
       "      <td>6.2</td>\n",
       "      <td>3.4</td>\n",
       "      <td>5.4</td>\n",
       "      <td>2.3</td>\n",
       "    </tr>\n",
       "    <tr>\n",
       "      <th>149</th>\n",
       "      <td>5.9</td>\n",
       "      <td>3.0</td>\n",
       "      <td>5.1</td>\n",
       "      <td>1.8</td>\n",
       "    </tr>\n",
       "  </tbody>\n",
       "</table>\n",
       "<p>150 rows × 4 columns</p>\n",
       "</div>"
      ],
      "text/plain": [
       "     sepal length (cm)  sepal width (cm)  petal length (cm)  petal width (cm)\n",
       "0                  5.1               3.5                1.4               0.2\n",
       "1                  4.9               3.0                1.4               0.2\n",
       "2                  4.7               3.2                1.3               0.2\n",
       "3                  4.6               3.1                1.5               0.2\n",
       "4                  5.0               3.6                1.4               0.2\n",
       "..                 ...               ...                ...               ...\n",
       "145                6.7               3.0                5.2               2.3\n",
       "146                6.3               2.5                5.0               1.9\n",
       "147                6.5               3.0                5.2               2.0\n",
       "148                6.2               3.4                5.4               2.3\n",
       "149                5.9               3.0                5.1               1.8\n",
       "\n",
       "[150 rows x 4 columns]"
      ]
     },
     "execution_count": 4,
     "metadata": {},
     "output_type": "execute_result"
    }
   ],
   "source": [
    "from sklearn.datasets import load_iris\n",
    "\n",
    "iris = load_iris()\n",
    "X_iris = pd.DataFrame(iris.data, columns=iris.feature_names)  # iris.data 会返回 iris 数据的特征\n",
    "X_iris"
   ]
  },
  {
   "cell_type": "code",
   "execution_count": 5,
   "metadata": {
    "collapsed": false
   },
   "outputs": [
    {
     "data": {
      "text/html": [
       "<div>\n",
       "<style scoped>\n",
       "    .dataframe tbody tr th:only-of-type {\n",
       "        vertical-align: middle;\n",
       "    }\n",
       "\n",
       "    .dataframe tbody tr th {\n",
       "        vertical-align: top;\n",
       "    }\n",
       "\n",
       "    .dataframe thead th {\n",
       "        text-align: right;\n",
       "    }\n",
       "</style>\n",
       "<table border=\"1\" class=\"dataframe\">\n",
       "  <thead>\n",
       "    <tr style=\"text-align: right;\">\n",
       "      <th></th>\n",
       "      <th>Kind</th>\n",
       "    </tr>\n",
       "  </thead>\n",
       "  <tbody>\n",
       "    <tr>\n",
       "      <th>0</th>\n",
       "      <td>0</td>\n",
       "    </tr>\n",
       "    <tr>\n",
       "      <th>1</th>\n",
       "      <td>0</td>\n",
       "    </tr>\n",
       "    <tr>\n",
       "      <th>2</th>\n",
       "      <td>0</td>\n",
       "    </tr>\n",
       "    <tr>\n",
       "      <th>3</th>\n",
       "      <td>0</td>\n",
       "    </tr>\n",
       "    <tr>\n",
       "      <th>4</th>\n",
       "      <td>0</td>\n",
       "    </tr>\n",
       "    <tr>\n",
       "      <th>...</th>\n",
       "      <td>...</td>\n",
       "    </tr>\n",
       "    <tr>\n",
       "      <th>145</th>\n",
       "      <td>2</td>\n",
       "    </tr>\n",
       "    <tr>\n",
       "      <th>146</th>\n",
       "      <td>2</td>\n",
       "    </tr>\n",
       "    <tr>\n",
       "      <th>147</th>\n",
       "      <td>2</td>\n",
       "    </tr>\n",
       "    <tr>\n",
       "      <th>148</th>\n",
       "      <td>2</td>\n",
       "    </tr>\n",
       "    <tr>\n",
       "      <th>149</th>\n",
       "      <td>2</td>\n",
       "    </tr>\n",
       "  </tbody>\n",
       "</table>\n",
       "<p>150 rows × 1 columns</p>\n",
       "</div>"
      ],
      "text/plain": [
       "     Kind\n",
       "0       0\n",
       "1       0\n",
       "2       0\n",
       "3       0\n",
       "4       0\n",
       "..    ...\n",
       "145     2\n",
       "146     2\n",
       "147     2\n",
       "148     2\n",
       "149     2\n",
       "\n",
       "[150 rows x 1 columns]"
      ]
     },
     "execution_count": 5,
     "metadata": {},
     "output_type": "execute_result"
    }
   ],
   "source": [
    "Y_iris = pd.DataFrame(iris.target, columns=['Kind'])  # iris.target 会返回 iris 数据的标签\n",
    "Y_iris"
   ]
  },
  {
   "cell_type": "code",
   "execution_count": 6,
   "metadata": {},
   "outputs": [],
   "source": [
    "# ## 获取更多信息，可直接查看 iris\n",
    "# iris"
   ]
  },
  {
   "cell_type": "code",
   "execution_count": 7,
   "metadata": {
    "collapsed": false
   },
   "outputs": [
    {
     "data": {
      "text/html": [
       "<div>\n",
       "<style scoped>\n",
       "    .dataframe tbody tr th:only-of-type {\n",
       "        vertical-align: middle;\n",
       "    }\n",
       "\n",
       "    .dataframe tbody tr th {\n",
       "        vertical-align: top;\n",
       "    }\n",
       "\n",
       "    .dataframe thead th {\n",
       "        text-align: right;\n",
       "    }\n",
       "</style>\n",
       "<table border=\"1\" class=\"dataframe\">\n",
       "  <thead>\n",
       "    <tr style=\"text-align: right;\">\n",
       "      <th></th>\n",
       "      <th>sepal length (cm)</th>\n",
       "      <th>sepal width (cm)</th>\n",
       "      <th>petal length (cm)</th>\n",
       "      <th>petal width (cm)</th>\n",
       "      <th>Kind</th>\n",
       "    </tr>\n",
       "  </thead>\n",
       "  <tbody>\n",
       "    <tr>\n",
       "      <th>0</th>\n",
       "      <td>5.1</td>\n",
       "      <td>3.5</td>\n",
       "      <td>1.4</td>\n",
       "      <td>0.2</td>\n",
       "      <td>0</td>\n",
       "    </tr>\n",
       "    <tr>\n",
       "      <th>1</th>\n",
       "      <td>4.9</td>\n",
       "      <td>3.0</td>\n",
       "      <td>1.4</td>\n",
       "      <td>0.2</td>\n",
       "      <td>0</td>\n",
       "    </tr>\n",
       "    <tr>\n",
       "      <th>2</th>\n",
       "      <td>4.7</td>\n",
       "      <td>3.2</td>\n",
       "      <td>1.3</td>\n",
       "      <td>0.2</td>\n",
       "      <td>0</td>\n",
       "    </tr>\n",
       "    <tr>\n",
       "      <th>3</th>\n",
       "      <td>4.6</td>\n",
       "      <td>3.1</td>\n",
       "      <td>1.5</td>\n",
       "      <td>0.2</td>\n",
       "      <td>0</td>\n",
       "    </tr>\n",
       "    <tr>\n",
       "      <th>4</th>\n",
       "      <td>5.0</td>\n",
       "      <td>3.6</td>\n",
       "      <td>1.4</td>\n",
       "      <td>0.2</td>\n",
       "      <td>0</td>\n",
       "    </tr>\n",
       "    <tr>\n",
       "      <th>...</th>\n",
       "      <td>...</td>\n",
       "      <td>...</td>\n",
       "      <td>...</td>\n",
       "      <td>...</td>\n",
       "      <td>...</td>\n",
       "    </tr>\n",
       "    <tr>\n",
       "      <th>145</th>\n",
       "      <td>6.7</td>\n",
       "      <td>3.0</td>\n",
       "      <td>5.2</td>\n",
       "      <td>2.3</td>\n",
       "      <td>2</td>\n",
       "    </tr>\n",
       "    <tr>\n",
       "      <th>146</th>\n",
       "      <td>6.3</td>\n",
       "      <td>2.5</td>\n",
       "      <td>5.0</td>\n",
       "      <td>1.9</td>\n",
       "      <td>2</td>\n",
       "    </tr>\n",
       "    <tr>\n",
       "      <th>147</th>\n",
       "      <td>6.5</td>\n",
       "      <td>3.0</td>\n",
       "      <td>5.2</td>\n",
       "      <td>2.0</td>\n",
       "      <td>2</td>\n",
       "    </tr>\n",
       "    <tr>\n",
       "      <th>148</th>\n",
       "      <td>6.2</td>\n",
       "      <td>3.4</td>\n",
       "      <td>5.4</td>\n",
       "      <td>2.3</td>\n",
       "      <td>2</td>\n",
       "    </tr>\n",
       "    <tr>\n",
       "      <th>149</th>\n",
       "      <td>5.9</td>\n",
       "      <td>3.0</td>\n",
       "      <td>5.1</td>\n",
       "      <td>1.8</td>\n",
       "      <td>2</td>\n",
       "    </tr>\n",
       "  </tbody>\n",
       "</table>\n",
       "<p>150 rows × 5 columns</p>\n",
       "</div>"
      ],
      "text/plain": [
       "     sepal length (cm)  sepal width (cm)  petal length (cm)  petal width (cm)  \\\n",
       "0                  5.1               3.5                1.4               0.2   \n",
       "1                  4.9               3.0                1.4               0.2   \n",
       "2                  4.7               3.2                1.3               0.2   \n",
       "3                  4.6               3.1                1.5               0.2   \n",
       "4                  5.0               3.6                1.4               0.2   \n",
       "..                 ...               ...                ...               ...   \n",
       "145                6.7               3.0                5.2               2.3   \n",
       "146                6.3               2.5                5.0               1.9   \n",
       "147                6.5               3.0                5.2               2.0   \n",
       "148                6.2               3.4                5.4               2.3   \n",
       "149                5.9               3.0                5.1               1.8   \n",
       "\n",
       "     Kind  \n",
       "0       0  \n",
       "1       0  \n",
       "2       0  \n",
       "3       0  \n",
       "4       0  \n",
       "..    ...  \n",
       "145     2  \n",
       "146     2  \n",
       "147     2  \n",
       "148     2  \n",
       "149     2  \n",
       "\n",
       "[150 rows x 5 columns]"
      ]
     },
     "execution_count": 7,
     "metadata": {},
     "output_type": "execute_result"
    }
   ],
   "source": [
    "# 将特征与标签在同一个 Pandas DataFrame 中表示。\n",
    "df_iris = pd.concat([X_iris, Y_iris], axis=1)  # 合并特征表与标签表\n",
    "df_iris"
   ]
  },
  {
   "attachments": {},
   "cell_type": "markdown",
   "metadata": {
    "collapsed": false
   },
   "source": [
    "#### 2 数据预处理（以标准化和归一化举例） <a id='2-2'></a>\n",
    "\n",
    "在机器学习算法实践中，我们往往有着将不同规格的数据转换到同一规格，或不同分布的数据转换到某个特定分布的需求，这种需求统称为将数据“无量纲化”。\n",
    "\n",
    "* 譬如梯度和矩阵为核心的算法中，譬如逻辑回归，支持向量机，神经网络，无量纲化可以加快求解速度；\n",
    "* 而在距离类模型，譬如K近邻，K-Means聚类中，无量纲化可以帮我们提升模型精度，避免某一个取值范围特别大的特征对距离计算造成影响。\n",
    "* （一个特例是决策树和树的集成算法们，对决策树我们不需要无量纲化，决策树可以把任意数据都处理得很好。）\n",
    "\n",
    "数据的无量纲化可以是线性的，也可以是非线性的。\n",
    "\n",
    "线性的无量纲化包括**中心化 (Zero-centered或者Mean-subtraction) 处理**和**缩放处理 (Scale)**。\n",
    "\n",
    "中心化的本质是让所有记录减去一个固定值，即让数据样本平移到某个位置。\n",
    "\n",
    "缩放的本质是通过除以一个固定值，将数据固定在某个范围之中，取对数也算是一种缩放处理。"
   ]
  },
  {
   "attachments": {},
   "cell_type": "markdown",
   "metadata": {
    "collapsed": false
   },
   "source": [
    "##### 2.1 归一化 <a id='2-2-1'></a>"
   ]
  },
  {
   "attachments": {},
   "cell_type": "markdown",
   "metadata": {
    "collapsed": false
   },
   "source": [
    "当数据(x)按照最小值中心化后，再按极差（最大值 - 最小值）缩放，数据移动了最小值个单位，并且会被收敛到[0,1]之间。\n",
    "\n",
    "这个过程，就叫做数据归一化(Normalization，又称 Min-Max Scaling)。\n",
    "\n",
    "注意，Normalization 是归一化，不是正则化，真正的正则化是 regularization，不是数据预处理的一种手段。\n",
    "\n",
    "归一化之后的数据服从正态分布，公式如下：\n",
    "\n",
    "$$\n",
    "x^* = \\frac{x-min(x)}{max(x)-min(x)}\n",
    "$$"
   ]
  },
  {
   "cell_type": "markdown",
   "metadata": {
    "collapsed": false
   },
   "source": [
    "手动来实现一个归一化"
   ]
  },
  {
   "cell_type": "code",
   "execution_count": 8,
   "metadata": {
    "collapsed": false
   },
   "outputs": [
    {
     "data": {
      "text/plain": [
       "array([[0.  , 0.  ],\n",
       "       [0.25, 0.25],\n",
       "       [0.5 , 0.5 ],\n",
       "       [1.  , 1.  ]])"
      ]
     },
     "execution_count": 8,
     "metadata": {},
     "output_type": "execute_result"
    }
   ],
   "source": [
    "import numpy as np\n",
    "\n",
    "X = np.array([[-1, 2], [-0.5, 6], [0, 10], [1, 18]])\n",
    "\n",
    "# 归一化\n",
    "X_nor = (X - X.min(axis=0)) / (X.max(axis=0) - X.min(axis=0))\n",
    "X_nor"
   ]
  },
  {
   "cell_type": "code",
   "execution_count": 9,
   "metadata": {
    "collapsed": false
   },
   "outputs": [
    {
     "data": {
      "text/plain": [
       "array([[-1. ,  2. ],\n",
       "       [-0.5,  6. ],\n",
       "       [ 0. , 10. ],\n",
       "       [ 1. , 18. ]])"
      ]
     },
     "execution_count": 9,
     "metadata": {},
     "output_type": "execute_result"
    }
   ],
   "source": [
    "#逆转归一化\n",
    "X_returned = X_nor * (X.max(axis=0) - X.min(axis=0)) + X.min(axis=0)\n",
    "X_returned"
   ]
  },
  {
   "cell_type": "markdown",
   "metadata": {
    "collapsed": false
   },
   "source": [
    "使用 sklearn 来实现归一化"
   ]
  },
  {
   "cell_type": "code",
   "execution_count": 10,
   "metadata": {
    "collapsed": false
   },
   "outputs": [
    {
     "data": {
      "text/html": [
       "<div>\n",
       "<style scoped>\n",
       "    .dataframe tbody tr th:only-of-type {\n",
       "        vertical-align: middle;\n",
       "    }\n",
       "\n",
       "    .dataframe tbody tr th {\n",
       "        vertical-align: top;\n",
       "    }\n",
       "\n",
       "    .dataframe thead th {\n",
       "        text-align: right;\n",
       "    }\n",
       "</style>\n",
       "<table border=\"1\" class=\"dataframe\">\n",
       "  <thead>\n",
       "    <tr style=\"text-align: right;\">\n",
       "      <th></th>\n",
       "      <th>0</th>\n",
       "      <th>1</th>\n",
       "    </tr>\n",
       "  </thead>\n",
       "  <tbody>\n",
       "    <tr>\n",
       "      <th>0</th>\n",
       "      <td>-1.0</td>\n",
       "      <td>2</td>\n",
       "    </tr>\n",
       "    <tr>\n",
       "      <th>1</th>\n",
       "      <td>-0.5</td>\n",
       "      <td>6</td>\n",
       "    </tr>\n",
       "    <tr>\n",
       "      <th>2</th>\n",
       "      <td>0.0</td>\n",
       "      <td>10</td>\n",
       "    </tr>\n",
       "    <tr>\n",
       "      <th>3</th>\n",
       "      <td>1.0</td>\n",
       "      <td>18</td>\n",
       "    </tr>\n",
       "  </tbody>\n",
       "</table>\n",
       "</div>"
      ],
      "text/plain": [
       "     0   1\n",
       "0 -1.0   2\n",
       "1 -0.5   6\n",
       "2  0.0  10\n",
       "3  1.0  18"
      ]
     },
     "execution_count": 10,
     "metadata": {},
     "output_type": "execute_result"
    }
   ],
   "source": [
    "from sklearn.preprocessing import MinMaxScaler\n",
    "\n",
    "data = [[-1, 2], [-0.5, 6], [0, 10], [1, 18]]  # 手动生成一个数据\n",
    "\n",
    "# 能够判断data的结构吗？\n",
    "# 如果换成表是什么样子？\n",
    "import pandas as pd\n",
    "pd.DataFrame(data)"
   ]
  },
  {
   "cell_type": "code",
   "execution_count": 11,
   "metadata": {
    "collapsed": false
   },
   "outputs": [
    {
     "data": {
      "text/plain": [
       "array([[0.  , 0.  ],\n",
       "       [0.25, 0.25],\n",
       "       [0.5 , 0.5 ],\n",
       "       [1.  , 1.  ]])"
      ]
     },
     "execution_count": 11,
     "metadata": {},
     "output_type": "execute_result"
    }
   ],
   "source": [
    "#实现归一化\n",
    "scaler = MinMaxScaler(feature_range=(0,1))         # 实例化, feature_range 确定 MinMaxScaler 缩放的范围\n",
    "scaler = scaler.fit(data)                           # fit，在这里本质是生成 min(x) 和 max(x)，当X中的特征数量非常多的时候，fit 会报错并表示，此时使用 partial_fit 作为训练接口 scaler = scaler.partial_fit(data)\n",
    "result = scaler.transform(data)                     # 通过接口导出结果\n",
    "result"
   ]
  },
  {
   "cell_type": "code",
   "execution_count": 12,
   "metadata": {
    "collapsed": false
   },
   "outputs": [
    {
     "data": {
      "text/plain": [
       "array([[0.  , 0.  ],\n",
       "       [0.25, 0.25],\n",
       "       [0.5 , 0.5 ],\n",
       "       [1.  , 1.  ]])"
      ]
     },
     "execution_count": 12,
     "metadata": {},
     "output_type": "execute_result"
    }
   ],
   "source": [
    "result_ = scaler.fit_transform(data)                # 训练和导出结果一步达成\n",
    "result_"
   ]
  },
  {
   "cell_type": "code",
   "execution_count": 13,
   "metadata": {
    "collapsed": false
   },
   "outputs": [
    {
     "data": {
      "text/plain": [
       "array([[-1. ,  2. ],\n",
       "       [-0.5,  6. ],\n",
       "       [ 0. , 10. ],\n",
       "       [ 1. , 18. ]])"
      ]
     },
     "execution_count": 13,
     "metadata": {},
     "output_type": "execute_result"
    }
   ],
   "source": [
    "scaler.inverse_transform(result)                    # 将归一化后的结果逆转"
   ]
  },
  {
   "attachments": {},
   "cell_type": "markdown",
   "metadata": {
    "collapsed": false
   },
   "source": [
    "##### 2.2 标准化 <a id='2-2-2'></a>"
   ]
  },
  {
   "attachments": {},
   "cell_type": "markdown",
   "metadata": {
    "collapsed": false
   },
   "source": [
    "当数据 (x) 按均值 (μ) 中心化后，再按标准差 (σ) 缩放，数据就会服从为均值为 0，方差为 1 的正态分布（即标准正态分布）\n",
    "\n",
    "这个过程，就叫做数据标准化 (Standardization，又称 Z-score normalization)，\n",
    "\n",
    "公式如下：\n",
    "$$\n",
    "x^*=\\frac{x-\\mu}{\\sigma}\n",
    "$$"
   ]
  },
  {
   "cell_type": "code",
   "execution_count": 14,
   "metadata": {
    "collapsed": false
   },
   "outputs": [
    {
     "name": "stdout",
     "output_type": "stream",
     "text": [
      "[-0.125  9.   ]\n",
      "[ 0.546875 35.      ]\n"
     ]
    }
   ],
   "source": [
    "from sklearn.preprocessing import StandardScaler\n",
    "\n",
    "data = [[-1, 2], [-0.5, 6], [0, 10], [1, 18]]\n",
    "\n",
    "scaler = StandardScaler()                           # 实例化\n",
    "scaler.fit(data)                                    # fit的本质是生成均值和方差\n",
    "print(scaler.mean_)                                 # 查看均值的属性 mean_\n",
    "print(scaler.var_)                                  # 查看方差的属性 var_"
   ]
  },
  {
   "cell_type": "code",
   "execution_count": 15,
   "metadata": {
    "collapsed": false
   },
   "outputs": [
    {
     "name": "stdout",
     "output_type": "stream",
     "text": [
      "0.0\n",
      "1.0\n"
     ]
    },
    {
     "data": {
      "text/plain": [
       "array([[-1.18321596, -1.18321596],\n",
       "       [-0.50709255, -0.50709255],\n",
       "       [ 0.16903085,  0.16903085],\n",
       "       [ 1.52127766,  1.52127766]])"
      ]
     },
     "execution_count": 15,
     "metadata": {},
     "output_type": "execute_result"
    }
   ],
   "source": [
    "x_std = scaler.transform(data)                      # 通过接口导出结果\n",
    "print(x_std.mean())                                 # 导出的结果是一个数组，用 mean() 查看均值\n",
    "print(x_std.std())                                  # 用 std() 查看方差\n",
    "x_std\n"
   ]
  },
  {
   "cell_type": "code",
   "execution_count": 16,
   "metadata": {
    "collapsed": false
   },
   "outputs": [
    {
     "data": {
      "text/plain": [
       "array([[-1.18321596, -1.18321596],\n",
       "       [-0.50709255, -0.50709255],\n",
       "       [ 0.16903085,  0.16903085],\n",
       "       [ 1.52127766,  1.52127766]])"
      ]
     },
     "execution_count": 16,
     "metadata": {},
     "output_type": "execute_result"
    }
   ],
   "source": [
    "scaler.fit_transform(data)                          # 使用 fit_transform(data)一步达成结果"
   ]
  },
  {
   "cell_type": "code",
   "execution_count": 17,
   "metadata": {
    "collapsed": false
   },
   "outputs": [
    {
     "data": {
      "text/plain": [
       "array([[-1. ,  2. ],\n",
       "       [-0.5,  6. ],\n",
       "       [ 0. , 10. ],\n",
       "       [ 1. , 18. ]])"
      ]
     },
     "execution_count": 17,
     "metadata": {},
     "output_type": "execute_result"
    }
   ],
   "source": [
    "scaler.inverse_transform(x_std)                     # 使用 inverse_transform 逆转标准化"
   ]
  },
  {
   "attachments": {},
   "cell_type": "markdown",
   "metadata": {
    "collapsed": false
   },
   "source": [
    "#### 3 快速划分数据集 <a id='2-3'></a>\n",
    "\n",
    "可以使用 `sklearn.model_selection.train_test_split` 方法快速划分训练集和测试集。\n",
    "\n",
    "在本例中，我们使用生物炭吸附数据集作为演示。\n",
    "\n",
    "该数据集根据生物炭的特性、金属来源和环境条件等预测生物炭系统的重金属吸附效率。\n",
    "\n",
    "数据将通过 Pandas 自动下载，如果你想了解更多内容，请参阅：\n",
    "\n",
    "- [生物炭数据集简介](https://dptechnology.feishu.cn/docx/FZvNdfARFouEBqxsGR8cTA7wnDf)\n",
    "- [来源论文](https://doi.org/10.1016/j.chemosphere.2021.130204)"
   ]
  },
  {
   "cell_type": "code",
   "execution_count": 18,
   "metadata": {
    "collapsed": false
   },
   "outputs": [
    {
     "data": {
      "text/html": [
       "<div>\n",
       "<style scoped>\n",
       "    .dataframe tbody tr th:only-of-type {\n",
       "        vertical-align: middle;\n",
       "    }\n",
       "\n",
       "    .dataframe tbody tr th {\n",
       "        vertical-align: top;\n",
       "    }\n",
       "\n",
       "    .dataframe thead th {\n",
       "        text-align: right;\n",
       "    }\n",
       "</style>\n",
       "<table border=\"1\" class=\"dataframe\">\n",
       "  <thead>\n",
       "    <tr style=\"text-align: right;\">\n",
       "      <th></th>\n",
       "      <th>Tp</th>\n",
       "      <th>pHw</th>\n",
       "      <th>C</th>\n",
       "      <th>(O+N)/C</th>\n",
       "      <th>O/C</th>\n",
       "      <th>H/C</th>\n",
       "      <th>A</th>\n",
       "      <th>PSB</th>\n",
       "      <th>BSA</th>\n",
       "      <th>CEC</th>\n",
       "      <th>Tenv</th>\n",
       "      <th>pHs</th>\n",
       "      <th>Co</th>\n",
       "      <th>SEoHM</th>\n",
       "    </tr>\n",
       "  </thead>\n",
       "  <tbody>\n",
       "    <tr>\n",
       "      <th>0</th>\n",
       "      <td>350</td>\n",
       "      <td>10.00</td>\n",
       "      <td>69.6</td>\n",
       "      <td>0.280</td>\n",
       "      <td>0.263</td>\n",
       "      <td>0.776</td>\n",
       "      <td>6.11</td>\n",
       "      <td>0.2</td>\n",
       "      <td>12.44</td>\n",
       "      <td>19.60</td>\n",
       "      <td>25</td>\n",
       "      <td>5.5</td>\n",
       "      <td>0.0053</td>\n",
       "      <td>0.0032</td>\n",
       "    </tr>\n",
       "    <tr>\n",
       "      <th>1</th>\n",
       "      <td>450</td>\n",
       "      <td>10.10</td>\n",
       "      <td>76.3</td>\n",
       "      <td>0.201</td>\n",
       "      <td>0.186</td>\n",
       "      <td>0.524</td>\n",
       "      <td>8.40</td>\n",
       "      <td>0.2</td>\n",
       "      <td>14.42</td>\n",
       "      <td>11.60</td>\n",
       "      <td>25</td>\n",
       "      <td>5.5</td>\n",
       "      <td>0.0089</td>\n",
       "      <td>0.0053</td>\n",
       "    </tr>\n",
       "    <tr>\n",
       "      <th>2</th>\n",
       "      <td>650</td>\n",
       "      <td>10.50</td>\n",
       "      <td>82.1</td>\n",
       "      <td>0.149</td>\n",
       "      <td>0.136</td>\n",
       "      <td>0.246</td>\n",
       "      <td>13.20</td>\n",
       "      <td>0.2</td>\n",
       "      <td>47.63</td>\n",
       "      <td>25.40</td>\n",
       "      <td>25</td>\n",
       "      <td>5.5</td>\n",
       "      <td>0.0053</td>\n",
       "      <td>0.0030</td>\n",
       "    </tr>\n",
       "    <tr>\n",
       "      <th>3</th>\n",
       "      <td>500</td>\n",
       "      <td>9.39</td>\n",
       "      <td>75.1</td>\n",
       "      <td>0.120</td>\n",
       "      <td>0.106</td>\n",
       "      <td>0.324</td>\n",
       "      <td>11.02</td>\n",
       "      <td>0.5</td>\n",
       "      <td>48.99</td>\n",
       "      <td>9.08</td>\n",
       "      <td>25</td>\n",
       "      <td>7.0</td>\n",
       "      <td>0.4448</td>\n",
       "      <td>0.1153</td>\n",
       "    </tr>\n",
       "    <tr>\n",
       "      <th>4</th>\n",
       "      <td>550</td>\n",
       "      <td>10.00</td>\n",
       "      <td>82.8</td>\n",
       "      <td>0.131</td>\n",
       "      <td>0.121</td>\n",
       "      <td>0.399</td>\n",
       "      <td>5.80</td>\n",
       "      <td>0.2</td>\n",
       "      <td>17.02</td>\n",
       "      <td>10.10</td>\n",
       "      <td>25</td>\n",
       "      <td>5.5</td>\n",
       "      <td>0.0071</td>\n",
       "      <td>0.0025</td>\n",
       "    </tr>\n",
       "  </tbody>\n",
       "</table>\n",
       "</div>"
      ],
      "text/plain": [
       "    Tp    pHw     C  (O+N)/C    O/C    H/C      A  PSB    BSA    CEC  Tenv  \\\n",
       "0  350  10.00  69.6    0.280  0.263  0.776   6.11  0.2  12.44  19.60    25   \n",
       "1  450  10.10  76.3    0.201  0.186  0.524   8.40  0.2  14.42  11.60    25   \n",
       "2  650  10.50  82.1    0.149  0.136  0.246  13.20  0.2  47.63  25.40    25   \n",
       "3  500   9.39  75.1    0.120  0.106  0.324  11.02  0.5  48.99   9.08    25   \n",
       "4  550  10.00  82.8    0.131  0.121  0.399   5.80  0.2  17.02  10.10    25   \n",
       "\n",
       "   pHs      Co   SEoHM  \n",
       "0  5.5  0.0053  0.0032  \n",
       "1  5.5  0.0089  0.0053  \n",
       "2  5.5  0.0053  0.0030  \n",
       "3  7.0  0.4448  0.1153  \n",
       "4  5.5  0.0071  0.0025  "
      ]
     },
     "execution_count": 18,
     "metadata": {},
     "output_type": "execute_result"
    }
   ],
   "source": [
    "from sklearn.model_selection import train_test_split, cross_val_score\n",
    "\n",
    "# 导入数据集\n",
    "df_bio = pd.read_csv('https://dp-public.oss-cn-beijing.aliyuncs.com/community/AI4EC/biochar_sorption(Original).csv')\n",
    "df_bio.head()"
   ]
  },
  {
   "cell_type": "code",
   "execution_count": 19,
   "metadata": {
    "collapsed": false
   },
   "outputs": [],
   "source": [
    "# 划分特征与标签\n",
    "X_mat = df_bio.iloc[:, :13].values\n",
    "Y_mat = df_bio.iloc[:, -1].values.reshape(-1, 1)\n",
    "# 对数据集标准化\n",
    "X = StandardScaler().fit_transform(X_mat)\n",
    "Y = StandardScaler().fit_transform(Y_mat)\n",
    "# 划分训练集和测试集\n",
    "Xtrain, Xtest, Ytrain, Ytest = train_test_split(X, Y, test_size=0.3, random_state=0)  # random_state 参数规定每次以相同的方式进行数据划分"
   ]
  },
  {
   "attachments": {},
   "cell_type": "markdown",
   "metadata": {
    "collapsed": false
   },
   "source": [
    "#### 4 特征选择 <a id='2-4'></a>\n",
    "\n",
    "当数据预处理完成后，我们需要选择有意义的特征输入机械学习的算法和模型中进行训练。通常来说，从两个方面考虑来选择特征:\n",
    "\n",
    "1. 特征是否发散：如果一个特征不发散，例如方差接近于0或者基本上都是重复数据，也就是说样本在这个特征上基本上没有差异，这个特征对于样本区分并没有什么用。\n",
    "2. 特征与目标的相关性：这点比较显而易见，与目标相关性高的特征，应当优选选择。\n",
    "\n",
    "最近邻算法 KNN，单棵决策树，支持向量机SVM，神经网络，回归算法，都需要遍历特征或升维来进行运算，所以他们本身的运算量就很大，需要的时间就很长，因此方差过滤这样的特征选择对他们来说就尤为重要。\n",
    "\n",
    "但对于不需要遍历特征的算法，比如随机森林，它随机选取特征进行分枝，本身运算就非常快速，因此特征选择对它来说效果平平。\n",
    "\n",
    "**因此，过滤法的主要对象是：需要遍历特征或升维的算法们，而过滤法的主要目的是：在维持算法表现的前提下，帮助算法降低计算成本。**\n",
    "\n",
    "根据特征选择的形式又可以将特征选择的方法分为3种："
   ]
  },
  {
   "attachments": {},
   "cell_type": "markdown",
   "metadata": {
    "collapsed": false
   },
   "source": [
    "##### 4.1 Filter : 过滤法 <a id='2-4-1'></a>\n",
    "\n",
    "按照发散性或者相关性对各个特征进行评分，设定阀值或者待选阀值的个数，选择特征。 \n",
    "\n"
   ]
  },
  {
   "attachments": {},
   "cell_type": "markdown",
   "metadata": {
    "collapsed": false
   },
   "source": [
    "**4.1.1 方差法**\n",
    "\n",
    "计算各个特征的方差，根据阀值，选择方差大于阀值的特征"
   ]
  },
  {
   "cell_type": "code",
   "execution_count": 20,
   "metadata": {
    "collapsed": false
   },
   "outputs": [
    {
     "data": {
      "text/plain": [
       "(353, 6)"
      ]
     },
     "execution_count": 20,
     "metadata": {},
     "output_type": "execute_result"
    }
   ],
   "source": [
    "from sklearn.feature_selection import VarianceThreshold  # 方差选择法，返回值为特征选择后的数据\n",
    "\n",
    "X_var = VarianceThreshold(threshold = 2).fit_transform(X_mat)  # 参数threshold为方差的阀值\n",
    "X_var.shape"
   ]
  },
  {
   "attachments": {},
   "cell_type": "markdown",
   "metadata": {
    "collapsed": false
   },
   "source": [
    "**4.1.2 卡方过滤 (分类算法相关性检验)**\n",
    "\n",
    "卡方过滤是专门针对离散型标签（即分类问题）的相关性过滤。\n",
    "\n",
    "卡方检验类 featureselection.chi2 计算每个非负特征和标签之间的卡方统计量，并依照卡方统计量由高到低为特征排名。\n",
    "\n",
    "再结合 featureselection.SelectkBest 这个可以输入“评分标准\"来选出前 K 个分数最高的特征的类，我们可以借此除去最可能独立于标签，与我们分类目的无关的特征。\n",
    "\n",
    "卡方检验要求特征中均为非负值。"
   ]
  },
  {
   "cell_type": "code",
   "execution_count": 21,
   "metadata": {
    "collapsed": false
   },
   "outputs": [
    {
     "data": {
      "text/plain": [
       "array([[1.4, 1.4, 1.3, 1.5, 1.4, 1.7, 1.4, 1.5, 1.4, 1.5, 1.5, 1.6, 1.4,\n",
       "        1.1, 1.2, 1.5, 1.3, 1.4, 1.7, 1.5, 1.7, 1.5, 1. , 1.7, 1.9, 1.6,\n",
       "        1.6, 1.5, 1.4, 1.6, 1.6, 1.5, 1.5, 1.4, 1.5, 1.2, 1.3, 1.4, 1.3,\n",
       "        1.5, 1.3, 1.3, 1.3, 1.6, 1.9, 1.4, 1.6, 1.4, 1.5, 1.4, 4.7, 4.5,\n",
       "        4.9, 4. , 4.6, 4.5, 4.7, 3.3, 4.6, 3.9, 3.5, 4.2, 4. , 4.7, 3.6,\n",
       "        4.4, 4.5, 4.1, 4.5, 3.9, 4.8, 4. , 4.9, 4.7, 4.3, 4.4, 4.8, 5. ,\n",
       "        4.5, 3.5, 3.8, 3.7, 3.9, 5.1, 4.5, 4.5, 4.7, 4.4, 4.1, 4. , 4.4,\n",
       "        4.6, 4. , 3.3, 4.2, 4.2, 4.2, 4.3, 3. , 4.1, 6. , 5.1, 5.9, 5.6,\n",
       "        5.8, 6.6, 4.5, 6.3, 5.8, 6.1, 5.1, 5.3, 5.5, 5. , 5.1, 5.3, 5.5,\n",
       "        6.7, 6.9, 5. , 5.7, 4.9, 6.7, 4.9, 5.7, 6. , 4.8, 4.9, 5.6, 5.8,\n",
       "        6.1, 6.4, 5.6, 5.1, 5.6, 6.1, 5.6, 5.5, 4.8, 5.4, 5.6, 5.1, 5.1,\n",
       "        5.9, 5.7, 5.2, 5. , 5.2, 5.4, 5.1],\n",
       "       [0.2, 0.2, 0.2, 0.2, 0.2, 0.4, 0.3, 0.2, 0.2, 0.1, 0.2, 0.2, 0.1,\n",
       "        0.1, 0.2, 0.4, 0.4, 0.3, 0.3, 0.3, 0.2, 0.4, 0.2, 0.5, 0.2, 0.2,\n",
       "        0.4, 0.2, 0.2, 0.2, 0.2, 0.4, 0.1, 0.2, 0.2, 0.2, 0.2, 0.1, 0.2,\n",
       "        0.2, 0.3, 0.3, 0.2, 0.6, 0.4, 0.3, 0.2, 0.2, 0.2, 0.2, 1.4, 1.5,\n",
       "        1.5, 1.3, 1.5, 1.3, 1.6, 1. , 1.3, 1.4, 1. , 1.5, 1. , 1.4, 1.3,\n",
       "        1.4, 1.5, 1. , 1.5, 1.1, 1.8, 1.3, 1.5, 1.2, 1.3, 1.4, 1.4, 1.7,\n",
       "        1.5, 1. , 1.1, 1. , 1.2, 1.6, 1.5, 1.6, 1.5, 1.3, 1.3, 1.3, 1.2,\n",
       "        1.4, 1.2, 1. , 1.3, 1.2, 1.3, 1.3, 1.1, 1.3, 2.5, 1.9, 2.1, 1.8,\n",
       "        2.2, 2.1, 1.7, 1.8, 1.8, 2.5, 2. , 1.9, 2.1, 2. , 2.4, 2.3, 1.8,\n",
       "        2.2, 2.3, 1.5, 2.3, 2. , 2. , 1.8, 2.1, 1.8, 1.8, 1.8, 2.1, 1.6,\n",
       "        1.9, 2. , 2.2, 1.5, 1.4, 2.3, 2.4, 1.8, 1.8, 2.1, 2.4, 2.3, 1.9,\n",
       "        2.3, 2.5, 2.3, 1.9, 2. , 2.3, 1.8]])"
      ]
     },
     "execution_count": 21,
     "metadata": {},
     "output_type": "execute_result"
    }
   ],
   "source": [
    "from sklearn.feature_selection import SelectKBest  # 选择K个最好的特征，返回选择特征后的数据\n",
    "from sklearn.feature_selection import chi2  # 卡方检验\n",
    "\n",
    "X_fschi = SelectKBest(chi2, k = 2).fit_transform(X_iris, Y_iris)\n",
    "# 第一个参数为计算评估特征依赖的统计量\n",
    "# 第二个参数指定选择前 k 个特征\n",
    "\n",
    "X_fschi.T  # .T 将矩阵转置（便于阅读）"
   ]
  },
  {
   "attachments": {},
   "cell_type": "markdown",
   "metadata": {
    "collapsed": false
   },
   "source": [
    "从特征工程的角度，我们希望选取卡方值很大，p 值小于 0.05 的特征，即和标签是相关联的特征。\n",
    "\n",
    "而调用 SelectkBest 之前，我们可以直接从 chi2 实例化后的模型中获得各个特征所对应的卡方值和 P 值。"
   ]
  },
  {
   "cell_type": "code",
   "execution_count": 22,
   "metadata": {
    "collapsed": false
   },
   "outputs": [
    {
     "data": {
      "text/plain": [
       "array([4.47651499e-03, 1.56395980e-01, 5.53397228e-26, 2.75824965e-15])"
      ]
     },
     "execution_count": 22,
     "metadata": {},
     "output_type": "execute_result"
    }
   ],
   "source": [
    "chivalue, pvalues_chi = chi2(X_iris, Y_iris)  # 使用卡方系数查看相关性， chivalue 是卡方值，pvalues_chi 是 P值\n",
    "pvalues_chi\n"
   ]
  },
  {
   "attachments": {},
   "cell_type": "markdown",
   "metadata": {
    "collapsed": false
   },
   "source": [
    "**4.1.3 F 检验 (线性相关性)**\n",
    "\n",
    "F检验，又称ANOVA，方差齐性检验，是用来捕捉每个特征与标签之间的 **线性关系** 的过滤方法。\n",
    "\n",
    "F检验的本质是寻找两组数据之间的线性关系，其原假设是'数据不存在显著的线性关系”。\n",
    "\n",
    "它返回 F 值和 P 值两个统计量。\n",
    "\n",
    "和卡方过滤一样，我们希望选取 p 值小于 0.05 或 0.01 的特征，这些特征与标签是显著线性相关的，\n",
    "\n",
    "而 P 值大于 0.05 或 0.01 的特征则被我们认为是和标签没有显著线性关系的特征，应该被删除。"
   ]
  },
  {
   "cell_type": "code",
   "execution_count": 23,
   "metadata": {
    "collapsed": false
   },
   "outputs": [
    {
     "name": "stdout",
     "output_type": "stream",
     "text": [
      "[1.66966919e-31 4.49201713e-17 2.85677661e-91 4.16944584e-85]\n"
     ]
    },
    {
     "data": {
      "text/plain": [
       "array([[1.4, 1.4, 1.3, 1.5, 1.4, 1.7, 1.4, 1.5, 1.4, 1.5, 1.5, 1.6, 1.4,\n",
       "        1.1, 1.2, 1.5, 1.3, 1.4, 1.7, 1.5, 1.7, 1.5, 1. , 1.7, 1.9, 1.6,\n",
       "        1.6, 1.5, 1.4, 1.6, 1.6, 1.5, 1.5, 1.4, 1.5, 1.2, 1.3, 1.4, 1.3,\n",
       "        1.5, 1.3, 1.3, 1.3, 1.6, 1.9, 1.4, 1.6, 1.4, 1.5, 1.4, 4.7, 4.5,\n",
       "        4.9, 4. , 4.6, 4.5, 4.7, 3.3, 4.6, 3.9, 3.5, 4.2, 4. , 4.7, 3.6,\n",
       "        4.4, 4.5, 4.1, 4.5, 3.9, 4.8, 4. , 4.9, 4.7, 4.3, 4.4, 4.8, 5. ,\n",
       "        4.5, 3.5, 3.8, 3.7, 3.9, 5.1, 4.5, 4.5, 4.7, 4.4, 4.1, 4. , 4.4,\n",
       "        4.6, 4. , 3.3, 4.2, 4.2, 4.2, 4.3, 3. , 4.1, 6. , 5.1, 5.9, 5.6,\n",
       "        5.8, 6.6, 4.5, 6.3, 5.8, 6.1, 5.1, 5.3, 5.5, 5. , 5.1, 5.3, 5.5,\n",
       "        6.7, 6.9, 5. , 5.7, 4.9, 6.7, 4.9, 5.7, 6. , 4.8, 4.9, 5.6, 5.8,\n",
       "        6.1, 6.4, 5.6, 5.1, 5.6, 6.1, 5.6, 5.5, 4.8, 5.4, 5.6, 5.1, 5.1,\n",
       "        5.9, 5.7, 5.2, 5. , 5.2, 5.4, 5.1],\n",
       "       [0.2, 0.2, 0.2, 0.2, 0.2, 0.4, 0.3, 0.2, 0.2, 0.1, 0.2, 0.2, 0.1,\n",
       "        0.1, 0.2, 0.4, 0.4, 0.3, 0.3, 0.3, 0.2, 0.4, 0.2, 0.5, 0.2, 0.2,\n",
       "        0.4, 0.2, 0.2, 0.2, 0.2, 0.4, 0.1, 0.2, 0.2, 0.2, 0.2, 0.1, 0.2,\n",
       "        0.2, 0.3, 0.3, 0.2, 0.6, 0.4, 0.3, 0.2, 0.2, 0.2, 0.2, 1.4, 1.5,\n",
       "        1.5, 1.3, 1.5, 1.3, 1.6, 1. , 1.3, 1.4, 1. , 1.5, 1. , 1.4, 1.3,\n",
       "        1.4, 1.5, 1. , 1.5, 1.1, 1.8, 1.3, 1.5, 1.2, 1.3, 1.4, 1.4, 1.7,\n",
       "        1.5, 1. , 1.1, 1. , 1.2, 1.6, 1.5, 1.6, 1.5, 1.3, 1.3, 1.3, 1.2,\n",
       "        1.4, 1.2, 1. , 1.3, 1.2, 1.3, 1.3, 1.1, 1.3, 2.5, 1.9, 2.1, 1.8,\n",
       "        2.2, 2.1, 1.7, 1.8, 1.8, 2.5, 2. , 1.9, 2.1, 2. , 2.4, 2.3, 1.8,\n",
       "        2.2, 2.3, 1.5, 2.3, 2. , 2. , 1.8, 2.1, 1.8, 1.8, 1.8, 2.1, 1.6,\n",
       "        1.9, 2. , 2.2, 1.5, 1.4, 2.3, 2.4, 1.8, 1.8, 2.1, 2.4, 2.3, 1.9,\n",
       "        2.3, 2.5, 2.3, 1.9, 2. , 2.3, 1.8]])"
      ]
     },
     "execution_count": 23,
     "metadata": {},
     "output_type": "execute_result"
    }
   ],
   "source": [
    "from sklearn.feature_selection import SelectKBest  # 选择K个最好的特征，返回选择特征后的数据\n",
    "from sklearn.feature_selection import f_classif  # F检验\n",
    "\n",
    "F, pvalues_F = f_classif(X_iris, Y_iris)\n",
    "print(pvalues_F)\n",
    "\n",
    "x_F = SelectKBest(chi2, k = 2).fit_transform(X_iris, Y_iris)\n",
    "x_F.T\n",
    "\n",
    "# cross_val_score(RFR(n_estimators=10, random_state=0), X_F, Y, cv=5).mean()"
   ]
  },
  {
   "attachments": {},
   "cell_type": "markdown",
   "metadata": {
    "collapsed": false
   },
   "source": [
    "**4.1.4 互信息法**\n",
    "\n",
    "互信息法是用来捕捉每个特征与标签之间的任意关系（包括线性和非线性关系）的过滤方法。\n",
    "\n",
    "和F检验相似，它既可以做回归也可以做分类，并且包含两个类featureselection.mutualinfoclassif（互信息分类）和 featureselection.mutualinforegression（互信息回归）。\n",
    "\n",
    "这两个类的用法和参数都和F检验一模一样，不过互信息法比F检验更加强大，F检验只能够找出线性关系，而互信息法可以找出任意关系。 \n",
    "\n",
    "互信息法不返回 p 值或 F 值类似的统计量，它返口\"每个特征与目标之间的互信息量的估计”，\n",
    "\n",
    "这个估计量在 [0,1] 之间取值，为 0 则表示两个变量独立，为 1 则表示两个变量完全相关。以互信息分类为例的代码如下："
   ]
  },
  {
   "cell_type": "code",
   "execution_count": 24,
   "metadata": {
    "collapsed": false
   },
   "outputs": [
    {
     "data": {
      "text/plain": [
       "array([0.48371218, 0.24519814, 0.9899798 , 0.98255839])"
      ]
     },
     "execution_count": 24,
     "metadata": {},
     "output_type": "execute_result"
    }
   ],
   "source": [
    "from sklearn.feature_selection import mutual_info_classif as MIC\n",
    "\n",
    "MIC(X_iris, Y_iris)"
   ]
  },
  {
   "attachments": {},
   "cell_type": "markdown",
   "metadata": {
    "collapsed": false
   },
   "source": [
    "##### 4.2 Wrapper : 包装法 <a id='2-4-2'></a>\n",
    "\n",
    "根据目标函数(通常是预测效果评分)，每次选择若干特征，或者排除若干特征。 "
   ]
  },
  {
   "attachments": {},
   "cell_type": "markdown",
   "metadata": {
    "collapsed": false
   },
   "source": [
    "**4.2.1 递归特征消除法**\n",
    "\n",
    "递归消除特征法使用一个基模型来进行多轮训练，每轮训练后，消除若干权值系数的特征，再基于新的特征集进行下一轮训练。"
   ]
  },
  {
   "cell_type": "code",
   "execution_count": 25,
   "metadata": {
    "collapsed": false
   },
   "outputs": [
    {
     "data": {
      "text/plain": [
       "array([[1.4, 1.4, 1.3, 1.5, 1.4, 1.7, 1.4, 1.5, 1.4, 1.5, 1.5, 1.6, 1.4,\n",
       "        1.1, 1.2, 1.5, 1.3, 1.4, 1.7, 1.5, 1.7, 1.5, 1. , 1.7, 1.9, 1.6,\n",
       "        1.6, 1.5, 1.4, 1.6, 1.6, 1.5, 1.5, 1.4, 1.5, 1.2, 1.3, 1.4, 1.3,\n",
       "        1.5, 1.3, 1.3, 1.3, 1.6, 1.9, 1.4, 1.6, 1.4, 1.5, 1.4, 4.7, 4.5,\n",
       "        4.9, 4. , 4.6, 4.5, 4.7, 3.3, 4.6, 3.9, 3.5, 4.2, 4. , 4.7, 3.6,\n",
       "        4.4, 4.5, 4.1, 4.5, 3.9, 4.8, 4. , 4.9, 4.7, 4.3, 4.4, 4.8, 5. ,\n",
       "        4.5, 3.5, 3.8, 3.7, 3.9, 5.1, 4.5, 4.5, 4.7, 4.4, 4.1, 4. , 4.4,\n",
       "        4.6, 4. , 3.3, 4.2, 4.2, 4.2, 4.3, 3. , 4.1, 6. , 5.1, 5.9, 5.6,\n",
       "        5.8, 6.6, 4.5, 6.3, 5.8, 6.1, 5.1, 5.3, 5.5, 5. , 5.1, 5.3, 5.5,\n",
       "        6.7, 6.9, 5. , 5.7, 4.9, 6.7, 4.9, 5.7, 6. , 4.8, 4.9, 5.6, 5.8,\n",
       "        6.1, 6.4, 5.6, 5.1, 5.6, 6.1, 5.6, 5.5, 4.8, 5.4, 5.6, 5.1, 5.1,\n",
       "        5.9, 5.7, 5.2, 5. , 5.2, 5.4, 5.1],\n",
       "       [0.2, 0.2, 0.2, 0.2, 0.2, 0.4, 0.3, 0.2, 0.2, 0.1, 0.2, 0.2, 0.1,\n",
       "        0.1, 0.2, 0.4, 0.4, 0.3, 0.3, 0.3, 0.2, 0.4, 0.2, 0.5, 0.2, 0.2,\n",
       "        0.4, 0.2, 0.2, 0.2, 0.2, 0.4, 0.1, 0.2, 0.2, 0.2, 0.2, 0.1, 0.2,\n",
       "        0.2, 0.3, 0.3, 0.2, 0.6, 0.4, 0.3, 0.2, 0.2, 0.2, 0.2, 1.4, 1.5,\n",
       "        1.5, 1.3, 1.5, 1.3, 1.6, 1. , 1.3, 1.4, 1. , 1.5, 1. , 1.4, 1.3,\n",
       "        1.4, 1.5, 1. , 1.5, 1.1, 1.8, 1.3, 1.5, 1.2, 1.3, 1.4, 1.4, 1.7,\n",
       "        1.5, 1. , 1.1, 1. , 1.2, 1.6, 1.5, 1.6, 1.5, 1.3, 1.3, 1.3, 1.2,\n",
       "        1.4, 1.2, 1. , 1.3, 1.2, 1.3, 1.3, 1.1, 1.3, 2.5, 1.9, 2.1, 1.8,\n",
       "        2.2, 2.1, 1.7, 1.8, 1.8, 2.5, 2. , 1.9, 2.1, 2. , 2.4, 2.3, 1.8,\n",
       "        2.2, 2.3, 1.5, 2.3, 2. , 2. , 1.8, 2.1, 1.8, 1.8, 1.8, 2.1, 1.6,\n",
       "        1.9, 2. , 2.2, 1.5, 1.4, 2.3, 2.4, 1.8, 1.8, 2.1, 2.4, 2.3, 1.9,\n",
       "        2.3, 2.5, 2.3, 1.9, 2. , 2.3, 1.8]])"
      ]
     },
     "execution_count": 25,
     "metadata": {},
     "output_type": "execute_result"
    }
   ],
   "source": [
    "from sklearn.feature_selection import RFE\n",
    "from sklearn.linear_model import LogisticRegression\n",
    "\n",
    "# 参数 estimator 为基模型，参数 n_features_to_select 为选择的特征个数\n",
    "RFE(estimator = LogisticRegression(), n_features_to_select = 2).fit_transform(iris.data, iris.target).T\n",
    "# 递归特征消除法，返回特征选择后的数据"
   ]
  },
  {
   "attachments": {},
   "cell_type": "markdown",
   "metadata": {
    "collapsed": false
   },
   "source": [
    "##### 4.3 Embedded 嵌入法 <a id='2-4-3'></a>\n",
    "\n",
    "嵌入法是一种让算法自己決定使用哪些特征的方法，即特征选择和算法训练同时进行。\n",
    "\n",
    "在使用嵌入法时，我们先使用某些机器学习的算法和模型进行训练，得到各个特征的权值系数.\n",
    "\n",
    "根据权值系数从大到小选择权值系数大的特征，权值系数往往代表了特征对于模型的某种贡献或重要性。\n",
    "\n",
    "selectFromModel 是一个元变换器，可以与任何在拟合后具有 coef_，feature_importances_ 属性或具有惩罚项的评估器一起使用\n",
    "\n",
    "（比如随机森林和树模型就具有属性 featureimportances_，逻辑回归就带有l1和l2惩罚项，线性支持向量机也支持l2惩罚项）。\n",
    "\n",
    "| **参数**     | **说明**                                                     |\n",
    "| ------------ | ------------------------------------------------------------ |\n",
    "| estimator    | 使用的模型评估器，  只要是带  coef_，feature_importances_ 属性或具有惩罚项的评估器都可以使用。 |\n",
    "| threshold    | 特征重要性的阈值，重要性低于这个阈值的特征都将被删除。       |\n",
    "| prefit       | 默认False，判断是否将实例化后的模型直接传递给构造函数。如果为True，则必须直接调用  fit  和  transform，不能使用  fit_transform，并且  SelectFromModel  不能与  cross_val_score,  GridSearchCV和克隆估计器的类似程序一起使用。 |\n",
    "| norm_order   | k可输入非零整数，正无穷，负无穷，默认值为1在评估器的  coef_  属性高于一维的情况下，用于过滤低于阈值的系数的向量的范数的阶数。 |\n",
    "| max_features | 在阈值设定下，要选择的最大特征数。要禁用阈值并仅根据  max_features  选择，设 置threshold  = -np.inf |\n"
   ]
  },
  {
   "cell_type": "code",
   "execution_count": 26,
   "metadata": {
    "collapsed": false
   },
   "outputs": [
    {
     "name": "stdout",
     "output_type": "stream",
     "text": [
      "[3.60360035e-03 5.84203561e-02 6.43556008e-03 1.21898803e-02\n",
      " 1.13200898e-02 3.30934631e-03 9.24397894e-03 5.79670705e-04\n",
      " 4.02999953e-03 9.70090553e-02 1.23106767e-03 1.08092186e-01\n",
      " 6.84535209e-01]\n"
     ]
    },
    {
     "data": {
      "text/plain": [
       "(353, 8)"
      ]
     },
     "execution_count": 26,
     "metadata": {},
     "output_type": "execute_result"
    }
   ],
   "source": [
    "from sklearn.feature_selection import SelectFromModel\n",
    "from sklearn.ensemble import RandomForestRegressor\n",
    "\n",
    "rfr = RandomForestRegressor(n_estimators=10, random_state=0)\n",
    "print(rfr.fit(X,Y).feature_importances_)  # 打印各特征的重要性参数\n",
    "X_embedded = SelectFromModel(estimator=rfr, threshold=0.005).fit_transform(X, Y)\n",
    "X_embedded.shape"
   ]
  },
  {
   "cell_type": "code",
   "execution_count": 27,
   "metadata": {
    "collapsed": false
   },
   "outputs": [
    {
     "data": {
      "image/png": "[encoded data removed]",
      "text/plain": [
       "<Figure size 640x480 with 1 Axes>"
      ]
     },
     "metadata": {},
     "output_type": "display_data"
    }
   ],
   "source": [
    "# ## ######### TIME WARNING: 30 seconds ###########\n",
    "threshold = np.linspace(0, rfr.fit(X, Y).feature_importances_.max(), 50)\n",
    "scores = []\n",
    "\n",
    "for i in threshold:\n",
    "    X_embedded = SelectFromModel(rfr, threshold=i).fit_transform(X, Y)\n",
    "    cv_score = cross_val_score(rfr, X_embedded,Y, cv=5).mean()\n",
    "    scores.append(cv_score)\n",
    "\n",
    "plt.plot(threshold, scores)\n",
    "plt.show()"
   ]
  },
  {
   "attachments": {},
   "cell_type": "markdown",
   "metadata": {
    "collapsed": false
   },
   "source": [
    "#### 5 建立机器学习模型 <a id='2-5'></a>"
   ]
  },
  {
   "cell_type": "code",
   "execution_count": 28,
   "metadata": {
    "collapsed": false
   },
   "outputs": [
    {
     "name": "stdout",
     "output_type": "stream",
     "text": [
      "The predict score is 0.7951077576074721\n"
     ]
    },
    {
     "data": {
      "image/png": "[encoded data removed]",
      "text/plain": [
       "<Figure size 640x480 with 1 Axes>"
      ]
     },
     "metadata": {},
     "output_type": "display_data"
    }
   ],
   "source": [
    "from sklearn.linear_model import LinearRegression  # 导入线性回归模块\n",
    "\n",
    "lr = LinearRegression()  # 实例化一个模型, 参数都为默认值\n",
    "lr.fit(Xtrain, Ytrain)  # 用训练集数据进行训练\n",
    "Ypred = lr.predict(Xtest)  # 对测试结果进行预测\n",
    "lr.score(Xtest, Ytest)  # 查看预测分数\n",
    "print(f'The predict score is {lr.score(Xtest, Ytest)}')\n",
    "\n",
    "# 绘制预测结果图\n",
    "plt.plot([-0.8,3.5], [-0.8,3.5], \"--k\")\n",
    "plt.scatter(x=Ytest, y=Ypred, c='orange')\n",
    "plt.show()"
   ]
  },
  {
   "cell_type": "code",
   "execution_count": 29,
   "metadata": {
    "collapsed": false
   },
   "outputs": [
    {
     "name": "stdout",
     "output_type": "stream",
     "text": [
      "The predict score is 0.9688705671759882\n"
     ]
    },
    {
     "data": {
      "image/png": "[encoded data removed]",
      "text/plain": [
       "<Figure size 640x480 with 1 Axes>"
      ]
     },
     "metadata": {},
     "output_type": "display_data"
    }
   ],
   "source": [
    "from sklearn.ensemble import RandomForestRegressor  # 导入需要的模块\n",
    "\n",
    "rfr = RandomForestRegressor()  # 实例化一个模型, 参数都为默认值\n",
    "rfr.fit(Xtrain, Ytrain)  # 用训练集数据进行训练\n",
    "Ypred = rfr.predict(Xtest)  # 对测试结果进行预测\n",
    "rfr.score(Xtest, Ytest)  # 查看预测分数\n",
    "print(f'The predict score is {rfr.score(Xtest, Ytest)}')\n",
    "\n",
    "# 绘制预测结果图\n",
    "plt.plot([-0.8,3.5], [-0.8,3.5], \"--k\")\n",
    "plt.scatter(x=Ytest, y=Ypred, c='orange')\n",
    "plt.show()"
   ]
  },
  {
   "cell_type": "markdown",
   "metadata": {
    "collapsed": false
   },
   "source": [
    "可以看到，选择不同的机器学习模型，对预测效果存在重要影响。"
   ]
  },
  {
   "attachments": {},
   "cell_type": "markdown",
   "metadata": {
    "collapsed": false
   },
   "source": [
    "#### 6 评价指标 <a id='2-6'></a>\n",
    "\n",
    "模型效果如何需要有效的评估方法。在分类算法中，我们可以很明确的使用准确率指标，而在回归类算法中，我们需要一些指标来评估是否预测到了正确的数值。"
   ]
  },
  {
   "cell_type": "code",
   "execution_count": 30,
   "metadata": {
    "collapsed": false
   },
   "outputs": [
    {
     "name": "stdout",
     "output_type": "stream",
     "text": [
      "Requirement already satisfied: scikit-learn==1.2.0 in /opt/anaconda3/envs/ML_env/lib/python3.9/site-packages (1.2.0)\n",
      "Requirement already satisfied: threadpoolctl>=2.0.0 in /opt/anaconda3/envs/ML_env/lib/python3.9/site-packages (from scikit-learn==1.2.0) (3.1.0)\n",
      "Requirement already satisfied: joblib>=1.1.1 in /opt/anaconda3/envs/ML_env/lib/python3.9/site-packages (from scikit-learn==1.2.0) (1.2.0)\n",
      "Requirement already satisfied: numpy>=1.17.3 in /opt/anaconda3/envs/ML_env/lib/python3.9/site-packages (from scikit-learn==1.2.0) (1.23.4)\n",
      "Requirement already satisfied: scipy>=1.3.2 in /opt/anaconda3/envs/ML_env/lib/python3.9/site-packages (from scikit-learn==1.2.0) (1.9.3)\n",
      "['accuracy', 'adjusted_mutual_info_score', 'adjusted_rand_score', 'average_precision', 'balanced_accuracy', 'completeness_score', 'explained_variance', 'f1', 'f1_macro', 'f1_micro', 'f1_samples', 'f1_weighted', 'fowlkes_mallows_score', 'homogeneity_score', 'jaccard', 'jaccard_macro', 'jaccard_micro', 'jaccard_samples', 'jaccard_weighted', 'matthews_corrcoef', 'max_error', 'mutual_info_score', 'neg_brier_score', 'neg_log_loss', 'neg_mean_absolute_error', 'neg_mean_absolute_percentage_error', 'neg_mean_gamma_deviance', 'neg_mean_poisson_deviance', 'neg_mean_squared_error', 'neg_mean_squared_log_error', 'neg_median_absolute_error', 'neg_negative_likelihood_ratio', 'neg_root_mean_squared_error', 'normalized_mutual_info_score', 'positive_likelihood_ratio', 'precision', 'precision_macro', 'precision_micro', 'precision_samples', 'precision_weighted', 'r2', 'rand_score', 'recall', 'recall_macro', 'recall_micro', 'recall_samples', 'recall_weighted', 'roc_auc', 'roc_auc_ovo', 'roc_auc_ovo_weighted', 'roc_auc_ovr', 'roc_auc_ovr_weighted', 'top_k_accuracy', 'v_measure_score']\n"
     ]
    }
   ],
   "source": [
    "! pip install scikit-learn==1.2.0\n",
    "from sklearn.metrics import get_scorer_names\n",
    "print(get_scorer_names())"
   ]
  },
  {
   "attachments": {},
   "cell_type": "markdown",
   "metadata": {
    "collapsed": false
   },
   "source": [
    "##### 6.1 平均绝对误差 MAE <a id='2-6-1'></a>\n",
    "$$\n",
    "\\operatorname{MAE}(y, \\hat{y})=\\frac{1}{n_{\\text {samples }}} \\sum_{i=0}^{n_{\\text {samples }}-1}\\left|y_i-\\hat{y}_i\\right|\n",
    "$$"
   ]
  },
  {
   "cell_type": "code",
   "execution_count": 31,
   "metadata": {
    "collapsed": false
   },
   "outputs": [
    {
     "data": {
      "text/plain": [
       "0.06731823860281443"
      ]
     },
     "execution_count": 31,
     "metadata": {},
     "output_type": "execute_result"
    }
   ],
   "source": [
    "from sklearn.metrics import mean_absolute_error as MAE\n",
    "\n",
    "MAE(Ypred, Ytest)"
   ]
  },
  {
   "attachments": {},
   "cell_type": "markdown",
   "metadata": {
    "collapsed": false
   },
   "source": [
    "##### 6.2 均方误差 MSE <a id='2-6-2'></a>\n",
    "\n",
    "$$\n",
    "M S E=\\frac{\\sum_{i=0}^{N-1}\\left[\\hat{y}-y_i\\right]^2}{N}\n",
    "$$"
   ]
  },
  {
   "cell_type": "code",
   "execution_count": 32,
   "metadata": {
    "collapsed": false
   },
   "outputs": [
    {
     "data": {
      "text/plain": [
       "0.02346172362675794"
      ]
     },
     "execution_count": 32,
     "metadata": {},
     "output_type": "execute_result"
    }
   ],
   "source": [
    "from sklearn.metrics import mean_squared_error as MSE\n",
    "\n",
    "MSE(Ypred, Ytest)"
   ]
  },
  {
   "attachments": {},
   "cell_type": "markdown",
   "metadata": {
    "collapsed": false
   },
   "source": [
    "##### 6.3 决定系数 $R^2$ <a id='2-6-3'></a>\n",
    "\n",
    "$$\n",
    "R^2(y, \\hat{y})=1-\\frac{\\sum_{i=0}^{n_{\\text {samples-1}}}\\left(y_i-\\hat{y}_i\\right)^2}{\\sum_{i=0}^{n_{\\text {samples}-1}}\\left(y_i-\\bar{y}\\right)^2}\n",
    "$$"
   ]
  },
  {
   "cell_type": "code",
   "execution_count": 33,
   "metadata": {
    "collapsed": false
   },
   "outputs": [
    {
     "data": {
      "text/plain": [
       "0.9697768255439089"
      ]
     },
     "execution_count": 33,
     "metadata": {},
     "output_type": "execute_result"
    }
   ],
   "source": [
    "from sklearn.metrics import r2_score as R2\n",
    "\n",
    "R2(Ypred, Ytest)\n"
   ]
  },
  {
   "attachments": {},
   "cell_type": "markdown",
   "metadata": {
    "collapsed": false
   },
   "source": [
    "#### 7 交叉验证 <a id='2-7'></a>\n",
    "\n",
    "学习预测函数的参数并在相同的数据上对其进行测试是一个方法上的错误：一个只重复它刚刚看到的样本标签的模型将获得满分，但无法预测任何有用的数据。\n",
    "\n",
    "这种情况称为过拟合。\n",
    "\n",
    "为了避免这种情况，在执行（监督）机器学习 “实验” 时，通常的做法是将部分可用数据保留为测试集 X_test，y_test。\n",
    "\n",
    "下面是模型训练中典型交叉验证工作流的示意图。最佳参数可以通过网格搜索确定。\n",
    "\n",
    "![CV-sklearn](https://scikit-learn.org/stable/_images/grid_search_cross_validation.png)\n",
    "\n",
    "由 k 折交叉验证报告的评估指标是循环后得到的平均值。\n",
    "\n",
    "这种方法的计算成本可能很高，但不会浪费太多数据，这在诸如样本数量非常少的问题中仍能较好的反应模型效果，是交叉验证的一个主要优势。"
   ]
  },
  {
   "cell_type": "code",
   "execution_count": 34,
   "metadata": {
    "collapsed": false
   },
   "outputs": [
    {
     "data": {
      "text/plain": [
       "array([-0.19911005, -0.03375928, -0.44368484, -0.0835061 , -0.32333411])"
      ]
     },
     "execution_count": 34,
     "metadata": {},
     "output_type": "execute_result"
    }
   ],
   "source": [
    "from sklearn.model_selection import cross_val_score, cross_validate\n",
    "\n",
    "cross_val_score(rfr, X, Y, cv=5, scoring='neg_mean_squared_error')"
   ]
  },
  {
   "attachments": {},
   "cell_type": "markdown",
   "metadata": {
    "collapsed": false
   },
   "source": [
    "#### 8 参数优化 <a id='2-8'></a>\n",
    "\n",
    "所有估计器都有可以调整的参数（在文献中通常称为超参数）。\n",
    "\n",
    "估计器的泛化功效通常主要取决于几个参数。\n",
    "\n",
    "例如，[RandomForestRegressor](https://scikit-learn.org/stable/modules/generated/sklearn.ensemble.RandomForestRegressor.html#sklearn.ensemble.RandomForestRegressor) 具有一个确定林中树数的 n_estimators 参数，以及一个确定每棵树最大深度的 max_depth 参数。\n",
    "\n",
    "通常，不清楚这些参数的确切值应该是多少，因为它们取决于手头的数据。\n",
    "\n",
    "Scikit-Learn提供了自动查找最佳参数组合的工具。在下面的示例中，我们使用 [RandomizedSearchCV](https://scikit-learn.org/stable/modules/generated/sklearn.model_selection.RandomizedSearchCV.html#sklearn.model_selection.RandomizedSearchCV) 方法随机搜索随机森林回归的参数空间。\n",
    "\n",
    "搜索结束后，[RandomizedSearchCV](https://scikit-learn.org/stable/modules/generated/sklearn.model_selection.RandomizedSearchCV.html#sklearn.model_selection.RandomizedSearchCV) 就像一个 [RandomForestRegressor](https://scikit-learn.org/stable/modules/generated/sklearn.ensemble.RandomForestRegressor.html#sklearn.ensemble.RandomForestRegressor)，它已经拟合了最佳参数集。\n",
    "\n",
    "你可在[用户指南](https://scikit-learn.org/stable/modules/grid_search.html#grid-search)中了解更多内容："
   ]
  },
  {
   "cell_type": "code",
   "execution_count": 35,
   "metadata": {
    "collapsed": false,
    "pycharm": {
     "is_executing": true
    }
   },
   "outputs": [
    {
     "name": "stdout",
     "output_type": "stream",
     "text": [
      "最优的参数是： {'max_depth': 7, 'n_estimators': 1} ，其得分为 0.7601224720158413\n"
     ]
    }
   ],
   "source": [
    "# ## ################ Time Warning: 5 seconds ###################\n",
    "from sklearn.ensemble import RandomForestRegressor\n",
    "from sklearn.model_selection import RandomizedSearchCV\n",
    "from scipy.stats import randint\n",
    "\n",
    "# 还记得 Part 2.3 我们创建和划分的生物炭数据集吗？让我们在这里再回顾一下\n",
    "# 导入数据集\n",
    "df_bio = pd.read_csv('https://dp-public.oss-cn-beijing.aliyuncs.com/community/AI4EC/biochar_sorption(Original).csv')\n",
    "# 划分特征与标签\n",
    "X_mat = df_bio.iloc[:, :13].values\n",
    "Y_mat = df_bio.iloc[:, -1].values.reshape(-1, 1)\n",
    "# 对数据集标准化\n",
    "X = StandardScaler().fit_transform(X_mat)\n",
    "Y = StandardScaler().fit_transform(Y_mat)\n",
    "\n",
    "# 设置网格搜索的超参数空间\n",
    "n_estimators = randint(1, 5)\n",
    "max_depth = randint(5, 10)\n",
    "param_distributions = dict(n_estimators=n_estimators, max_depth=max_depth)\n",
    "\n",
    "# 实例化一个随机搜索寻找最优参数\n",
    "search = RandomizedSearchCV(RandomForestRegressor(random_state=0), \n",
    "                          n_iter=5,\n",
    "                          param_distributions=param_distributions,\n",
    "                          random_state=0)\n",
    "# 使用随机搜索训练模型\n",
    "search.fit(X, Y)  # 还记得吗？使用交叉验证不需要手动划分训练集和数据集，scikit-learn 会帮我们自动划分。\n",
    "\n",
    "# 得到最优参数及最优模型预测分数\n",
    "print(f\"最优的参数是： {search.best_params_} ，其得分为 {search.best_score_}\")"
   ]
  },
  {
   "attachments": {},
   "cell_type": "markdown",
   "metadata": {},
   "source": [
    "## 总结 <a id='summary'></a>\n",
    "\n",
    "在本教程中，您学习了在 Scikit-Learn 的一些基础方法。 \n",
    "\n",
    "具体而言，您了解到： \n",
    "- 使用 Scikit-Learn 快速创建某一类型的数据或加载现有数据。\n",
    "- 对数据进行预处理，例如归一化于标准化，以及快速划分数据集。\n",
    "- 进行特征选择的一些方法，例如过滤法、包装法及嵌入法。\n",
    "- 使用 Scikit-Learn 的范式快速建立机器学习模型。\n",
    "- 使用 sklearn.metric 来评价模型质量。\n",
    "- 使用交叉验证以及自动查找最佳的评估器参数。\n",
    " \n",
    "你有什么问题吗？ 欢迎与我们联系 [bohrium@dp.tech](mailto:bohrium@dp.tech) 。"
   ]
  },
  {
   "attachments": {},
   "cell_type": "markdown",
   "metadata": {},
   "source": [
    "## 进一步阅读 <a id='furtherreading'></a>\n",
    "\n",
    "如果您希望更深入学习 Scikit-Learn 及机器学习，本节提供有关该主题的更多资源。\n",
    "\n",
    "**书籍**\n",
    "\n",
    "- [Machine Learning](https://link.springer.com/book/10.1007%2F978-981-15-1967-3), 2021.\n",
    "\n",
    "**Scikit-Learn 项目**\n",
    "\n",
    "- [Scikit-Learn Homepage](https://scikit-learn.org/stable/).\n",
    "- [Scikit-Learn Documentation](https://scikit-learn.org/stable/user_guide.html)\n",
    "- [Scikit-Learn Installation Guide](https://scikit-learn.org/stable/install.html)\n",
    "- [Scikit-Learn, Wikipedia](https://zh.wikipedia.org/wiki/Scikit-learn).\n",
    "- [Scikit-Learn on GitHub](https://github.com/scikit-learn/scikit-learn)."
   ]
  },
  {
   "attachments": {},
   "cell_type": "markdown",
   "metadata": {},
   "source": [
    "## 参考\n",
    "\n",
    "1. https://github.com/scikit-learn/scikit-learn\n",
    "2. https://zh.wikipedia.org/wiki/Scikit-learn\n",
    "3. https://scikit-learn.org/stable/index.html"
   ]
  }
 ],
 "metadata": {
  "kernelspec": {
   "display_name": "ML_env",
   "language": "python",
   "name": "python3"
  },
  "language_info": {
   "codemirror_mode": {
    "name": "ipython",
    "version": 3
   },
   "file_extension": ".py",
   "mimetype": "text/x-python",
   "name": "python",
   "nbconvert_exporter": "python",
   "pygments_lexer": "ipython3",
   "version": "3.9.12"
  },
  "orig_nbformat": 4
 },
 "nbformat": 4,
 "nbformat_minor": 2
}
