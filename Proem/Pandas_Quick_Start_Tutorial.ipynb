{
 "cells": [
  {
   "attachments": {},
   "cell_type": "markdown",
   "metadata": {},
   "source": [
    "# 快速开始 Pandas｜了解 Pandas 的数据结构并实现常用的表格操作\n",
    "\n",
    "> 作者: Haohui Que [quehaohui@dp.tech](mailto:quehaohui@dp.tech)\n",
    ">\n",
    "> 创建日期: 2023-03-15 19:13\n",
    ">\n",
    "> 最后一次修改: Haohui Que [quehaohui@dp.tech](mailto:quehaohui@dp.tech), \n",
    ">\n",
    "> 最后一次修改时间: 2023-03-16 12:06\n",
    ">\n",
    "> 目录: /Proem/Pandas_Quick_Start_Tutorial.ipynb\n",
    ">\n",
    "> 描述: 本教程主要参考 [1]，可在 Bohrium Notebook 上直接运行。你可以点击界面上方蓝色按钮 `开始连接`，选择 `bohrium-notebook:2023-02-28` 镜像及任何一款节点配置，稍等片刻即可运行。\n",
    "> 如您遇到任何问题，请联系 [bohrium@dp.tech](mailto:bohrium@dp.tech) 。\n",
    ">\n",
    "> 共享协议: 本作品采用[知识共享署名-非商业性使用-相同方式共享 4.0 国际许可协议](https://creativecommons.org/licenses/by-nc-sa/4.0/)进行许可。"
   ]
  },
  {
   "attachments": {},
   "cell_type": "markdown",
   "metadata": {},
   "source": [
    "# 目标\n",
    "\n",
    "> **了解 Pandas 的数据结构并实现常用的表格操作。**\n",
    "\n",
    "在学习本教程后，你将能够：\n",
    "\n"
   ]
  },
  {
   "attachments": {},
   "cell_type": "markdown",
   "metadata": {},
   "source": [
    "# 目录\n",
    "\n",
    "![pandas](https://camo.githubusercontent.com/981d48e57e23a4907cebc4eb481799b5882595ea978261f22a3e131dcd6ebee6/68747470733a2f2f70616e6461732e7079646174612e6f72672f7374617469632f696d672f70616e6461732e737667)\n",
    "\n",
    "* [背景](#background)\n",
    "* [实践](#practice)\n",
    "  * [1 认识 Pandas](#whatispandas)\n",
    "    * [1.1 什么是 Pandas](#1-1)\n",
    "    * [1.2 安装 Pandas【Bohrium 中可直接运行，无需安装】](#1-2)\n",
    "    * [1.3 验证安装并查看 Pandas 版本](#1-3)\n",
    "  * [2 Pandas 方法](#pandasfeatures)\n",
    "    * [2.1 创建对象](#2-1)\n",
    "    * [2.2 查看数据](#2-2)\n",
    "    * [2.3 选择数据](#2-3)\n",
    "    * [2.4 删除缺失值](#2-4)\n",
    "    * [2.5 操作数据](#2-5)\n",
    "    * [2.6 合并表格](#2-6)\n",
    "    * [2.7 数据分组](#2-7)\n",
    "    * [2.8 改变数据结构](#2-8)\n",
    "    * [2.9 时间序列](#2-9)\n",
    "    * [2.10 分类数据](#2-10)\n",
    "    * [2.11 绘图](#2-11)\n",
    "    * [2.12 读取与导出数据](#2-12)\n",
    "* [总结](#summary)\n",
    "* [进一步阅读](#furtherreading)\n",
    "* [参考资料](#references)\n",
    "\n",
    "**阅读该教程【最多】约需 30 分钟，让我们开始吧！**"
   ]
  },
  {
   "attachments": {},
   "cell_type": "markdown",
   "metadata": {},
   "source": [
    "# 背景 <a id ='background'></a>\n",
    "\n",
    "这是对 Pandas 的简短介绍，主要面向新用户。您可以在[这里](https://pandas.pydata.org/docs/user_guide/cookbook.html#cookbook)查看更进一步的教程。\n",
    "\n",
    "**你需要提前掌握以下知识：**\n",
    "- 非常基本的 Python 知识\n"
   ]
  },
  {
   "cell_type": "markdown",
   "metadata": {},
   "source": [
    "# 实践 <a id='practice'></a>"
   ]
  },
  {
   "attachments": {},
   "cell_type": "markdown",
   "metadata": {},
   "source": [
    "# 1 认识 Pandas\n",
    "\n",
    "在这一部分，你会了解什么是 Pandas，在 Bohrium 中使用 Pandas，验证安装并查看版本。"
   ]
  },
  {
   "attachments": {},
   "cell_type": "markdown",
   "metadata": {},
   "source": [
    "### 1.1 什么是 Pandas <a id='1-1'></a>\n",
    "\n",
    "Pandas 是一个用于处理数据集的 Python 库。它具有分析、清理、探索和操作数据的功能。 “Pandas”这个名称参考了“Panel Data”和“Python Data Analysis”，由 Wes McKinney 于 2008 年创建。Pandas 广泛用于数据科学、数据分析和机器学习任务。\n",
    "\n",
    "官方强调了其如下显著特点[4]：\n",
    "\n",
    "* 轻松处理浮点数和非浮点数中的 [**缺失数据**](https://pandas.pydata.org/pandas-docs/stable/user_guide/missing_data.html)（表示为 `NaN`、`NA` 或 `NaT`）\n",
    "\n",
    "* 大小可变性：可以从 DataFrame 和更高维度的对象中[**插入和删除**](https://pandas.pydata.org/pandas-docs/stable/user_guide/dsintro.html#column-selection-addition-deletion) 列。\n",
    "\n",
    "* 自动和显式[数据对齐](https://pandas.pydata.org/pandas-docs/stable/user_guide/dsintro.html?highlight=alignment#intro-to-data-structures)，对象可以显式地对齐到一组标签，或者用户可以简单地忽略标签，让 Series、DataFrame 等在计算中自动对齐数据。\n",
    "\n",
    "* 提供了强大、灵活的[分组](https://pandas.pydata.org/pandas-docs/stable/user_guide/groupby.html#group-by-split-apply-combine)功能，可以对数据集执行分割-应用-组合操作，用于聚合和转换数据。\n",
    "\n",
    "* 以将 Python 和 NumPy 数据结构中的不同索引、不规则数据[轻松转换](https://pandas.pydata.org/pandas-docs/stable/user_guide/dsintro.html#dataframe)为 DataFrame 对象。\n",
    "\n",
    "\n",
    "* 智能的基于标签的[切片](https://pandas.pydata.org/pandas-docs/stable/user_guide/indexing.html#slicing-ranges)、[花式索引](https://pandas.pydata.org/pandas-docs/stable/user_guide/advanced.html#advanced)和[子集](https://pandas.pydata.org/pandas-docs/stable/user_guide/indexing.html#boolean-indexing)，可用于大型数据集。\n",
    "\n",
    "* 直观的[合并](https://pandas.pydata.org/pandas-docs/stable/user_guide/merging.html#database-style-dataframe-or-named-series-joining-merging)和[连接](https://pandas.pydata.org/pandas-docs/stable/user_guide/merging.html#joining-on-index)数据集的方法。\n",
    "\n",
    "* 数据集的灵活[重塑](https://pandas.pydata.org/pandas-docs/stable/user_guide/reshaping.html)和[透视](https://pandas.pydata.org/pandas-docs/stable/user_guide/reshaping.html)\n",
    "\n",
    "* 轴的[分层](https://pandas.pydata.org/pandas-docs/stable/user_guide/indexing.html#hierarchical-indexing-multiindex)标签（每个刻度可以有多个标签）\n",
    "\n",
    "* 强大的 IO 工具，可从[平面文件](https://pandas.pydata.org/pandas-docs/stable/user_guide/io.html#csv-text-files)（CSV 和分隔符）、Excel 文件、数据库加载数据，并从超快的 HDF5 格式保存/加载数据\n",
    "\n",
    "* [时间序列](https://pandas.pydata.org/pandas-docs/stable/user_guide/timeseries.html#time-series-date-functionality)特定功能：日期范围生成和频率转换、移动窗口统计、日期移位和滞后"
   ]
  },
  {
   "attachments": {},
   "cell_type": "markdown",
   "metadata": {},
   "source": [
    "### 1.2 安装 Pandas <a id='1-2'></a>\n",
    "\n",
    "**Bohrium 已默认安装 Pandas，可在 Notebook 上直接运行。** \n",
    "\n",
    "你可以点击界面上方蓝色按钮 `开始连接`，选择 `notebook-Scikit-Learn:2023-02-28` 镜像及任何一款计算机型，稍等片刻即可运行。\n",
    "\n",
    "如果你的 Bohrium 镜像尚未安装 Pandas， 最方便的方法是通过 pip 安装:"
   ]
  },
  {
   "cell_type": "code",
   "execution_count": null,
   "metadata": {},
   "outputs": [
    {
     "name": "stdout",
     "output_type": "stream",
     "text": [
      "Requirement already satisfied: scikit-learn in /opt/anaconda3/envs/ML_env/lib/python3.9/site-packages (1.2.0)\n",
      "Requirement already satisfied: threadpoolctl>=2.0.0 in /opt/anaconda3/envs/ML_env/lib/python3.9/site-packages (from scikit-learn) (3.1.0)\n",
      "Requirement already satisfied: joblib>=1.1.1 in /opt/anaconda3/envs/ML_env/lib/python3.9/site-packages (from scikit-learn) (1.2.0)\n",
      "Requirement already satisfied: scipy>=1.3.2 in /opt/anaconda3/envs/ML_env/lib/python3.9/site-packages (from scikit-learn) (1.9.3)\n",
      "Requirement already satisfied: numpy>=1.17.3 in /opt/anaconda3/envs/ML_env/lib/python3.9/site-packages (from scikit-learn) (1.23.4)\n"
     ]
    }
   ],
   "source": [
    "! pip install pandas"
   ]
  },
  {
   "attachments": {},
   "cell_type": "markdown",
   "metadata": {},
   "source": [
    "如果你需要使用更特定于你的平台或包管理器的安装方法，你可以在[这里](https://pandas.pydata.org/docs/getting_started/install.html)查看更完整的安装说明。\n"
   ]
  },
  {
   "attachments": {},
   "cell_type": "markdown",
   "metadata": {},
   "source": [
    "### 1.3 验证 Pandas 安装并查看版本 <a id='1-3'></a>\n",
    "\n",
    "安装 Pandas 后，确认库已成功安装并且你可以开始使用它。 \n",
    "\n",
    "不要跳过此步骤。 \n",
    "\n",
    "如果 Pandas 未正确安装或在此步骤中引发错误，则将无法运行之后的示例。"
   ]
  },
  {
   "cell_type": "code",
   "execution_count": null,
   "metadata": {},
   "outputs": [
    {
     "name": "stdout",
     "output_type": "stream",
     "text": [
      "1.2.0\n"
     ]
    }
   ],
   "source": [
    "import sklearn\n",
    "print(sklearn.__version__)  # sklearn.__version__ 返回安装的 Scikit-Learn 的版本号"
   ]
  },
  {
   "attachments": {},
   "cell_type": "markdown",
   "metadata": {},
   "source": [
    "## 2 Pandas 方法 <a id='pandasfeatures'></a>\n",
    "\n",
    "在这一节中，你会了解到一些 Pandas 的基础方法，包括：\n",
    "- 2.1 创建对象\n",
    "- 2.2 查看数据\n",
    "- 2.3 选择数据\n",
    "- 2.4 删除缺失值\n",
    "- 2.5 操作数据\n",
    "- 2.6 合并表格\n",
    "- 2.7 数据分组\n",
    "- 2.8 改变数据结构\n",
    "- 2.9 时间序列\n",
    "- 2.10 分类数据\n",
    "- 2.11 绘图\n",
    "- 2.12 读取与导出数据"
   ]
  },
  {
   "attachments": {},
   "cell_type": "markdown",
   "metadata": {},
   "source": [
    "### 2.1 创建对象 <a id='2-1'></a>"
   ]
  },
  {
   "attachments": {},
   "cell_type": "markdown",
   "metadata": {},
   "source": [
    "### 2.2 查看数据 <a id='2-2'></a>"
   ]
  },
  {
   "attachments": {},
   "cell_type": "markdown",
   "metadata": {},
   "source": [
    "### 2.3 选择数据 <a id='2-3'></a>"
   ]
  },
  {
   "attachments": {},
   "cell_type": "markdown",
   "metadata": {},
   "source": [
    "### 2.4 删除缺失值 <a id='2-4'></a>"
   ]
  },
  {
   "attachments": {},
   "cell_type": "markdown",
   "metadata": {},
   "source": [
    "### 2.5 操作数据 <a id='2-5'></a>"
   ]
  },
  {
   "attachments": {},
   "cell_type": "markdown",
   "metadata": {},
   "source": [
    "### 2.6 合并表格 <a id='2-6'></a>"
   ]
  },
  {
   "attachments": {},
   "cell_type": "markdown",
   "metadata": {},
   "source": [
    "### 2.7 数据分组 <a id='2-7'></a>"
   ]
  },
  {
   "attachments": {},
   "cell_type": "markdown",
   "metadata": {},
   "source": [
    "### 2.8 改变数据结构 <a id='2-8'></a>"
   ]
  },
  {
   "attachments": {},
   "cell_type": "markdown",
   "metadata": {},
   "source": [
    "### 2.9 时间序列 <a id='2-9'></a>"
   ]
  },
  {
   "attachments": {},
   "cell_type": "markdown",
   "metadata": {},
   "source": [
    "### 2.10 分类数据 <a id='2-10'></a>"
   ]
  },
  {
   "attachments": {},
   "cell_type": "markdown",
   "metadata": {},
   "source": [
    "### 2.11 绘图 <a id='2-11'></a>"
   ]
  },
  {
   "attachments": {},
   "cell_type": "markdown",
   "metadata": {},
   "source": [
    "### 2.12 读取与导出数据 <a id='2-12'></a>"
   ]
  },
  {
   "attachments": {},
   "cell_type": "markdown",
   "metadata": {},
   "source": [
    "# 总结 <a id='summary'></a>\n",
    "\n",
    "在本教程中，您学习了在 Pandas 的一些基础方法。 \n",
    "\n",
    "具体而言，您了解到： \n",
    "- 使用 Pandas 创建、读取或导出数据\n",
    "- 查看或选择数据，对数据进行处理（选择，删除，分组，分类等）\n",
    "- 表格处理，例如多表合并，改变表的数据结构\n",
    "- 使用 Pandas 时间序列数据\n",
    "- 结合 matplotlib 对 Pandas 数据进行绘图\n",
    " \n",
    "你有什么问题吗？ 欢迎与我们联系 [bohrium@dp.tech](mailto:bohrium@dp.tech) 。"
   ]
  },
  {
   "attachments": {},
   "cell_type": "markdown",
   "metadata": {},
   "source": [
    "# 进一步阅读 <a id='furtherreading'></a>\n",
    "\n",
    "如果您希望更深入学习 Pandas 及 Python 数据分析，本节提供有关该主题的更多资源。\n",
    "\n",
    "**书籍**\n",
    "\n",
    "- [Python for Data Analysis](https://amzn.to/3DyLaJc), 2021.\n",
    "\n",
    "**Scikit-Learn 项目**\n",
    "\n",
    "- [Scikit-Learn Homepage](https://scikit-learn.org/stable/).\n",
    "- [Scikit-Learn Documentation](https://scikit-learn.org/stable/user_guide.html)\n",
    "- [Scikit-Learn Installation Guide](https://scikit-learn.org/stable/install.html)\n",
    "- [Scikit-Learn, Wikipedia](https://zh.wikipedia.org/wiki/Scikit-learn).\n",
    "- [Scikit-Learn on GitHub](https://github.com/scikit-learn/scikit-learn)."
   ]
  },
  {
   "attachments": {},
   "cell_type": "markdown",
   "metadata": {},
   "source": [
    "# 参考\n",
    "\n",
    "1. https://pandas.pydata.org/docs/user_guide/10min.html#min\n",
    "2. https://pandas.pydata.org\n",
    "3. https://amzn.to/3DyLaJc\n",
    "4. https://github.com/pandas-dev/pandas"
   ]
  }
 ],
 "metadata": {
  "kernelspec": {
   "display_name": "ML_env",
   "language": "python",
   "name": "python3"
  },
  "language_info": {
   "name": "python",
   "version": "3.9.12"
  },
  "orig_nbformat": 4
 },
 "nbformat": 4,
 "nbformat_minor": 2
}
