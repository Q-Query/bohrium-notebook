{
 "cells": [
  {
   "attachments": {},
   "cell_type": "markdown",
   "metadata": {},
   "source": [
    "# 快速开始 Pandas｜了解 Pandas 的数据结构并实现常用的表格操作\n",
    "\n",
    "> 作者: Haohui Que [quehaohui@dp.tech](mailto:quehaohui@dp.tech)\n",
    ">\n",
    "> 创建日期: 2023-03-14 19:13\n",
    ">\n",
    "> 最后一次修改: Haohui Que [quehaohui@dp.tech](mailto:quehaohui@dp.tech), \n",
    ">\n",
    "> 最后一次修改时间: 2023-03-15 12:06\n",
    ">\n",
    "> 目录: /Proem/Pandas_Quick_Start_Tutorial.ipynb\n",
    ">\n",
    "> 描述: 本教程主要参考 [1]，可在 Bohrium Notebook 上直接运行。你可以点击界面上方蓝色按钮 `开始连接`，选择 `bohrium-notebook:2023-02-28` 镜像及任何一款节点配置，稍等片刻即可运行。\n",
    "> 如您遇到任何问题，请联系 [bohrium@dp.tech](mailto:bohrium@dp.tech) 。\n",
    ">\n",
    "> 共享协议: 本作品采用[知识共享署名-非商业性使用-相同方式共享 4.0 国际许可协议](https://creativecommons.org/licenses/by-nc-sa/4.0/)进行许可。"
   ]
  },
  {
   "cell_type": "markdown",
   "metadata": {},
   "source": [
    "# 目标\n",
    "\n",
    "> **了解 Scikit-Learn 在建立机器学习模型中的基础功能，并能够使用 Scikit-Learn 的范式快速建立机器学习模型。。**\n",
    "\n",
    "在学习本教程后，你将能够：\n",
    "\n",
    "- 使用 Scikit-Learn 快速创建某一类型的数据或加载现有数据。\n",
    "- 对数据进行预处理，例如归一化于标准化，以及快速划分数据集。\n",
    "- 进行特征选择的一些方法，例如过滤法、包装法及嵌入法。\n",
    "- 使用 Scikit-Learn 的范式快速建立机器学习模型。\n",
    "- 使用 sklearn.metric 来评价模型质量。\n",
    "- 使用交叉验证以及自动查找最佳的评估器参数。"
   ]
  },
  {
   "cell_type": "markdown",
   "metadata": {},
   "source": [
    "# 目录\n",
    "\n",
    "![scikit-learn](https://raw.githubusercontent.com/scikit-learn/scikit-learn/main/doc/logos/scikit-learn-logo.png)\n",
    "\n",
    "* [背景](#background)\n",
    "* [实践](#practice)\n",
    "  * [1 认识 Scikit-Learn](#whatisscikitlearn)\n",
    "    * [1.1 什么是 Scikit-Learn](#1-1)\n",
    "    * [1.2 安装 Scikit-Learn【Bohrium 中可直接运行，无需安装】](#1-2)\n",
    "    * [1.3 验证安装并查看 Scikit-Learn 版本](#1-3)\n",
    "  * [2 Scikit-Learn 方法](#sklearnfeatures)\n",
    "    * [2.1 提供数据集](#2-1)\n",
    "      * [2.1.1 自建数据集](#2-1-1)\n",
    "      * [2.1.2 使用 Scikit-Learn 提供的数据集](#2-1-2)\n",
    "    * [2.2 数据预处理](#2-2)\n",
    "      * [2.2.1 归一化](#2-2-1)\n",
    "      * [2.2.2 标准化](#2-2-2)\n",
    "    * [2.3 快速划分数据集](#2-3)\n",
    "    * [2.4 特征选择](#2-4)\n",
    "      * [2.4.1 过滤法](#2-4-1)\n",
    "      * [2.4.2 包装法](#2-4-2)\n",
    "      * [2.4.3 嵌入法](#2-4-3)\n",
    "    * [2.5 建立模型](#2-5)\n",
    "    * [2.6 评价指标](#2-6)\n",
    "      * [2.6.1 平均绝对误差 MAE](#2-6-1)\n",
    "      * [2.6.2 均方误差 MSE](#2-6-2)\n",
    "      * [2.6.3 决定系数 $R^2$](#2-6-3)\n",
    "    * [2.7 交叉验证](#2-7)\n",
    "    * [2.8 参数优化](#2-8)\n",
    "* [总结](#summary)\n",
    "* [进一步阅读](#furtherreading)\n",
    "* [参考资料](#references)\n",
    "\n",
    "**阅读该教程【最多】约需 30 分钟，让我们开始吧！**"
   ]
  },
  {
   "cell_type": "markdown",
   "metadata": {},
   "source": [
    "# 背景 <a id ='background'></a>\n",
    "\n",
    "本指南的目的是说明 scikit-learn 提供的一些主要功能。Scikit-learn是一个开源机器学习库，支持监督和无监督学习。它还为模型拟合、数据预处理、模型选择、模型评估和许多其他实用程序提供了各种工具。\n",
    "\n",
    "**你需要提前掌握以下知识：**\n",
    "- 非常基本的机器学习实践的工作知识（了解特征、标签、训练集、测试集等）\n"
   ]
  },
  {
   "cell_type": "markdown",
   "metadata": {},
   "source": [
    "# 实践 <a id='practice'></a>"
   ]
  },
  {
   "cell_type": "markdown",
   "metadata": {},
   "source": [
    "# 总结 <a id='summary'></a>\n",
    "\n",
    "在本教程中，您学习了在 Scikit-Learn 的一些基础方法。 \n",
    "\n",
    "具体而言，您了解到： \n",
    "- 使用 Scikit-Learn 快速创建某一类型的数据或加载现有数据。\n",
    "- 对数据进行预处理，例如归一化于标准化，以及快速划分数据集。\n",
    "- 进行特征选择的一些方法，例如过滤法、包装法及嵌入法。\n",
    "- 使用 Scikit-Learn 的范式快速建立机器学习模型。\n",
    "- 使用 sklearn.metric 来评价模型质量。\n",
    "- 使用交叉验证以及自动查找最佳的评估器参数。\n",
    " \n",
    "你有什么问题吗？ 欢迎与我们联系 [bohrium@dp.tech](mailto:bohrium@dp.tech) 。"
   ]
  },
  {
   "cell_type": "markdown",
   "metadata": {},
   "source": [
    "# 进一步阅读 <a id='furtherreading'></a>\n",
    "\n",
    "如果您希望更深入学习 Scikit-Learn 及机器学习，本节提供有关该主题的更多资源。\n",
    "\n",
    "**书籍**\n",
    "\n",
    "- [Machine Learning](https://link.springer.com/book/10.1007%2F978-981-15-1967-3), 2021.\n",
    "\n",
    "**Scikit-Learn 项目**\n",
    "\n",
    "- [Scikit-Learn Homepage](https://scikit-learn.org/stable/).\n",
    "- [Scikit-Learn Documentation](https://scikit-learn.org/stable/user_guide.html)\n",
    "- [Scikit-Learn Installation Guide](https://scikit-learn.org/stable/install.html)\n",
    "- [Scikit-Learn, Wikipedia](https://zh.wikipedia.org/wiki/Scikit-learn).\n",
    "- [Scikit-Learn on GitHub](https://github.com/scikit-learn/scikit-learn)."
   ]
  },
  {
   "cell_type": "markdown",
   "metadata": {},
   "source": [
    "# 参考\n",
    "\n",
    "1. https://github.com/scikit-learn/scikit-learn\n",
    "2. https://zh.wikipedia.org/wiki/Scikit-learn\n",
    "3. https://scikit-learn.org/stable/index.html"
   ]
  }
 ],
 "metadata": {
  "language_info": {
   "name": "python"
  },
  "orig_nbformat": 4
 },
 "nbformat": 4,
 "nbformat_minor": 2
}
