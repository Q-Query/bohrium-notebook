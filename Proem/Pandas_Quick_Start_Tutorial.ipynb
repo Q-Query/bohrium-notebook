{
 "cells": [
  {
   "attachments": {},
   "cell_type": "markdown",
   "metadata": {},
   "source": [
    "# 快速开始 Pandas｜了解 Pandas 的数据结构并实现常用的表格操作\n",
    "\n",
    "> 作者: Haohui Que [quehaohui@dp.tech](mailto:quehaohui@dp.tech)\n",
    ">\n",
    "> 创建日期: 2023-03-15 19:13\n",
    ">\n",
    "> 最后一次修改: Haohui Que [quehaohui@dp.tech](mailto:quehaohui@dp.tech), \n",
    ">\n",
    "> 最后一次修改时间: 2023-03-16 12:06\n",
    ">\n",
    "> 目录: /Proem/Pandas_Quick_Start_Tutorial.ipynb\n",
    ">\n",
    "> 描述: 本教程主要参考 [1]，可在 Bohrium Notebook 上直接运行。你可以点击界面上方蓝色按钮 `开始连接`，选择 `bohrium-notebook:2023-02-28` 镜像及任何一款节点配置，稍等片刻即可运行。\n",
    "> 如您遇到任何问题，请联系 [bohrium@dp.tech](mailto:bohrium@dp.tech) 。\n",
    ">\n",
    "> 共享协议: 本作品采用[知识共享署名-非商业性使用-相同方式共享 4.0 国际许可协议](https://creativecommons.org/licenses/by-nc-sa/4.0/)进行许可。"
   ]
  },
  {
   "attachments": {},
   "cell_type": "markdown",
   "metadata": {},
   "source": [
    "# 目标\n",
    "\n",
    "> **了解 Pandas 的数据结构并实现常用的表格操作。**\n",
    "\n",
    "在学习本教程后，你将能够：\n",
    "\n"
   ]
  },
  {
   "attachments": {},
   "cell_type": "markdown",
   "metadata": {},
   "source": [
    "# 目录\n",
    "\n",
    "![pandas](https://numfocus.org/wp-content/uploads/2016/07/pandas-logo-300.png)\n",
    "\n",
    "* [背景](#background)\n",
    "* [实践](#practice)\n",
    "  * [1 认识 Pandas](#whatispandas)\n",
    "    * [1.1 什么是 Pandas](#1-1)\n",
    "    * [1.2 安装 Pandas【Bohrium 中可直接运行，无需安装】](#1-2)\n",
    "    * [1.3 验证安装并查看 Pandas 版本](#1-3)\n",
    "  * [2 Pandas 方法](#pandasfeatures)\n",
    "    * [2.1 创建对象](#2-1)\n",
    "    * [2.2 查看数据](#2-2)\n",
    "    * [2.3 选择数据](#2-3)\n",
    "    * [2.4 删除缺失值](#2-4)\n",
    "    * [2.5 操作数据](#2-5)\n",
    "    * [2.6 合并表格](#2-6)\n",
    "    * [2.7 数据分组](#2-7)\n",
    "    * [2.8 改变数据结构](#2-8)\n",
    "    * [2.9 时间序列](#2-9)\n",
    "    * [2.10 分类数据](#2-10)\n",
    "    * [2.11 绘图](#2-11)\n",
    "    * [2.12 读取与导出数据](#2-12)\n",
    "* [总结](#summary)\n",
    "* [进一步阅读](#furtherreading)\n",
    "* [参考资料](#references)\n",
    "\n",
    "**阅读该教程【最多】约需 30 分钟，让我们开始吧！**"
   ]
  },
  {
   "attachments": {},
   "cell_type": "markdown",
   "metadata": {},
   "source": [
    "# 背景 <a id ='background'></a>\n",
    "\n",
    "这是对 Pandas 的简短介绍，主要面向新用户。您可以在[这里](https://pandas.pydata.org/docs/user_guide/cookbook.html#cookbook)查看更进一步的教程。\n",
    "\n",
    "**你需要提前掌握以下知识：**\n",
    "- 非常基本的 Python 知识\n"
   ]
  },
  {
   "cell_type": "markdown",
   "metadata": {},
   "source": [
    "# 实践 <a id='practice'></a>"
   ]
  },
  {
   "attachments": {},
   "cell_type": "markdown",
   "metadata": {},
   "source": [
    "## 2 Pandas 方法 <a id='pandasfeatures'></a>\n",
    "\n",
    "在这一节中，你会了解到一些 Pandas 的基础方法，包括：\n",
    "- 2.1 创建对象\n",
    "- 2.2 查看数据\n",
    "- 2.3 选择数据\n",
    "- 2.4 删除缺失值\n",
    "- 2.5 操作数据\n",
    "- 2.6 合并表格\n",
    "- 2.7 数据分组\n",
    "- 2.8 改变数据结构\n",
    "- 2.9 时间序列\n",
    "- 2.10 分类数据\n",
    "- 2.11 绘图\n",
    "- 2.12 读取与导出数据"
   ]
  },
  {
   "attachments": {},
   "cell_type": "markdown",
   "metadata": {},
   "source": [
    "### 2.1 创建对象 <a id='2-1'></a>"
   ]
  },
  {
   "attachments": {},
   "cell_type": "markdown",
   "metadata": {},
   "source": [
    "### 2.2 查看数据 <a id='2-2'></a>"
   ]
  },
  {
   "attachments": {},
   "cell_type": "markdown",
   "metadata": {},
   "source": [
    "### 2.3 选择数据 <a id='2-3'></a>"
   ]
  },
  {
   "attachments": {},
   "cell_type": "markdown",
   "metadata": {},
   "source": [
    "### 2.4 删除缺失值 <a id='2-4'></a>"
   ]
  },
  {
   "attachments": {},
   "cell_type": "markdown",
   "metadata": {},
   "source": [
    "### 2.5 操作数据 <a id='2-5'></a>"
   ]
  },
  {
   "attachments": {},
   "cell_type": "markdown",
   "metadata": {},
   "source": [
    "### 2.6 合并表格 <a id='2-6'></a>"
   ]
  },
  {
   "attachments": {},
   "cell_type": "markdown",
   "metadata": {},
   "source": [
    "### 2.7 数据分组 <a id='2-7'></a>"
   ]
  },
  {
   "attachments": {},
   "cell_type": "markdown",
   "metadata": {},
   "source": [
    "### 2.8 改变数据结构 <a id='2-8'></a>"
   ]
  },
  {
   "attachments": {},
   "cell_type": "markdown",
   "metadata": {},
   "source": [
    "### 2.9 时间序列 <a id='2-9'></a>"
   ]
  },
  {
   "attachments": {},
   "cell_type": "markdown",
   "metadata": {},
   "source": [
    "### 2.10 分类数据 <a id='2-10'></a>"
   ]
  },
  {
   "attachments": {},
   "cell_type": "markdown",
   "metadata": {},
   "source": [
    "### 2.11 绘图 <a id='2-11'></a>"
   ]
  },
  {
   "attachments": {},
   "cell_type": "markdown",
   "metadata": {},
   "source": [
    "### 2.12 读取与导出数据 <a id='2-12'></a>"
   ]
  },
  {
   "attachments": {},
   "cell_type": "markdown",
   "metadata": {},
   "source": [
    "# 总结 <a id='summary'></a>\n",
    "\n",
    "在本教程中，您学习了在 Pandas 的一些基础方法。 \n",
    "\n",
    "具体而言，您了解到： \n",
    "- 使用 Pandas 创建、读取或导出数据\n",
    "- 查看或选择数据，对数据进行处理（选择，删除，分组，分类等）\n",
    "- 表格处理，例如多表合并，改变表的数据结构\n",
    "- 使用 Pandas 时间序列数据\n",
    "- 结合 matplotlib 对 Pandas 数据进行绘图\n",
    " \n",
    "你有什么问题吗？ 欢迎与我们联系 [bohrium@dp.tech](mailto:bohrium@dp.tech) 。"
   ]
  },
  {
   "attachments": {},
   "cell_type": "markdown",
   "metadata": {},
   "source": [
    "# 进一步阅读 <a id='furtherreading'></a>\n",
    "\n",
    "如果您希望更深入学习 Pandas 及 Python 数据分析，本节提供有关该主题的更多资源。\n",
    "\n",
    "**书籍**\n",
    "\n",
    "- [Python for Data Analysis](https://amzn.to/3DyLaJc), 2021.\n",
    "\n",
    "**Scikit-Learn 项目**\n",
    "\n",
    "- [Scikit-Learn Homepage](https://scikit-learn.org/stable/).\n",
    "- [Scikit-Learn Documentation](https://scikit-learn.org/stable/user_guide.html)\n",
    "- [Scikit-Learn Installation Guide](https://scikit-learn.org/stable/install.html)\n",
    "- [Scikit-Learn, Wikipedia](https://zh.wikipedia.org/wiki/Scikit-learn).\n",
    "- [Scikit-Learn on GitHub](https://github.com/scikit-learn/scikit-learn)."
   ]
  },
  {
   "attachments": {},
   "cell_type": "markdown",
   "metadata": {},
   "source": [
    "# 参考\n",
    "\n",
    "1. https://pandas.pydata.org/docs/user_guide/10min.html#min\n",
    "2. https://pandas.pydata.org\n",
    "3. https://amzn.to/3DyLaJc"
   ]
  }
 ],
 "metadata": {
  "language_info": {
   "name": "python"
  },
  "orig_nbformat": 4
 },
 "nbformat": 4,
 "nbformat_minor": 2
}
